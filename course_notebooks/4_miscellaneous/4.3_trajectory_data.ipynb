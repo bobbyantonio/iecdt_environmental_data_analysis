{
 "cells": [
  {
   "cell_type": "markdown",
   "id": "66eb62b4-7477-4c51-9b34-b2f47a9f24f2",
   "metadata": {},
   "source": [
    "# Trajectory data\n",
    "\n",
    "In this notebook, we will explore some trajectory data, and more advanced ways of colocating it with other data sources"
   ]
  },
  {
   "cell_type": "code",
   "execution_count": null,
   "id": "610f4029-4ec2-469b-822c-e2cf1d9fa40a",
   "metadata": {},
   "outputs": [],
   "source": [
    "import pathlib\n",
    "from datetime import datetime\n",
    "import numpy as np\n",
    "import xarray as xr\n",
    "import matplotlib.pyplot as plt\n",
    "import cartopy.crs as ccrs"
   ]
  },
  {
   "cell_type": "markdown",
   "id": "2b0cb8a3-26b8-4204-ae5e-fdf8eb62b9d9",
   "metadata": {},
   "source": [
    "## Loading data\n",
    "The data we will be using is from the International Best Track Archive for Climate Stewardship(IBTrACS). This dataset contains the trajectories of past tropical cyclones, including their location, over their lifetimes."
   ]
  },
  {
   "cell_type": "code",
   "execution_count": null,
   "id": "00014959-ddf6-400b-8daa-01b415eb8406",
   "metadata": {},
   "outputs": [],
   "source": [
    "data_path = pathlib.Path(\"../../data_samples\")\n",
    "\n",
    "ibtracs_file = data_path / \"trajectory\" / \"IBTrACS.NA.v04r01.nc\"\n",
    "\n",
    "assert ibtracs_file.exists, \"IBTracs file not found!\"\n",
    "\n",
    "ds = xr.open_dataset(ibtracs_file)"
   ]
  },
  {
   "cell_type": "code",
   "execution_count": null,
   "id": "c7c9932f-b371-46f5-bf62-c0f16e3160ab",
   "metadata": {},
   "outputs": [],
   "source": [
    "ds"
   ]
  },
  {
   "cell_type": "markdown",
   "id": "352327c8-7c21-453b-882d-62524b25d791",
   "metadata": {},
   "source": [
    "Now let's isolate a single hurricane --- hurricane Sam from 2021 --- based on its storm ID:"
   ]
  },
  {
   "cell_type": "code",
   "execution_count": null,
   "id": "22d1dca3-8110-422b-a2cd-b981d1dcd9df",
   "metadata": {},
   "outputs": [],
   "source": [
    "sam_sid = b\"2021266N10327\"\n",
    "ds = ds.where(ds.sid==sam_sid, drop=True).squeeze().swap_dims(dict(date_time=\"time\"))"
   ]
  },
  {
   "cell_type": "markdown",
   "id": "1b3ee755-8db6-4f23-b95f-6200dd1e8ec7",
   "metadata": {},
   "source": [
    "The dataset also includes 360 time points to ensure all trajectories fit in the file, even though most are shorter than this. Let's also trim the trajectory to only the points with data present:"
   ]
  },
  {
   "cell_type": "code",
   "execution_count": null,
   "id": "6bfee9d5-606a-4735-90a1-1bbb1ae215ac",
   "metadata": {},
   "outputs": [],
   "source": [
    "ds = ds.isel(time=np.isfinite(ds.time))"
   ]
  },
  {
   "cell_type": "code",
   "execution_count": null,
   "id": "2c8dd980-5420-4143-adc3-fb65c7f6bed3",
   "metadata": {},
   "outputs": [],
   "source": [
    "ds"
   ]
  },
  {
   "cell_type": "markdown",
   "id": "fb80726f-11dd-4253-905b-540c974afeb0",
   "metadata": {},
   "source": [
    "## Plotting a trajectory"
   ]
  },
  {
   "cell_type": "markdown",
   "id": "f10668f8-07f4-4a65-8a9f-f20b182a4c6d",
   "metadata": {},
   "source": [
    "Now let's plot the trajectory on a map:"
   ]
  },
  {
   "cell_type": "code",
   "execution_count": null,
   "id": "4006b6f3-ecc2-4065-a31d-d4011edad1a9",
   "metadata": {},
   "outputs": [],
   "source": [
    "fig, ax = plt.subplots(1,1,subplot_kw=dict(projection=ccrs.PlateCarree()))\n",
    "\n",
    "ax.plot(ds.lon, ds.lat, \"r-\", transform=ccrs.Geodetic())\n",
    "ax.plot(ds.lon[0], ds.lat[0], \"ro\", transform=ccrs.Geodetic())\n",
    "ax.plot(ds.lon[-1], ds.lat[-1], \"rx\", transform=ccrs.Geodetic())\n",
    "ax.coastlines()\n",
    "ax.background_img()\n",
    "ax.set_extent([-65, -20, 5, 60])"
   ]
  },
  {
   "cell_type": "markdown",
   "id": "3e2e9221-7fa5-4a48-b9e6-2a4f514761c4",
   "metadata": {},
   "source": [
    "The trajectory is not only a series of points in space, but also in time. We need to take this into account when comparing to other data!"
   ]
  },
  {
   "cell_type": "markdown",
   "id": "bbc16948-6b4d-40ee-a7c1-e040cefcef3b",
   "metadata": {},
   "source": [
    "## Colocating data with the trajectory:\n",
    "Now let's look into colocating the trajectory with another source of data. The easiest way to do this is using xarray's nearest neighbour search:"
   ]
  },
  {
   "cell_type": "code",
   "execution_count": null,
   "id": "fe74b440-f6a7-432d-9bef-fb04dbe31c3b",
   "metadata": {},
   "outputs": [],
   "source": [
    "# Load some ERA-5 data from the cloud:\n",
    "era5 = xr.open_zarr(\n",
    "    'gs://gcp-public-data-arco-era5/ar/full_37-1h-0p25deg-chunk-1.zarr-v3',\n",
    "    chunks=None,\n",
    "    storage_options=dict(token='anon'),\n",
    ")"
   ]
  },
  {
   "cell_type": "code",
   "execution_count": null,
   "id": "7536a6d7-38b7-4bb8-8d76-bc80217a2144",
   "metadata": {},
   "outputs": [],
   "source": [
    "era5"
   ]
  },
  {
   "cell_type": "code",
   "execution_count": null,
   "id": "dbd8e501-7008-4bf6-ab2a-38debd08bad3",
   "metadata": {},
   "outputs": [],
   "source": [
    "sst = era5.sea_surface_temperature"
   ]
  },
  {
   "cell_type": "code",
   "execution_count": null,
   "id": "b2e79e73-4c21-4cbc-815b-7095d8bea76a",
   "metadata": {},
   "outputs": [],
   "source": [
    "sst.sel(time=ds.time[0],method=\"nearest\").plot()"
   ]
  },
  {
   "cell_type": "code",
   "execution_count": null,
   "id": "ce647e41-36ad-4bcb-ac4d-6452c773c238",
   "metadata": {},
   "outputs": [],
   "source": [
    "sst"
   ]
  },
  {
   "cell_type": "code",
   "execution_count": null,
   "id": "3059c9e8-7b9c-4ed2-abb6-f7bd306922ff",
   "metadata": {},
   "outputs": [],
   "source": [
    "# Now let's index using the lat, lon and time from the hurricane trajectory:\n",
    "sam_sst = sst.sel(time=ds.time, latitude=ds.lat%360, longitude=ds.lon%360, method=\"nearest\")"
   ]
  },
  {
   "cell_type": "code",
   "execution_count": null,
   "id": "8b4d3011-3432-46e9-bfd5-a331ae037ff4",
   "metadata": {},
   "outputs": [],
   "source": [
    "sam_sst.plot()"
   ]
  },
  {
   "cell_type": "markdown",
   "id": "3be4ea68-c36d-4e6f-8316-3de2b6dbdc7b",
   "metadata": {},
   "source": [
    "Nearest neighbour interpolation is simple and quick, but what if we want something a bit more precise? xarray can also be used to interpolate the values at each point along the trajectory:"
   ]
  },
  {
   "cell_type": "code",
   "execution_count": null,
   "id": "eaa2b7ff-4db3-4fb7-b8fd-5add5033f54e",
   "metadata": {},
   "outputs": [],
   "source": [
    "sam_sst_interp = sst.interp(\n",
    "    coords=dict(time=ds.time, latitude=ds.lat%360, longitude=ds.lon%360), \n",
    "    method=\"linear\"\n",
    ")"
   ]
  },
  {
   "cell_type": "code",
   "execution_count": null,
   "id": "83e1a295-e513-4a15-9ed6-3b64574544f4",
   "metadata": {},
   "outputs": [],
   "source": [
    "sam_sst_interp.plot()"
   ]
  },
  {
   "cell_type": "markdown",
   "id": "ce905a43-d3e6-443a-8c8d-dad569ee6874",
   "metadata": {},
   "source": [
    "This is slower as it needs to load more data, but can be more accurate depending on the use case and the resolution of the data being colocated to the trajectory (generally lower resolution data benefits more from interpolation)"
   ]
  },
  {
   "cell_type": "markdown",
   "id": "66a31637-ac3b-493f-9b18-3520ffe51221",
   "metadata": {},
   "source": [
    "## Advanced colocation\n",
    "But what if we wanted to colocate some data that isn't on a nice rectilinear grid (e.g. the MODIS data from the satellite notebook), or what if we want more than just a single point? For more advanced colocation, we can use a useful tool provided by the `scikit-learn` library:\n",
    "\n",
    "To colocate the nearest measurements, we can use a `BallTree`, which is an efficient data structure for finding nearest neighbours"
   ]
  },
  {
   "cell_type": "code",
   "execution_count": null,
   "id": "0d0d8d37-adba-4398-83b0-290a97c4d427",
   "metadata": {},
   "outputs": [],
   "source": [
    "# First create a BallTree using the ERA5 latitude and longitude pairs\n",
    "from sklearn.neighbors import BallTree\n",
    "btree = BallTree(\n",
    "    np.radians( # Note that we need to convert lat/lon to radians for the Haversine distance to work correctly\n",
    "        np.stack(np.meshgrid(sst.latitude, sst.longitude, indexing=\"ij\"), -1).reshape(-1,2) # BallTree needs 1d arrays for each coordinate, so reshape\n",
    "    ), \n",
    "    metric = \"haversine\",\n",
    ")"
   ]
  },
  {
   "cell_type": "markdown",
   "id": "e04da03f-89e2-46e0-8ec6-8fa966a2a852",
   "metadata": {},
   "source": [
    "The advantage of the BallTree is that we only have to compute it once, and then finding points from it is easy and fast.\n",
    "\n",
    "The main method to find nearest neighbours is using the `.query` method, which finds the `k` nearest neighbours (default 1). We can pass multiple points to this and find the indexes of each ones neighbours:"
   ]
  },
  {
   "cell_type": "code",
   "execution_count": null,
   "id": "988a7bc3-483f-4095-9658-7a2802154130",
   "metadata": {},
   "outputs": [],
   "source": [
    "# Now query the BallTree for the nearest neighbour to each Cloudsat lat/lon pair:\n",
    "distances, indexes = btree.query(\n",
    "    np.radians(np.stack([ds.lat, ds.lon], -1)), \n",
    ")"
   ]
  },
  {
   "cell_type": "markdown",
   "id": "1391d937-6ee7-44e9-8a01-f38c706a95c7",
   "metadata": {},
   "source": [
    "This returns an array of the 1D indexes of the nearest points, and an array of the distances (in radians) between the trajectory points and the nearest era5 points"
   ]
  },
  {
   "cell_type": "markdown",
   "id": "7f8939e3-14c3-4ee8-9181-2ab9ed3d250d",
   "metadata": {},
   "source": [
    "#### Exercise:\n",
    "Convert the 1D indexes back into 2D indexes using the `np.unravel_index` function. Find the EAR5 latitude and longitude of each of these points using these new indexes. Do these match the latitude and longitudes that `xarray` returned for the nearest neighbours?"
   ]
  },
  {
   "cell_type": "code",
   "execution_count": null,
   "id": "45dfb1a2-ca34-4cb3-8585-75f0caf62f10",
   "metadata": {},
   "outputs": [],
   "source": [
    "lat_id, lon_id = ..."
   ]
  },
  {
   "cell_type": "markdown",
   "id": "b67b1c98-5175-409d-8bc8-9559ddc50893",
   "metadata": {},
   "source": [
    "Alternatively to finding a fixed number of neighbours, you can also use the BallTree to find all points within a certain distance using the `.query_radius` method."
   ]
  },
  {
   "cell_type": "markdown",
   "id": "86d1de6a-21ee-412c-85d2-b30306442f66",
   "metadata": {},
   "source": [
    "#### Exercise:\n",
    "Find the point at which Hurricane Sam reached its fastest wind speeds. Then, find all the SST values within 1000km of this point. Finally, use `xarray`'s `groupby_bins` function to see how the average SST varies with distance from the hurricane centre.\n",
    "\n",
    "Tips:\n",
    "  - use `.idxmax` to find the coordindates of a dataarray at its max value\n",
    "  - convert distance to radians by dividing the distance by the radius of the Earth, convert radians to distance by multiplying by the Earth radius\n",
    "  - use the keyword `return_distance=True` with `query_radius` to get distances as well as indexes, note that the arrays returned will be length one arrays containing the arrays for the queried point, so make sure to select the 0th item"
   ]
  }
 ],
 "metadata": {
  "kernelspec": {
   "display_name": "Python [conda env:iecdt_eda]",
   "language": "python",
   "name": "conda-env-iecdt_eda-py"
  },
  "language_info": {
   "codemirror_mode": {
    "name": "ipython",
    "version": 3
   },
   "file_extension": ".py",
   "mimetype": "text/x-python",
   "name": "python",
   "nbconvert_exporter": "python",
   "pygments_lexer": "ipython3",
   "version": "3.10.15"
  }
 },
 "nbformat": 4,
 "nbformat_minor": 5
}
