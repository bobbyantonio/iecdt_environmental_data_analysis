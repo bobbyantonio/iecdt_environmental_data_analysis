{
 "cells": [
  {
   "cell_type": "markdown",
   "id": "12af5d32-fb0e-4d53-aa09-dbc89f99b20a",
   "metadata": {},
   "source": [
    "# Using NetCDF files"
   ]
  },
  {
   "cell_type": "markdown",
   "id": "23ce5579-7461-4c19-bd83-aeb485000253",
   "metadata": {},
   "source": [
    "The `data_samples/netcdf/E-OBS` contains data from the E-OBS dataset, which consist in weather station observations interpolated onto a 0.25x0.25° grid over Europe. "
   ]
  },
  {
   "cell_type": "markdown",
   "id": "eb7c083b-a0de-4b36-8108-2959d4ae6253",
   "metadata": {},
   "source": [
    "## 1. Explore and manipulate the data in bash/terminal"
   ]
  },
  {
   "cell_type": "markdown",
   "id": "eac879e0-622b-4810-baf6-84e594918885",
   "metadata": {},
   "source": [
    "Before we actually use Python, we are going to learn how to manipulate NetCDF files using the terminal. You can do the following exercises either switching to the terminal, or you can run shell commands by writing `!command` in a Jupyter Notebook cell. "
   ]
  },
  {
   "cell_type": "code",
   "execution_count": 1,
   "id": "31cd8cee-c4cf-44e8-9c1b-b00e534e73a9",
   "metadata": {},
   "outputs": [
    {
     "name": "stdout",
     "output_type": "stream",
     "text": [
      "\u001b[34mDesktop\u001b[m\u001b[m             \u001b[34mLibrary\u001b[m\u001b[m             \u001b[34mPictures\u001b[m\u001b[m            \u001b[34mZotero\u001b[m\u001b[m\n",
      "\u001b[34mDocuments\u001b[m\u001b[m           \u001b[34mMovies\u001b[m\u001b[m              \u001b[34mPublic\u001b[m\u001b[m              slp?.png\n",
      "\u001b[34mDownloads\u001b[m\u001b[m           \u001b[34mMusic\u001b[m\u001b[m               \u001b[34mSofts\u001b[m\u001b[m\n",
      "\u001b[34mHuracan\u001b[m\u001b[m             \u001b[35mOneDrive - Nexus365\u001b[m\u001b[m \u001b[34mTeaching\u001b[m\u001b[m\n"
     ]
    }
   ],
   "source": [
    "# Example of running shell commands in Jupyter: Display the content of you home\n",
    "!ls ~"
   ]
  },
  {
   "cell_type": "code",
   "execution_count": 2,
   "id": "13379a8c-5677-4311-b925-d57ef3ac1c83",
   "metadata": {},
   "outputs": [
    {
     "name": "stdout",
     "output_type": "stream",
     "text": [
      "\u001b[34mdaily\u001b[m\u001b[m                             rr_ens_mean_0.25deg_reg_v29.0e.nc\n",
      "pp_ens_mean_0.25deg_reg_v29.0e.nc tg_ens_mean_0.25deg_reg_v29.0e.nc\n"
     ]
    }
   ],
   "source": [
    "# Task: Display the list of files available in the data folder\n",
    "!ls ../data_samples/netcdf/E-OBS/"
   ]
  },
  {
   "cell_type": "markdown",
   "id": "597ea79d-cb8b-4d72-9682-0fc9a1ddbce8",
   "metadata": {},
   "source": [
    "Files with extension `.nc` are \"NetCDF\" files. It is a standardized binary format suitable for multi-dimensional data. Binary files cannot be read as easily as the text files you have seen previously (you can try to run `head file.nc`, it will yield something, but nothing you can read with a human brain). You need specific tools to read this type of files. \n",
    "\n",
    "### 1.1. ncdump\n",
    "`ncdump` is the most basic command to check what is in a NetCDF file. Use the `-h` or `-c` option to display the \"header\" of the file, which contains all the essential information. Use the `-v <var>` option to display the content of a specific variable. If you do not specify any option, the whole content of the file is displayed, which, in most cases, will be very long. If you make this mistake, you'll likely need to kill the process (Ctrl+C in the terminal, Stop button in Jupyter). "
   ]
  },
  {
   "cell_type": "code",
   "execution_count": 3,
   "id": "aa1c9662-4f0a-46c9-b2e2-f9a379cbf6d4",
   "metadata": {},
   "outputs": [
    {
     "name": "stdout",
     "output_type": "stream",
     "text": [
      "netcdf tg_ens_mean_0.25deg_reg_v29.0e {\n",
      "dimensions:\n",
      "\ttime = UNLIMITED ; // (888 currently)\n",
      "\tbnds = 2 ;\n",
      "\tlongitude = 464 ;\n",
      "\tlatitude = 201 ;\n",
      "variables:\n",
      "\tint time(time) ;\n",
      "\t\ttime:standard_name = \"time\" ;\n",
      "\t\ttime:long_name = \"Time in days\" ;\n",
      "\t\ttime:bounds = \"time_bnds\" ;\n",
      "\t\ttime:units = \"days since 1950-01-01 00:00\" ;\n",
      "\t\ttime:calendar = \"standard\" ;\n",
      "\t\ttime:axis = \"T\" ;\n",
      "\tdouble time_bnds(time, bnds) ;\n",
      "\tdouble longitude(longitude) ;\n",
      "\t\tlongitude:standard_name = \"longitude\" ;\n",
      "\t\tlongitude:long_name = \"Longitude values\" ;\n",
      "\t\tlongitude:units = \"degrees_east\" ;\n",
      "\t\tlongitude:axis = \"X\" ;\n",
      "\tdouble latitude(latitude) ;\n",
      "\t\tlatitude:standard_name = \"latitude\" ;\n",
      "\t\tlatitude:long_name = \"Latitude values\" ;\n",
      "\t\tlatitude:units = \"degrees_north\" ;\n",
      "\t\tlatitude:axis = \"Y\" ;\n",
      "\tfloat tg(time, latitude, longitude) ;\n",
      "\t\ttg:standard_name = \"air_temperature\" ;\n",
      "\t\ttg:long_name = \"mean temperature\" ;\n",
      "\t\ttg:units = \"Celsius\" ;\n",
      "\t\ttg:_FillValue = -9999.f ;\n",
      "\t\ttg:missing_value = -9999.f ;\n",
      "\t\ttg:cell_methods = \"time: mean\" ;\n",
      "\n",
      "// global attributes:\n",
      "\t\t:CDI = \"Climate Data Interface version 2.4.0 (https://mpimet.mpg.de/cdi)\" ;\n",
      "\t\t:Conventions = \"CF-1.4\" ;\n",
      "\t\t:E-OBS_version = \"29.0e\" ;\n",
      "\t\t:References = \"http://surfobs.climate.copernicus.eu/dataaccess/access_eobs.php\" ;\n",
      "\t\t:history = \"Tue Aug 06 15:05:25 2024: cdo monmean daily/tg_ens_mean_0.25deg_reg_v29.0e.nc tg_ens_mean_0.25deg_reg_v29.0e_monthly.nc\\nFri Mar 22 10:08:04 2024: ncks --no-abc -d time,0,27027 /nobackup_1/users/besselaa/Data/Gridding/EOBSv29.0e/Grid_0.25deg/tg//tg_ensmean_master_rectime.nc /nobackup_1/users/besselaa/Data/Gridding/EOBSv29.0e/Grid_0.25deg/tg//tg_ens_mean_0.25deg_reg_v29.0e.nc\\nFri Mar 22 10:06:58 2024: ncks --no-abc --mk_rec_dmn time /nobackup_1/users/besselaa/Data/Gridding/EOBSv29.0e/Grid_0.25deg/tg//tg_ensmean_master.nc /nobackup_1/users/besselaa/Data/Gridding/EOBSv29.0e/Grid_0.25deg/tg//tg_ensmean_master_rectime.nc\\nFri Mar 22 09:38:20 2024: ncks -O -d time,0,27027 /nobackup_1/users/besselaa/Data/Gridding/EOBSv29.0e/Grid_0.25deg/tg/tg_ensmean_master_untilJan2024.nc /nobackup_1/users/besselaa/Data/Gridding/EOBSv29.0e/Grid_0.25deg/tg/tg_ensmean_master.nc\" ;\n",
      "\t\t:NCO = \"netCDF Operators version 5.1.4 (Homepage = http://nco.sf.net, Code = http://github.com/nco/nco)\" ;\n",
      "\t\t:frequency = \"mon\" ;\n",
      "\t\t:CDO = \"Climate Data Operators version 2.4.0 (https://mpimet.mpg.de/cdo)\" ;\n",
      "}\n"
     ]
    }
   ],
   "source": [
    "# Task: Display the header of one of the file in the E-OBS folder\n",
    "!ncdump -h ../data_samples/netcdf/E-OBS/tg_ens_mean_0.25deg_reg_v29.0e.nc"
   ]
  },
  {
   "cell_type": "markdown",
   "id": "b6b19b3c-8a49-4a6a-b4be-c248712547a4",
   "metadata": {},
   "source": [
    "**Question: Which variable does each file contain? What are the associated units? What are the dimensions of the variables?**\n",
    "\n",
    "**Question: What is the difference between using the `-c` and `-h` commands?**"
   ]
  },
  {
   "cell_type": "code",
   "execution_count": 4,
   "id": "cfa4d174-a356-4905-b1ff-ec267d04e03b",
   "metadata": {},
   "outputs": [
    {
     "name": "stdout",
     "output_type": "stream",
     "text": [
      "netcdf tg_ens_mean_0.25deg_reg_v29.0e {\n",
      "dimensions:\n",
      "\ttime = UNLIMITED ; // (888 currently)\n",
      "\tbnds = 2 ;\n",
      "\tlongitude = 464 ;\n",
      "\tlatitude = 201 ;\n",
      "variables:\n",
      "\tint time(time) ;\n",
      "\t\ttime:standard_name = \"time\" ;\n",
      "\t\ttime:long_name = \"Time in days\" ;\n",
      "\t\ttime:bounds = \"time_bnds\" ;\n",
      "\t\ttime:units = \"days since 1950-01-01 00:00\" ;\n",
      "\t\ttime:calendar = \"standard\" ;\n",
      "\t\ttime:axis = \"T\" ;\n",
      "\tdouble time_bnds(time, bnds) ;\n",
      "\tdouble longitude(longitude) ;\n",
      "\t\tlongitude:standard_name = \"longitude\" ;\n",
      "\t\tlongitude:long_name = \"Longitude values\" ;\n",
      "\t\tlongitude:units = \"degrees_east\" ;\n",
      "\t\tlongitude:axis = \"X\" ;\n",
      "\tdouble latitude(latitude) ;\n",
      "\t\tlatitude:standard_name = \"latitude\" ;\n",
      "\t\tlatitude:long_name = \"Latitude values\" ;\n",
      "\t\tlatitude:units = \"degrees_north\" ;\n",
      "\t\tlatitude:axis = \"Y\" ;\n",
      "\tfloat tg(time, latitude, longitude) ;\n",
      "\t\ttg:standard_name = \"air_temperature\" ;\n",
      "\t\ttg:long_name = \"mean temperature\" ;\n",
      "\t\ttg:units = \"Celsius\" ;\n",
      "\t\ttg:_FillValue = -9999.f ;\n",
      "\t\ttg:missing_value = -9999.f ;\n",
      "\t\ttg:cell_methods = \"time: mean\" ;\n",
      "\n",
      "// global attributes:\n",
      "\t\t:CDI = \"Climate Data Interface version 2.4.0 (https://mpimet.mpg.de/cdi)\" ;\n",
      "\t\t:Conventions = \"CF-1.4\" ;\n",
      "\t\t:E-OBS_version = \"29.0e\" ;\n",
      "\t\t:References = \"http://surfobs.climate.copernicus.eu/dataaccess/access_eobs.php\" ;\n",
      "\t\t:history = \"Tue Aug 06 15:05:25 2024: cdo monmean daily/tg_ens_mean_0.25deg_reg_v29.0e.nc tg_ens_mean_0.25deg_reg_v29.0e_monthly.nc\\nFri Mar 22 10:08:04 2024: ncks --no-abc -d time,0,27027 /nobackup_1/users/besselaa/Data/Gridding/EOBSv29.0e/Grid_0.25deg/tg//tg_ensmean_master_rectime.nc /nobackup_1/users/besselaa/Data/Gridding/EOBSv29.0e/Grid_0.25deg/tg//tg_ens_mean_0.25deg_reg_v29.0e.nc\\nFri Mar 22 10:06:58 2024: ncks --no-abc --mk_rec_dmn time /nobackup_1/users/besselaa/Data/Gridding/EOBSv29.0e/Grid_0.25deg/tg//tg_ensmean_master.nc /nobackup_1/users/besselaa/Data/Gridding/EOBSv29.0e/Grid_0.25deg/tg//tg_ensmean_master_rectime.nc\\nFri Mar 22 09:38:20 2024: ncks -O -d time,0,27027 /nobackup_1/users/besselaa/Data/Gridding/EOBSv29.0e/Grid_0.25deg/tg/tg_ensmean_master_untilJan2024.nc /nobackup_1/users/besselaa/Data/Gridding/EOBSv29.0e/Grid_0.25deg/tg/tg_ensmean_master.nc\" ;\n",
      "\t\t:NCO = \"netCDF Operators version 5.1.4 (Homepage = http://nco.sf.net, Code = http://github.com/nco/nco)\" ;\n",
      "\t\t:frequency = \"mon\" ;\n",
      "\t\t:CDO = \"Climate Data Operators version 2.4.0 (https://mpimet.mpg.de/cdo)\" ;\n",
      "data:\n",
      "\n",
      " latitude = 25.375, 25.625, 25.875, 26.125, 26.375, 26.625, 26.875, 27.125, \n",
      "    27.375, 27.625, 27.875, 28.125, 28.375, 28.625, 28.875, 29.125, 29.375, \n",
      "    29.625, 29.875, 30.125, 30.375, 30.625, 30.875, 31.125, 31.375, 31.625, \n",
      "    31.875, 32.125, 32.375, 32.625, 32.875, 33.125, 33.375, 33.625, 33.875, \n",
      "    34.125, 34.375, 34.625, 34.875, 35.125, 35.375, 35.625, 35.875, 36.125, \n",
      "    36.375, 36.625, 36.875, 37.125, 37.375, 37.625, 37.875, 38.125, 38.375, \n",
      "    38.625, 38.875, 39.125, 39.375, 39.625, 39.875, 40.125, 40.375, 40.625, \n",
      "    40.875, 41.125, 41.375, 41.625, 41.875, 42.125, 42.375, 42.625, 42.875, \n",
      "    43.125, 43.375, 43.625, 43.875, 44.125, 44.375, 44.625, 44.875, 45.125, \n",
      "    45.375, 45.625, 45.875, 46.125, 46.375, 46.625, 46.875, 47.125, 47.375, \n",
      "    47.625, 47.875, 48.125, 48.375, 48.625, 48.875, 49.125, 49.375, 49.625, \n",
      "    49.875, 50.125, 50.375, 50.625, 50.875, 51.125, 51.375, 51.625, 51.875, \n",
      "    52.125, 52.375, 52.625, 52.875, 53.125, 53.375, 53.625, 53.875, 54.125, \n",
      "    54.375, 54.625, 54.875, 55.125, 55.375, 55.625, 55.875, 56.125, 56.375, \n",
      "    56.625, 56.875, 57.125, 57.375, 57.625, 57.875, 58.125, 58.375, 58.625, \n",
      "    58.875, 59.125, 59.375, 59.625, 59.875, 60.125, 60.375, 60.625, 60.875, \n",
      "    61.125, 61.375, 61.625, 61.875, 62.125, 62.375, 62.625, 62.875, 63.125, \n",
      "    63.375, 63.625, 63.875, 64.125, 64.375, 64.625, 64.875, 65.125, 65.375, \n",
      "    65.625, 65.875, 66.125, 66.375, 66.625, 66.875, 67.125, 67.375, 67.625, \n",
      "    67.875, 68.125, 68.375, 68.625, 68.875, 69.125, 69.375, 69.625, 69.875, \n",
      "    70.125, 70.375, 70.625, 70.875, 71.125, 71.375, 71.625, 71.875, 72.125, \n",
      "    72.375, 72.625, 72.875, 73.125, 73.375, 73.625, 73.875, 74.125, 74.375, \n",
      "    74.625, 74.875, 75.125, 75.375 ;\n",
      "}\n",
      "netcdf tg_ens_mean_0.25deg_reg_v29.0e {\n",
      "dimensions:\n",
      "\ttime = UNLIMITED ; // (888 currently)\n",
      "\tbnds = 2 ;\n",
      "\tlongitude = 464 ;\n",
      "\tlatitude = 201 ;\n",
      "variables:\n",
      "\tint time(time) ;\n",
      "\t\ttime:standard_name = \"time\" ;\n",
      "\t\ttime:long_name = \"Time in days\" ;\n",
      "\t\ttime:bounds = \"time_bnds\" ;\n",
      "\t\ttime:units = \"days since 1950-01-01 00:00\" ;\n",
      "\t\ttime:calendar = \"standard\" ;\n",
      "\t\ttime:axis = \"T\" ;\n",
      "\tdouble time_bnds(time, bnds) ;\n",
      "\tdouble longitude(longitude) ;\n",
      "\t\tlongitude:standard_name = \"longitude\" ;\n",
      "\t\tlongitude:long_name = \"Longitude values\" ;\n",
      "\t\tlongitude:units = \"degrees_east\" ;\n",
      "\t\tlongitude:axis = \"X\" ;\n",
      "\tdouble latitude(latitude) ;\n",
      "\t\tlatitude:standard_name = \"latitude\" ;\n",
      "\t\tlatitude:long_name = \"Latitude values\" ;\n",
      "\t\tlatitude:units = \"degrees_north\" ;\n",
      "\t\tlatitude:axis = \"Y\" ;\n",
      "\tfloat tg(time, latitude, longitude) ;\n",
      "\t\ttg:standard_name = \"air_temperature\" ;\n",
      "\t\ttg:long_name = \"mean temperature\" ;\n",
      "\t\ttg:units = \"Celsius\" ;\n",
      "\t\ttg:_FillValue = -9999.f ;\n",
      "\t\ttg:missing_value = -9999.f ;\n",
      "\t\ttg:cell_methods = \"time: mean\" ;\n",
      "\n",
      "// global attributes:\n",
      "\t\t:CDI = \"Climate Data Interface version 2.4.0 (https://mpimet.mpg.de/cdi)\" ;\n",
      "\t\t:Conventions = \"CF-1.4\" ;\n",
      "\t\t:E-OBS_version = \"29.0e\" ;\n",
      "\t\t:References = \"http://surfobs.climate.copernicus.eu/dataaccess/access_eobs.php\" ;\n",
      "\t\t:history = \"Tue Aug 06 15:05:25 2024: cdo monmean daily/tg_ens_mean_0.25deg_reg_v29.0e.nc tg_ens_mean_0.25deg_reg_v29.0e_monthly.nc\\nFri Mar 22 10:08:04 2024: ncks --no-abc -d time,0,27027 /nobackup_1/users/besselaa/Data/Gridding/EOBSv29.0e/Grid_0.25deg/tg//tg_ensmean_master_rectime.nc /nobackup_1/users/besselaa/Data/Gridding/EOBSv29.0e/Grid_0.25deg/tg//tg_ens_mean_0.25deg_reg_v29.0e.nc\\nFri Mar 22 10:06:58 2024: ncks --no-abc --mk_rec_dmn time /nobackup_1/users/besselaa/Data/Gridding/EOBSv29.0e/Grid_0.25deg/tg//tg_ensmean_master.nc /nobackup_1/users/besselaa/Data/Gridding/EOBSv29.0e/Grid_0.25deg/tg//tg_ensmean_master_rectime.nc\\nFri Mar 22 09:38:20 2024: ncks -O -d time,0,27027 /nobackup_1/users/besselaa/Data/Gridding/EOBSv29.0e/Grid_0.25deg/tg/tg_ensmean_master_untilJan2024.nc /nobackup_1/users/besselaa/Data/Gridding/EOBSv29.0e/Grid_0.25deg/tg/tg_ensmean_master.nc\" ;\n",
      "\t\t:NCO = \"netCDF Operators version 5.1.4 (Homepage = http://nco.sf.net, Code = http://github.com/nco/nco)\" ;\n",
      "\t\t:frequency = \"mon\" ;\n",
      "\t\t:CDO = \"Climate Data Operators version 2.4.0 (https://mpimet.mpg.de/cdo)\" ;\n",
      "data:\n",
      "\n",
      " longitude = -40.375, -40.125, -39.875, -39.625, -39.375, -39.125, -38.875, \n",
      "    -38.625, -38.375, -38.125, -37.875, -37.625, -37.375, -37.125, -36.875, \n",
      "    -36.625, -36.375, -36.125, -35.875, -35.625, -35.375, -35.125, -34.875, \n",
      "    -34.625, -34.375, -34.125, -33.875, -33.625, -33.375, -33.125, -32.875, \n",
      "    -32.625, -32.375, -32.125, -31.875, -31.625, -31.375, -31.125, -30.875, \n",
      "    -30.625, -30.375, -30.125, -29.875, -29.625, -29.375, -29.125, -28.875, \n",
      "    -28.625, -28.375, -28.125, -27.875, -27.625, -27.375, -27.125, -26.875, \n",
      "    -26.625, -26.375, -26.125, -25.875, -25.625, -25.375, -25.125, -24.875, \n",
      "    -24.625, -24.375, -24.125, -23.875, -23.625, -23.375, -23.125, -22.875, \n",
      "    -22.625, -22.375, -22.125, -21.875, -21.625, -21.375, -21.125, -20.875, \n",
      "    -20.625, -20.375, -20.125, -19.875, -19.625, -19.375, -19.125, -18.875, \n",
      "    -18.625, -18.375, -18.125, -17.875, -17.625, -17.375, -17.125, -16.875, \n",
      "    -16.625, -16.375, -16.125, -15.875, -15.625, -15.375, -15.125, -14.875, \n",
      "    -14.625, -14.375, -14.125, -13.875, -13.625, -13.375, -13.125, -12.875, \n",
      "    -12.625, -12.375, -12.125, -11.875, -11.625, -11.375, -11.125, -10.875, \n",
      "    -10.625, -10.375, -10.125, -9.875, -9.625, -9.375, -9.125, -8.875, \n",
      "    -8.625, -8.375, -8.125, -7.875, -7.625, -7.375, -7.125, -6.875, -6.625, \n",
      "    -6.375, -6.125, -5.875, -5.625, -5.375, -5.125, -4.875, -4.625, -4.375, \n",
      "    -4.125, -3.875, -3.625, -3.375, -3.125, -2.875, -2.625, -2.375, -2.125, \n",
      "    -1.875, -1.625, -1.375, -1.125, -0.875, -0.625, -0.375, -0.125, 0.125, \n",
      "    0.375, 0.625, 0.875, 1.125, 1.375, 1.625, 1.875, 2.125, 2.375, 2.625, \n",
      "    2.875, 3.125, 3.375, 3.625, 3.875, 4.125, 4.375, 4.625, 4.875, 5.125, \n",
      "    5.375, 5.625, 5.875, 6.125, 6.375, 6.625, 6.875, 7.125, 7.375, 7.625, \n",
      "    7.875, 8.125, 8.375, 8.625, 8.875, 9.125, 9.375, 9.625, 9.875, 10.125, \n",
      "    10.375, 10.625, 10.875, 11.125, 11.375, 11.625, 11.875, 12.125, 12.375, \n",
      "    12.625, 12.875, 13.125, 13.375, 13.625, 13.875, 14.125, 14.375, 14.625, \n",
      "    14.875, 15.125, 15.375, 15.625, 15.875, 16.125, 16.375, 16.625, 16.875, \n",
      "    17.125, 17.375, 17.625, 17.875, 18.125, 18.375, 18.625, 18.875, 19.125, \n",
      "    19.375, 19.625, 19.875, 20.125, 20.375, 20.625, 20.875, 21.125, 21.375, \n",
      "    21.625, 21.875, 22.125, 22.375, 22.625, 22.875, 23.125, 23.375, 23.625, \n",
      "    23.875, 24.125, 24.375, 24.625, 24.875, 25.125, 25.375, 25.625, 25.875, \n",
      "    26.125, 26.375, 26.625, 26.875, 27.125, 27.375, 27.625, 27.875, 28.125, \n",
      "    28.375, 28.625, 28.875, 29.125, 29.375, 29.625, 29.875, 30.125, 30.375, \n",
      "    30.625, 30.875, 31.125, 31.375, 31.625, 31.875, 32.125, 32.375, 32.625, \n",
      "    32.875, 33.125, 33.375, 33.625, 33.875, 34.125, 34.375, 34.625, 34.875, \n",
      "    35.125, 35.375, 35.625, 35.875, 36.125, 36.375, 36.625, 36.875, 37.125, \n",
      "    37.375, 37.625, 37.875, 38.125, 38.375, 38.625, 38.875, 39.125, 39.375, \n",
      "    39.625, 39.875, 40.125, 40.375, 40.625, 40.875, 41.125, 41.375, 41.625, \n",
      "    41.875, 42.125, 42.375, 42.625, 42.875, 43.125, 43.375, 43.625, 43.875, \n",
      "    44.125, 44.375, 44.625, 44.875, 45.125, 45.375, 45.625, 45.875, 46.125, \n",
      "    46.375, 46.625, 46.875, 47.125, 47.375, 47.625, 47.875, 48.125, 48.375, \n",
      "    48.625, 48.875, 49.125, 49.375, 49.625, 49.875, 50.125, 50.375, 50.625, \n",
      "    50.875, 51.125, 51.375, 51.625, 51.875, 52.125, 52.375, 52.625, 52.875, \n",
      "    53.125, 53.375, 53.625, 53.875, 54.125, 54.375, 54.625, 54.875, 55.125, \n",
      "    55.375, 55.625, 55.875, 56.125, 56.375, 56.625, 56.875, 57.125, 57.375, \n",
      "    57.625, 57.875, 58.125, 58.375, 58.625, 58.875, 59.125, 59.375, 59.625, \n",
      "    59.875, 60.125, 60.375, 60.625, 60.875, 61.125, 61.375, 61.625, 61.875, \n",
      "    62.125, 62.375, 62.625, 62.875, 63.125, 63.375, 63.625, 63.875, 64.125, \n",
      "    64.375, 64.625, 64.875, 65.125, 65.375, 65.625, 65.875, 66.125, 66.375, \n",
      "    66.625, 66.875, 67.125, 67.375, 67.625, 67.875, 68.125, 68.375, 68.625, \n",
      "    68.875, 69.125, 69.375, 69.625, 69.875, 70.125, 70.375, 70.625, 70.875, \n",
      "    71.125, 71.375, 71.625, 71.875, 72.125, 72.375, 72.625, 72.875, 73.125, \n",
      "    73.375, 73.625, 73.875, 74.125, 74.375, 74.625, 74.875, 75.125, 75.375 ;\n",
      "}\n"
     ]
    }
   ],
   "source": [
    "# Task: Display the latitude and longitude variables for one of the file in the E-OBS folder\n",
    "!ncdump -v latitude ../data_samples/netcdf/E-OBS/tg_ens_mean_0.25deg_reg_v29.0e.nc\n",
    "!ncdump -v longitude ../data_samples/netcdf/E-OBS/tg_ens_mean_0.25deg_reg_v29.0e.nc"
   ]
  },
  {
   "cell_type": "markdown",
   "id": "fe2fc124-6953-4367-956d-402373e325b8",
   "metadata": {},
   "source": [
    "**Question: Over which coordinate box is the data provided?**"
   ]
  },
  {
   "cell_type": "markdown",
   "id": "600a0158-bd45-4cd1-9106-681d2eff3c0e",
   "metadata": {},
   "source": [
    "### 1.2 ncview\n",
    "`ncview` is a graphical tool to check the content of a NetCDF file. When you run `ncview file.nc` a new window opens with a graphical interface."
   ]
  },
  {
   "cell_type": "code",
   "execution_count": 5,
   "id": "c1a76477-d52d-4ae3-ab83-df16a2d69bd7",
   "metadata": {},
   "outputs": [
    {
     "name": "stdout",
     "output_type": "stream",
     "text": [
      "Ncview 2.1.8 David W. Pierce  8 March 2017\n",
      "http://meteora.ucsd.edu:80/~pierce/ncview_home_page.html\n",
      "Copyright (C) 1993 through 2015, David W. Pierce\n",
      "Ncview comes with ABSOLUTELY NO WARRANTY; for details type `ncview -w'.\n",
      "This is free software licensed under the Gnu General Public License version 3; type `ncview -c' for redistribution details.\n",
      "\n",
      "Note: no Ncview app-defaults file found, using internal defaults\n",
      "X connection to /private/tmp/com.apple.launchd.WATKgwVKI5/org.xquartz:0 broken (explicit kill or server shutdown).\n"
     ]
    }
   ],
   "source": [
    "# Task: Run ncview for one of the E-OBS file, and watch how the variable changes over time. (You may need to click on the variable name to display it)\n",
    "# NB: To get back control over your terminal or notebook, close the window. \n",
    "!ncview ../data_samples/netcdf/E-OBS/tg_ens_mean_0.25deg_reg_v29.0e.nc"
   ]
  },
  {
   "cell_type": "markdown",
   "id": "07c59fe8-22eb-4b2c-b425-d382da17d5e9",
   "metadata": {},
   "source": [
    "**Question: What is the range of values that the variable you observed takes? Does it seem sensible?**\n",
    "\n",
    "**Question: Over which range of dates is the data provided? What is the frequency of the data**"
   ]
  },
  {
   "cell_type": "markdown",
   "id": "2b18bab9-caa8-4658-ba09-f3bb98ae0b6f",
   "metadata": {},
   "source": [
    "### 1.3 nco"
   ]
  },
  {
   "cell_type": "markdown",
   "id": "c05d0598-8d9e-42c2-b290-88c3be423f5f",
   "metadata": {},
   "source": [
    "`nco` provides a suite of commands that can be used to manipulate NetCDF files. Here we introduce the most common ones. You may find all the functions <HERE> for future reference.\n",
    "\n",
    "* `ncks` (NetCDF kitchen sink) is used to subset from NetCDF file.\n",
    "* `ncrcat` is used to concatenate files along time dimension.\n",
    "* `ncra` is used to average variables over time.\n",
    "\n",
    "Command line tools require the creation of intermediary files, that we will save in the `tmp` folder."
   ]
  },
  {
   "cell_type": "code",
   "execution_count": 6,
   "id": "8fb2cc02-f6ca-4342-b214-9dbec62a0339",
   "metadata": {},
   "outputs": [],
   "source": [
    "# Task: Extract Temperature over your favourite European country (You must define a longitude and latitude box around the country)\n",
    "# NB: This can take a few seconds\n",
    "!ncks -d latitude,42.5,51.0 -d longitude,-4.7,7.8 ../data_samples/netcdf/E-OBS/tg_ens_mean_0.25deg_reg_v29.0e.nc tmp/T_France.nc"
   ]
  },
  {
   "cell_type": "code",
   "execution_count": 7,
   "id": "307b3247-18af-4b11-8cc2-e69c2f673ea1",
   "metadata": {
    "scrolled": true
   },
   "outputs": [
    {
     "name": "stdout",
     "output_type": "stream",
     "text": [
      "netcdf T_France {\n",
      "dimensions:\n",
      "\tlatitude = 34 ;\n",
      "\tlongitude = 50 ;\n",
      "\ttime = UNLIMITED ; // (888 currently)\n",
      "\tbnds = 2 ;\n",
      "variables:\n",
      "\tdouble latitude(latitude) ;\n",
      "\t\tlatitude:standard_name = \"latitude\" ;\n",
      "\t\tlatitude:long_name = \"Latitude values\" ;\n",
      "\t\tlatitude:units = \"degrees_north\" ;\n",
      "\t\tlatitude:axis = \"Y\" ;\n",
      "\tdouble longitude(longitude) ;\n",
      "\t\tlongitude:standard_name = \"longitude\" ;\n",
      "\t\tlongitude:long_name = \"Longitude values\" ;\n",
      "\t\tlongitude:units = \"degrees_east\" ;\n",
      "\t\tlongitude:axis = \"X\" ;\n",
      "\tfloat tg(time, latitude, longitude) ;\n",
      "\t\ttg:standard_name = \"air_temperature\" ;\n",
      "\t\ttg:long_name = \"mean temperature\" ;\n",
      "\t\ttg:units = \"Celsius\" ;\n",
      "\t\ttg:_FillValue = -9999.f ;\n",
      "\t\ttg:missing_value = -9999.f ;\n",
      "\t\ttg:cell_methods = \"time: mean\" ;\n",
      "\tint time(time) ;\n",
      "\t\ttime:standard_name = \"time\" ;\n",
      "\t\ttime:long_name = \"Time in days\" ;\n",
      "\t\ttime:bounds = \"time_bnds\" ;\n",
      "\t\ttime:units = \"days since 1950-01-01 00:00\" ;\n",
      "\t\ttime:calendar = \"standard\" ;\n",
      "\t\ttime:axis = \"T\" ;\n",
      "\tdouble time_bnds(time, bnds) ;\n",
      "\n",
      "// global attributes:\n",
      "\t\t:CDI = \"Climate Data Interface version 2.4.0 (https://mpimet.mpg.de/cdi)\" ;\n",
      "\t\t:Conventions = \"CF-1.4\" ;\n",
      "\t\t:E-OBS_version = \"29.0e\" ;\n",
      "\t\t:References = \"http://surfobs.climate.copernicus.eu/dataaccess/access_eobs.php\" ;\n",
      "\t\t:history = \"Tue Aug  6 15:18:15 2024: ncks -d latitude,42.5,51.0 -d longitude,-4.7,7.8 ../data_samples/netcdf/E-OBS/tg_ens_mean_0.25deg_reg_v29.0e.nc tmp/T_France.nc\\nTue Aug 06 15:05:25 2024: cdo monmean daily/tg_ens_mean_0.25deg_reg_v29.0e.nc tg_ens_mean_0.25deg_reg_v29.0e_monthly.nc\\nFri Mar 22 10:08:04 2024: ncks --no-abc -d time,0,27027 /nobackup_1/users/besselaa/Data/Gridding/EOBSv29.0e/Grid_0.25deg/tg//tg_ensmean_master_rectime.nc /nobackup_1/users/besselaa/Data/Gridding/EOBSv29.0e/Grid_0.25deg/tg//tg_ens_mean_0.25deg_reg_v29.0e.nc\\nFri Mar 22 10:06:58 2024: ncks --no-abc --mk_rec_dmn time /nobackup_1/users/besselaa/Data/Gridding/EOBSv29.0e/Grid_0.25deg/tg//tg_ensmean_master.nc /nobackup_1/users/besselaa/Data/Gridding/EOBSv29.0e/Grid_0.25deg/tg//tg_ensmean_master_rectime.nc\\nFri Mar 22 09:38:20 2024: ncks -O -d time,0,27027 /nobackup_1/users/besselaa/Data/Gridding/EOBSv29.0e/Grid_0.25deg/tg/tg_ensmean_master_untilJan2024.nc /nobackup_1/users/besselaa/Data/Gridding/EOBSv29.0e/Grid_0.25deg/tg/tg_ensmean_master.nc\" ;\n",
      "\t\t:NCO = \"netCDF Operators version 5.2.4 (Homepage = http://nco.sf.net, Code = http://github.com/nco/nco, Citation = 10.1016/j.envsoft.2008.03.004)\" ;\n",
      "\t\t:frequency = \"mon\" ;\n",
      "\t\t:CDO = \"Climate Data Operators version 2.4.0 (https://mpimet.mpg.de/cdo)\" ;\n",
      "}\n",
      "Ncview 2.1.8 David W. Pierce  8 March 2017\n",
      "http://meteora.ucsd.edu:80/~pierce/ncview_home_page.html\n",
      "Copyright (C) 1993 through 2015, David W. Pierce\n",
      "Ncview comes with ABSOLUTELY NO WARRANTY; for details type `ncview -w'.\n",
      "This is free software licensed under the Gnu General Public License version 3; type `ncview -c' for redistribution details.\n",
      "\n",
      "Note: no Ncview app-defaults file found, using internal defaults\n",
      "X connection to /private/tmp/com.apple.launchd.WATKgwVKI5/org.xquartz:0 broken (explicit kill or server shutdown).\n"
     ]
    }
   ],
   "source": [
    "# Task: Explore the content of your new file with ncdump and ncview\n",
    "# Remark the longitude and latitude dimensions are smaller than before, and check than you can see the country you wanted to.\n",
    "!ncdump -h tmp/T_France.nc\n",
    "!ncview tmp/T_France.nc"
   ]
  },
  {
   "cell_type": "code",
   "execution_count": 8,
   "id": "aee6790d-c296-41fb-bfbe-a2ef7004995b",
   "metadata": {},
   "outputs": [],
   "source": [
    "# Task: Compute the average temperature over this selected area\n",
    "!ncra tmp/T_France.nc tmp/T_France_ncra.nc"
   ]
  },
  {
   "cell_type": "code",
   "execution_count": 9,
   "id": "bcb84785-16ee-44f3-b662-fc9e6225d62a",
   "metadata": {
    "scrolled": true
   },
   "outputs": [
    {
     "name": "stdout",
     "output_type": "stream",
     "text": [
      "netcdf T_France_ncra {\n",
      "dimensions:\n",
      "\tlatitude = 34 ;\n",
      "\tlongitude = 50 ;\n",
      "\ttime = UNLIMITED ; // (1 currently)\n",
      "\tbnds = 2 ;\n",
      "variables:\n",
      "\tdouble latitude(latitude) ;\n",
      "\t\tlatitude:standard_name = \"latitude\" ;\n",
      "\t\tlatitude:long_name = \"Latitude values\" ;\n",
      "\t\tlatitude:units = \"degrees_north\" ;\n",
      "\t\tlatitude:axis = \"Y\" ;\n",
      "\tdouble longitude(longitude) ;\n",
      "\t\tlongitude:standard_name = \"longitude\" ;\n",
      "\t\tlongitude:long_name = \"Longitude values\" ;\n",
      "\t\tlongitude:units = \"degrees_east\" ;\n",
      "\t\tlongitude:axis = \"X\" ;\n",
      "\tfloat tg(time, latitude, longitude) ;\n",
      "\t\ttg:standard_name = \"air_temperature\" ;\n",
      "\t\ttg:long_name = \"mean temperature\" ;\n",
      "\t\ttg:units = \"Celsius\" ;\n",
      "\t\ttg:_FillValue = -9999.f ;\n",
      "\t\ttg:missing_value = -9999.f ;\n",
      "\t\ttg:cell_methods = \"time: mean\" ;\n",
      "\tint time(time) ;\n",
      "\t\ttime:standard_name = \"time\" ;\n",
      "\t\ttime:long_name = \"Time in days\" ;\n",
      "\t\ttime:bounds = \"time_bnds\" ;\n",
      "\t\ttime:units = \"days since 1950-01-01 00:00\" ;\n",
      "\t\ttime:calendar = \"standard\" ;\n",
      "\t\ttime:axis = \"T\" ;\n",
      "\t\ttime:cell_methods = \"time: mean\" ;\n",
      "\tdouble time_bnds(time, bnds) ;\n",
      "\t\ttime_bnds:cell_methods = \"time: mean\" ;\n",
      "\n",
      "// global attributes:\n",
      "\t\t:CDI = \"Climate Data Interface version 2.4.0 (https://mpimet.mpg.de/cdi)\" ;\n",
      "\t\t:Conventions = \"CF-1.4\" ;\n",
      "\t\t:E-OBS_version = \"29.0e\" ;\n",
      "\t\t:References = \"http://surfobs.climate.copernicus.eu/dataaccess/access_eobs.php\" ;\n",
      "\t\t:history = \"Tue Aug  6 15:18:17 2024: ncra tmp/T_France.nc tmp/T_France_ncra.nc\\nTue Aug  6 15:18:15 2024: ncks -d latitude,42.5,51.0 -d longitude,-4.7,7.8 ../data_samples/netcdf/E-OBS/tg_ens_mean_0.25deg_reg_v29.0e.nc tmp/T_France.nc\\nTue Aug 06 15:05:25 2024: cdo monmean daily/tg_ens_mean_0.25deg_reg_v29.0e.nc tg_ens_mean_0.25deg_reg_v29.0e_monthly.nc\\nFri Mar 22 10:08:04 2024: ncks --no-abc -d time,0,27027 /nobackup_1/users/besselaa/Data/Gridding/EOBSv29.0e/Grid_0.25deg/tg//tg_ensmean_master_rectime.nc /nobackup_1/users/besselaa/Data/Gridding/EOBSv29.0e/Grid_0.25deg/tg//tg_ens_mean_0.25deg_reg_v29.0e.nc\\nFri Mar 22 10:06:58 2024: ncks --no-abc --mk_rec_dmn time /nobackup_1/users/besselaa/Data/Gridding/EOBSv29.0e/Grid_0.25deg/tg//tg_ensmean_master.nc /nobackup_1/users/besselaa/Data/Gridding/EOBSv29.0e/Grid_0.25deg/tg//tg_ensmean_master_rectime.nc\\nFri Mar 22 09:38:20 2024: ncks -O -d time,0,27027 /nobackup_1/users/besselaa/Data/Gridding/EOBSv29.0e/Grid_0.25deg/tg/tg_ensmean_master_untilJan2024.nc /nobackup_1/users/besselaa/Data/Gridding/EOBSv29.0e/Grid_0.25deg/tg/tg_ensmean_master.nc\" ;\n",
      "\t\t:NCO = \"netCDF Operators version 5.2.4 (Homepage = http://nco.sf.net, Code = http://github.com/nco/nco, Citation = 10.1016/j.envsoft.2008.03.004)\" ;\n",
      "\t\t:frequency = \"mon\" ;\n",
      "\t\t:CDO = \"Climate Data Operators version 2.4.0 (https://mpimet.mpg.de/cdo)\" ;\n",
      "}\n",
      "Ncview 2.1.8 David W. Pierce  8 March 2017\n",
      "http://meteora.ucsd.edu:80/~pierce/ncview_home_page.html\n",
      "Copyright (C) 1993 through 2015, David W. Pierce\n",
      "Ncview comes with ABSOLUTELY NO WARRANTY; for details type `ncview -w'.\n",
      "This is free software licensed under the Gnu General Public License version 3; type `ncview -c' for redistribution details.\n",
      "\n",
      "Note: no Ncview app-defaults file found, using internal defaults\n",
      "X connection to /private/tmp/com.apple.launchd.WATKgwVKI5/org.xquartz:0 broken (explicit kill or server shutdown).\n"
     ]
    }
   ],
   "source": [
    "# Task: Explore the content of your new file with ncdump and ncview\n",
    "# Remark the time dimension has been reduced to 1.\n",
    "!ncdump -h tmp/T_France_ncra.nc\n",
    "!ncview tmp/T_France_ncra.nc"
   ]
  },
  {
   "cell_type": "markdown",
   "id": "c831561a-9de4-4291-b86c-62204d7e0d48",
   "metadata": {},
   "source": [
    "**Question: What is the average temperature over your country of interest?**"
   ]
  },
  {
   "cell_type": "markdown",
   "id": "2009209c-d1bd-4b74-8d2c-dd391b29592f",
   "metadata": {},
   "source": [
    "### 1.4 cdo\n",
    "`cdo` is another suite of command line tools to manipulate NetCDF files. It is more comprehensive than `nco`, but, as such, also less simple. A comprehensive documentation can be found here: http://www.idris.fr/media/ada/cdo.pdf . \n",
    "Here again, we introduce basic cdo functions. "
   ]
  },
  {
   "cell_type": "code",
   "execution_count": 23,
   "id": "9951be4d-eb05-41b3-80c4-84fa68479287",
   "metadata": {
    "scrolled": true
   },
   "outputs": [
    {
     "name": "stdout",
     "output_type": "stream",
     "text": [
      "\u001b[0;1m   File format\u001b[0m : NetCDF4\n",
      "\u001b[0;1m    -1 : Institut Source   T Steptype Levels Num    Points Num Dtype : Parameter ID\u001b[0m\n",
      "     1 : \u001b[34munknown  unknown  v instant  \u001b[0m\u001b[32m     1 \u001b[0m  1 \u001b[32m    93264 \u001b[0m  1 \u001b[34m F32  \u001b[0m: -1            \n",
      "\u001b[0;1m   Grid coordinates\u001b[0m :\n",
      "     1 : \u001b[34mlonlat                  \u001b[0m : \u001b[32mpoints=93264 (464x201)\u001b[0m\n",
      "                        longitude : -40.375 to 75.375 by 0.25 degrees_east\n",
      "                         latitude : 25.375 to 75.375 by 0.25 degrees_north\n",
      "\u001b[0;1m   Vertical coordinates\u001b[0m :\n",
      "     1 : \u001b[34msurface                 \u001b[0m :\u001b[32m levels=1\u001b[0m\n",
      "\u001b[0;1m   Time coordinate\u001b[0m :\n",
      "                             time : \u001b[32m888 steps\n",
      "\u001b[0m     RefTime =  1950-01-01 00:00:00  Units = days  Calendar = standard  Bounds = true\n",
      "  YYYY-MM-DD hh:mm:ss  YYYY-MM-DD hh:mm:ss  YYYY-MM-DD hh:mm:ss  YYYY-MM-DD hh:mm:ss\n",
      "\u001b[35m  1950-01-16 00:00:00  1950-02-14 00:00:00  1950-03-16 00:00:00  1950-04-15 00:00:00\n",
      "  1950-05-16 00:00:00  1950-06-15 00:00:00  1950-07-16 00:00:00  1950-08-16 00:00:00\n",
      "  1950-09-15 00:00:00  1950-10-16 00:00:00  1950-11-15 00:00:00  1950-12-16 00:00:00\n",
      "  1951-01-16 00:00:00  1951-02-14 00:00:00  1951-03-16 00:00:00  1951-04-15 00:00:00\n",
      "  1951-05-16 00:00:00  1951-06-15 00:00:00  1951-07-16 00:00:00  1951-08-16 00:00:00\n",
      "  1951-09-15 00:00:00  1951-10-16 00:00:00  1951-11-15 00:00:00  1951-12-16 00:00:00\n",
      "  1952-01-16 00:00:00  1952-02-15 00:00:00  1952-03-16 00:00:00  1952-04-15 00:00:00\n",
      "  1952-05-16 00:00:00  1952-06-15 00:00:00  1952-07-16 00:00:00  1952-08-16 00:00:00\n",
      "  1952-09-15 00:00:00  1952-10-16 00:00:00  1952-11-15 00:00:00  1952-12-16 00:00:00\n",
      "  1953-01-16 00:00:00  1953-02-14 00:00:00  1953-03-16 00:00:00  1953-04-15 00:00:00\n",
      "  1953-05-16 00:00:00  1953-06-15 00:00:00  1953-07-16 00:00:00  1953-08-16 00:00:00\n",
      "  1953-09-15 00:00:00  1953-10-16 00:00:00  1953-11-15 00:00:00  1953-12-16 00:00:00\n",
      "  1954-01-16 00:00:00  1954-02-14 00:00:00  1954-03-16 00:00:00  1954-04-15 00:00:00\n",
      "  1954-05-16 00:00:00  1954-06-15 00:00:00  1954-07-16 00:00:00  1954-08-16 00:00:00\n",
      "  1954-09-15 00:00:00  1954-10-16 00:00:00  1954-11-15 00:00:00  1954-12-16 00:00:00\n",
      "   ................................................................................\n",
      "   .....................................................................\n",
      "  2019-01-16 00:00:00  2019-02-14 00:00:00  2019-03-16 00:00:00  2019-04-15 00:00:00\n",
      "  2019-05-16 00:00:00  2019-06-15 00:00:00  2019-07-16 00:00:00  2019-08-16 00:00:00\n",
      "  2019-09-15 00:00:00  2019-10-16 00:00:00  2019-11-15 00:00:00  2019-12-16 00:00:00\n",
      "  2020-01-16 00:00:00  2020-02-15 00:00:00  2020-03-16 00:00:00  2020-04-15 00:00:00\n",
      "  2020-05-16 00:00:00  2020-06-15 00:00:00  2020-07-16 00:00:00  2020-08-16 00:00:00\n",
      "  2020-09-15 00:00:00  2020-10-16 00:00:00  2020-11-15 00:00:00  2020-12-16 00:00:00\n",
      "  2021-01-16 00:00:00  2021-02-14 00:00:00  2021-03-16 00:00:00  2021-04-15 00:00:00\n",
      "  2021-05-16 00:00:00  2021-06-15 00:00:00  2021-07-16 00:00:00  2021-08-16 00:00:00\n",
      "  2021-09-15 00:00:00  2021-10-16 00:00:00  2021-11-15 00:00:00  2021-12-16 00:00:00\n",
      "  2022-01-16 00:00:00  2022-02-14 00:00:00  2022-03-16 00:00:00  2022-04-15 00:00:00\n",
      "  2022-05-16 00:00:00  2022-06-15 00:00:00  2022-07-16 00:00:00  2022-08-16 00:00:00\n",
      "  2022-09-15 00:00:00  2022-10-16 00:00:00  2022-11-15 00:00:00  2022-12-16 00:00:00\n",
      "  2023-01-16 00:00:00  2023-02-14 00:00:00  2023-03-16 00:00:00  2023-04-15 00:00:00\n",
      "  2023-05-16 00:00:00  2023-06-15 00:00:00  2023-07-16 00:00:00  2023-08-16 00:00:00\n",
      "  2023-09-15 00:00:00  2023-10-16 00:00:00  2023-11-15 00:00:00  2023-12-16 00:00:00\u001b[0m\n",
      "\u001b[32mcdo    sinfo: \u001b[0mProcessed 1 variable over 888 timesteps [0.03s 39MB]\n"
     ]
    }
   ],
   "source": [
    "# Task: Check the dimensions of a file using cdo sinfo\n",
    "!cdo sinfo ../data_samples/netcdf/E-OBS/tg_ens_mean_0.25deg_reg_v29.0e.nc"
   ]
  },
  {
   "cell_type": "code",
   "execution_count": 24,
   "id": "c6cf74a0-efb0-46a2-8f2a-ad6a30b6650a",
   "metadata": {},
   "outputs": [
    {
     "name": "stdout",
     "output_type": "stream",
     "text": [
      " tg\n",
      "\u001b[32mcdo    showname: \u001b[0mProcessed 1 variable [0.05s 37MB]\n"
     ]
    }
   ],
   "source": [
    "# Task: Check the variables contained in a file using cdo showname\n",
    "!cdo showname ../data_samples/netcdf/E-OBS/tg_ens_mean_0.25deg_reg_v29.0e.nc"
   ]
  },
  {
   "cell_type": "code",
   "execution_count": 25,
   "id": "b2874d2c-3967-4c56-9f78-d92ff2fa55af",
   "metadata": {},
   "outputs": [
    {
     "name": "stdout",
     "output_type": "stream",
     "text": [
      "\u001b[32mcdo    sellonlatbox: \u001b[0mProcessed 82818432 values from 1 variable over 888 timesteps [0.26s 93MB]\n"
     ]
    }
   ],
   "source": [
    "# Task: Select the same box as before with cdo sellonlatbox\n",
    "!cdo sellonlatbox,-4.7,7.8,42.5,51.0 ../data_samples/netcdf/E-OBS/tg_ens_mean_0.25deg_reg_v29.0e.nc tmp/T_France.nc"
   ]
  },
  {
   "cell_type": "code",
   "execution_count": 26,
   "id": "ce06d7ca-61fd-4f88-bd17-1c66d5b06466",
   "metadata": {
    "scrolled": true
   },
   "outputs": [
    {
     "name": "stdout",
     "output_type": "stream",
     "text": [
      "netcdf T_France {\n",
      "dimensions:\n",
      "\ttime = UNLIMITED ; // (888 currently)\n",
      "\tbnds = 2 ;\n",
      "\tlongitude = 50 ;\n",
      "\tlatitude = 34 ;\n",
      "variables:\n",
      "\tint time(time) ;\n",
      "\t\ttime:standard_name = \"time\" ;\n",
      "\t\ttime:long_name = \"Time in days\" ;\n",
      "\t\ttime:bounds = \"time_bnds\" ;\n",
      "\t\ttime:units = \"days since 1950-01-01 00:00\" ;\n",
      "\t\ttime:calendar = \"standard\" ;\n",
      "\t\ttime:axis = \"T\" ;\n",
      "\tdouble time_bnds(time, bnds) ;\n",
      "\tdouble longitude(longitude) ;\n",
      "\t\tlongitude:standard_name = \"longitude\" ;\n",
      "\t\tlongitude:long_name = \"Longitude values\" ;\n",
      "\t\tlongitude:units = \"degrees_east\" ;\n",
      "\t\tlongitude:axis = \"X\" ;\n",
      "\tdouble latitude(latitude) ;\n",
      "\t\tlatitude:standard_name = \"latitude\" ;\n",
      "\t\tlatitude:long_name = \"Latitude values\" ;\n",
      "\t\tlatitude:units = \"degrees_north\" ;\n",
      "\t\tlatitude:axis = \"Y\" ;\n",
      "\tfloat tg(time, latitude, longitude) ;\n",
      "\t\ttg:standard_name = \"air_temperature\" ;\n",
      "\t\ttg:long_name = \"mean temperature\" ;\n",
      "\t\ttg:units = \"Celsius\" ;\n",
      "\t\ttg:_FillValue = -9999.f ;\n",
      "\t\ttg:missing_value = -9999.f ;\n",
      "\t\ttg:cell_methods = \"time: mean\" ;\n",
      "\n",
      "// global attributes:\n",
      "\t\t:CDI = \"Climate Data Interface version 2.4.0 (https://mpimet.mpg.de/cdi)\" ;\n",
      "\t\t:Conventions = \"CF-1.4\" ;\n",
      "\t\t:E-OBS_version = \"29.0e\" ;\n",
      "\t\t:References = \"http://surfobs.climate.copernicus.eu/dataaccess/access_eobs.php\" ;\n",
      "\t\t:history = \"Tue Aug 06 15:23:14 2024: cdo sellonlatbox,-4.7,7.8,42.5,51.0 ../data_samples/netcdf/E-OBS/tg_ens_mean_0.25deg_reg_v29.0e.nc tmp/T_France.nc\\nTue Aug 06 15:05:25 2024: cdo monmean daily/tg_ens_mean_0.25deg_reg_v29.0e.nc tg_ens_mean_0.25deg_reg_v29.0e_monthly.nc\\nFri Mar 22 10:08:04 2024: ncks --no-abc -d time,0,27027 /nobackup_1/users/besselaa/Data/Gridding/EOBSv29.0e/Grid_0.25deg/tg//tg_ensmean_master_rectime.nc /nobackup_1/users/besselaa/Data/Gridding/EOBSv29.0e/Grid_0.25deg/tg//tg_ens_mean_0.25deg_reg_v29.0e.nc\\nFri Mar 22 10:06:58 2024: ncks --no-abc --mk_rec_dmn time /nobackup_1/users/besselaa/Data/Gridding/EOBSv29.0e/Grid_0.25deg/tg//tg_ensmean_master.nc /nobackup_1/users/besselaa/Data/Gridding/EOBSv29.0e/Grid_0.25deg/tg//tg_ensmean_master_rectime.nc\\nFri Mar 22 09:38:20 2024: ncks -O -d time,0,27027 /nobackup_1/users/besselaa/Data/Gridding/EOBSv29.0e/Grid_0.25deg/tg/tg_ensmean_master_untilJan2024.nc /nobackup_1/users/besselaa/Data/Gridding/EOBSv29.0e/Grid_0.25deg/tg/tg_ensmean_master.nc\" ;\n",
      "\t\t:NCO = \"netCDF Operators version 5.1.4 (Homepage = http://nco.sf.net, Code = http://github.com/nco/nco)\" ;\n",
      "\t\t:frequency = \"mon\" ;\n",
      "\t\t:CDO = \"Climate Data Operators version 2.4.0 (https://mpimet.mpg.de/cdo)\" ;\n",
      "}\n",
      "Ncview 2.1.8 David W. Pierce  8 March 2017\n",
      "http://meteora.ucsd.edu:80/~pierce/ncview_home_page.html\n",
      "Copyright (C) 1993 through 2015, David W. Pierce\n",
      "Ncview comes with ABSOLUTELY NO WARRANTY; for details type `ncview -w'.\n",
      "This is free software licensed under the Gnu General Public License version 3; type `ncview -c' for redistribution details.\n",
      "\n",
      "Note: no Ncview app-defaults file found, using internal defaults\n",
      "X connection to /private/tmp/com.apple.launchd.WATKgwVKI5/org.xquartz:0 broken (explicit kill or server shutdown).\n"
     ]
    }
   ],
   "source": [
    "# Task: Explore the content of your new file with ncdump and ncview\n",
    "# Remark the longitude and latitude dimensions are smaller than before, and check than you can see the country you wanted to.\n",
    "!ncdump -h tmp/T_France.nc\n",
    "!ncview tmp/T_France.nc"
   ]
  },
  {
   "cell_type": "code",
   "execution_count": 27,
   "id": "8e124b73-1373-41c0-b392-bc660d8878a8",
   "metadata": {},
   "outputs": [
    {
     "name": "stdout",
     "output_type": "stream",
     "text": [
      "cdo    fldmean:                        1 1 1 1 1 1 1 1 1 1 2 2 2 2 2 2 2 2 2 2 3 3 3 3 3 3 3 3 3 3 4 4 4 4 4 4 4 4 4 4 5 5 5 5 5 5 5 5 5 5 6 6 6 6 6 6 6 6 6 6 7 7 7 7 7 7 7 7 7 7 8 8 8 8 8 8 8 8 8 8 9 9 9 9 9 9 9 9 9 910                     1 1 1 1 1 1 1 1 1 1 2 2 2 2 2 2 2 2 2 2 3 3 3 3 3 3 3 3 3 3 4 4 4 4 4 4 4 4 4 4 5 5 5 5 5 5 5 5 5 5 6 6 6 6 6 6 6 6 6 6 7 7 7 7 7 7 7 7 7 7 8 8 8 8 8 8 8 8 8 8 9 9 9 9 9 9 9 9 9 9100%\u001b[32mcdo    fldmean: \u001b[0mProcessed 1509600 values from 1 variable over 888 timesteps [0.11s 49MB]\n"
     ]
    }
   ],
   "source": [
    "# Task: Compute the average temperature over your box with cdo fldmean\n",
    "!cdo fldmean tmp/T_France.nc tmp/T_France_fldmean.nc"
   ]
  },
  {
   "cell_type": "code",
   "execution_count": 15,
   "id": "d12c1288-1947-4e37-bed9-365ba58b6ff2",
   "metadata": {
    "scrolled": true
   },
   "outputs": [
    {
     "name": "stdout",
     "output_type": "stream",
     "text": [
      "netcdf T_France_fldmean {\n",
      "dimensions:\n",
      "\ttime = UNLIMITED ; // (888 currently)\n",
      "\tbnds = 2 ;\n",
      "\tlon = 1 ;\n",
      "\tlat = 1 ;\n",
      "variables:\n",
      "\tint time(time) ;\n",
      "\t\ttime:standard_name = \"time\" ;\n",
      "\t\ttime:long_name = \"Time in days\" ;\n",
      "\t\ttime:bounds = \"time_bnds\" ;\n",
      "\t\ttime:units = \"days since 1950-01-01 00:00\" ;\n",
      "\t\ttime:calendar = \"standard\" ;\n",
      "\t\ttime:axis = \"T\" ;\n",
      "\tdouble time_bnds(time, bnds) ;\n",
      "\tdouble lon(lon) ;\n",
      "\t\tlon:standard_name = \"longitude\" ;\n",
      "\t\tlon:long_name = \"longitude\" ;\n",
      "\t\tlon:units = \"degrees_east\" ;\n",
      "\t\tlon:axis = \"X\" ;\n",
      "\tdouble lat(lat) ;\n",
      "\t\tlat:standard_name = \"latitude\" ;\n",
      "\t\tlat:long_name = \"latitude\" ;\n",
      "\t\tlat:units = \"degrees_north\" ;\n",
      "\t\tlat:axis = \"Y\" ;\n",
      "\tfloat tg(time, lat, lon) ;\n",
      "\t\ttg:standard_name = \"air_temperature\" ;\n",
      "\t\ttg:long_name = \"mean temperature\" ;\n",
      "\t\ttg:units = \"Celsius\" ;\n",
      "\t\ttg:_FillValue = -9999.f ;\n",
      "\t\ttg:missing_value = -9999.f ;\n",
      "\t\ttg:cell_methods = \"time: mean\" ;\n",
      "\n",
      "// global attributes:\n",
      "\t\t:CDI = \"Climate Data Interface version 2.4.0 (https://mpimet.mpg.de/cdi)\" ;\n",
      "\t\t:Conventions = \"CF-1.4\" ;\n",
      "\t\t:E-OBS_version = \"29.0e\" ;\n",
      "\t\t:References = \"http://surfobs.climate.copernicus.eu/dataaccess/access_eobs.php\" ;\n",
      "\t\t:history = \"Tue Aug 06 15:18:24 2024: cdo fldmean tmp/T_France.nc tmp/T_France_fldmean.nc\\nTue Aug 06 15:18:20 2024: cdo sellonlatbox,-4.7,7.8,42.5,51.0 ../data_samples/netcdf/E-OBS/tg_ens_mean_0.25deg_reg_v29.0e.nc tmp/T_France.nc\\nTue Aug 06 15:05:25 2024: cdo monmean daily/tg_ens_mean_0.25deg_reg_v29.0e.nc tg_ens_mean_0.25deg_reg_v29.0e_monthly.nc\\nFri Mar 22 10:08:04 2024: ncks --no-abc -d time,0,27027 /nobackup_1/users/besselaa/Data/Gridding/EOBSv29.0e/Grid_0.25deg/tg//tg_ensmean_master_rectime.nc /nobackup_1/users/besselaa/Data/Gridding/EOBSv29.0e/Grid_0.25deg/tg//tg_ens_mean_0.25deg_reg_v29.0e.nc\\nFri Mar 22 10:06:58 2024: ncks --no-abc --mk_rec_dmn time /nobackup_1/users/besselaa/Data/Gridding/EOBSv29.0e/Grid_0.25deg/tg//tg_ensmean_master.nc /nobackup_1/users/besselaa/Data/Gridding/EOBSv29.0e/Grid_0.25deg/tg//tg_ensmean_master_rectime.nc\\nFri Mar 22 09:38:20 2024: ncks -O -d time,0,27027 /nobackup_1/users/besselaa/Data/Gridding/EOBSv29.0e/Grid_0.25deg/tg/tg_ensmean_master_untilJan2024.nc /nobackup_1/users/besselaa/Data/Gridding/EOBSv29.0e/Grid_0.25deg/tg/tg_ensmean_master.nc\" ;\n",
      "\t\t:NCO = \"netCDF Operators version 5.1.4 (Homepage = http://nco.sf.net, Code = http://github.com/nco/nco)\" ;\n",
      "\t\t:frequency = \"mon\" ;\n",
      "\t\t:CDO = \"Climate Data Operators version 2.4.0 (https://mpimet.mpg.de/cdo)\" ;\n",
      "}\n",
      "Ncview 2.1.8 David W. Pierce  8 March 2017\n",
      "http://meteora.ucsd.edu:80/~pierce/ncview_home_page.html\n",
      "Copyright (C) 1993 through 2015, David W. Pierce\n",
      "Ncview comes with ABSOLUTELY NO WARRANTY; for details type `ncview -w'.\n",
      "This is free software licensed under the Gnu General Public License version 3; type `ncview -c' for redistribution details.\n",
      "\n",
      "Note: no Ncview app-defaults file found, using internal defaults\n",
      "X connection to /private/tmp/com.apple.launchd.WATKgwVKI5/org.xquartz:0 broken (explicit kill or server shutdown).\n"
     ]
    }
   ],
   "source": [
    "# Task: Explore the content of your new file with ncdump and ncview\n",
    "# Remark the longitude and latitude dimension have shrinked to 1. ncview now displays a time series since the data became one-dimensional.\n",
    "!ncdump -h tmp/T_France_fldmean.nc\n",
    "!ncview tmp/T_France_fldmean.nc"
   ]
  },
  {
   "cell_type": "markdown",
   "id": "afa37d46-8c2a-401e-b3c7-c49a22261816",
   "metadata": {},
   "source": [
    "**Question: Can you see an increase in monthly temperature over the 1950-2023 period in your region?**"
   ]
  },
  {
   "cell_type": "code",
   "execution_count": 28,
   "id": "0e48eddc-faec-4b43-8842-7403fdfee6b7",
   "metadata": {},
   "outputs": [
    {
     "name": "stdout",
     "output_type": "stream",
     "text": [
      "cdo    yearmean:                        1 1 1 1 1 1 1 1 1 1 2 2 2 2 2 2 2 2 2 2 3 3 3 3 3 3 3 3 3 3 4 4 4 4 4 4 4 4 4 4 5 5 5 5 5 5 5 5 5 5 6 6 6 6 6 6 6 6 6 6 7 7 7 7 7 7 7 7 7 7 8 8 8 8 8 8 8 8 8 8 9 9 9 9 9 9 9 9 9 91\u001b[32mcdo    yearmean: \u001b[0mProcessed 888 values from 1 variable over 888 timesteps [0.07s 33MB]\n"
     ]
    }
   ],
   "source": [
    "# Task: average the temperature time series using cdo yearmean\n",
    "!cdo yearmean tmp/T_France_fldmean.nc tmp/T_France_fldmean_yearmean.nc"
   ]
  },
  {
   "cell_type": "code",
   "execution_count": 17,
   "id": "8eb889f2-8b32-4829-9dba-8d89b11e1d94",
   "metadata": {
    "scrolled": true
   },
   "outputs": [
    {
     "name": "stdout",
     "output_type": "stream",
     "text": [
      "netcdf T_France_fldmean_yearmean {\n",
      "dimensions:\n",
      "\ttime = UNLIMITED ; // (74 currently)\n",
      "\tbnds = 2 ;\n",
      "\tlon = 1 ;\n",
      "\tlat = 1 ;\n",
      "variables:\n",
      "\tint time(time) ;\n",
      "\t\ttime:standard_name = \"time\" ;\n",
      "\t\ttime:long_name = \"Time in days\" ;\n",
      "\t\ttime:bounds = \"time_bnds\" ;\n",
      "\t\ttime:units = \"days since 1950-01-01 00:00\" ;\n",
      "\t\ttime:calendar = \"standard\" ;\n",
      "\t\ttime:axis = \"T\" ;\n",
      "\tdouble time_bnds(time, bnds) ;\n",
      "\tdouble lon(lon) ;\n",
      "\t\tlon:standard_name = \"longitude\" ;\n",
      "\t\tlon:long_name = \"longitude\" ;\n",
      "\t\tlon:units = \"degrees_east\" ;\n",
      "\t\tlon:axis = \"X\" ;\n",
      "\tdouble lat(lat) ;\n",
      "\t\tlat:standard_name = \"latitude\" ;\n",
      "\t\tlat:long_name = \"latitude\" ;\n",
      "\t\tlat:units = \"degrees_north\" ;\n",
      "\t\tlat:axis = \"Y\" ;\n",
      "\tfloat tg(time, lat, lon) ;\n",
      "\t\ttg:standard_name = \"air_temperature\" ;\n",
      "\t\ttg:long_name = \"mean temperature\" ;\n",
      "\t\ttg:units = \"Celsius\" ;\n",
      "\t\ttg:_FillValue = -9999.f ;\n",
      "\t\ttg:missing_value = -9999.f ;\n",
      "\t\ttg:cell_methods = \"time: mean\" ;\n",
      "\n",
      "// global attributes:\n",
      "\t\t:CDI = \"Climate Data Interface version 2.4.0 (https://mpimet.mpg.de/cdi)\" ;\n",
      "\t\t:Conventions = \"CF-1.4\" ;\n",
      "\t\t:E-OBS_version = \"29.0e\" ;\n",
      "\t\t:References = \"http://surfobs.climate.copernicus.eu/dataaccess/access_eobs.php\" ;\n",
      "\t\t:history = \"Tue Aug 06 15:18:28 2024: cdo yearmean tmp/T_France_fldmean.nc tmp/T_France_fldmean_yearmean.nc\\nTue Aug 06 15:18:24 2024: cdo fldmean tmp/T_France.nc tmp/T_France_fldmean.nc\\nTue Aug 06 15:18:20 2024: cdo sellonlatbox,-4.7,7.8,42.5,51.0 ../data_samples/netcdf/E-OBS/tg_ens_mean_0.25deg_reg_v29.0e.nc tmp/T_France.nc\\nTue Aug 06 15:05:25 2024: cdo monmean daily/tg_ens_mean_0.25deg_reg_v29.0e.nc tg_ens_mean_0.25deg_reg_v29.0e_monthly.nc\\nFri Mar 22 10:08:04 2024: ncks --no-abc -d time,0,27027 /nobackup_1/users/besselaa/Data/Gridding/EOBSv29.0e/Grid_0.25deg/tg//tg_ensmean_master_rectime.nc /nobackup_1/users/besselaa/Data/Gridding/EOBSv29.0e/Grid_0.25deg/tg//tg_ens_mean_0.25deg_reg_v29.0e.nc\\nFri Mar 22 10:06:58 2024: ncks --no-abc --mk_rec_dmn time /nobackup_1/users/besselaa/Data/Gridding/EOBSv29.0e/Grid_0.25deg/tg//tg_ensmean_master.nc /nobackup_1/users/besselaa/Data/Gridding/EOBSv29.0e/Grid_0.25deg/tg//tg_ensmean_master_rectime.nc\\nFri Mar 22 09:38:20 2024: ncks -O -d time,0,27027 /nobackup_1/users/besselaa/Data/Gridding/EOBSv29.0e/Grid_0.25deg/tg/tg_ensmean_master_untilJan2024.nc /nobackup_1/users/besselaa/Data/Gridding/EOBSv29.0e/Grid_0.25deg/tg/tg_ensmean_master.nc\" ;\n",
      "\t\t:NCO = \"netCDF Operators version 5.1.4 (Homepage = http://nco.sf.net, Code = http://github.com/nco/nco)\" ;\n",
      "\t\t:frequency = \"year\" ;\n",
      "\t\t:CDO = \"Climate Data Operators version 2.4.0 (https://mpimet.mpg.de/cdo)\" ;\n",
      "}\n",
      "Ncview 2.1.8 David W. Pierce  8 March 2017\n",
      "http://meteora.ucsd.edu:80/~pierce/ncview_home_page.html\n",
      "Copyright (C) 1993 through 2015, David W. Pierce\n",
      "Ncview comes with ABSOLUTELY NO WARRANTY; for details type `ncview -w'.\n",
      "This is free software licensed under the Gnu General Public License version 3; type `ncview -c' for redistribution details.\n",
      "\n",
      "Note: no Ncview app-defaults file found, using internal defaults\n",
      "X connection to /private/tmp/com.apple.launchd.WATKgwVKI5/org.xquartz:0 broken (explicit kill or server shutdown).\n"
     ]
    }
   ],
   "source": [
    "# Task: Explore the content of your new file with ncdump and ncview\n",
    "# Remark the time dimension now shows 74 time steps for the 74 years of the dataset.\n",
    "!ncdump -h tmp/T_France_fldmean_yearmean.nc\n",
    "!ncview tmp/T_France_fldmean_yearmean.nc"
   ]
  },
  {
   "cell_type": "markdown",
   "id": "0042f5a2-4c80-4ea9-810c-4742e7538b42",
   "metadata": {},
   "source": [
    "**Question: Can you see an increase in yearly temperature over the 1950-2023 period in your region?**"
   ]
  },
  {
   "cell_type": "markdown",
   "id": "fc57f0fe-a142-48f4-9f88-c0ce1c04d0ee",
   "metadata": {},
   "source": [
    "`cdo` commands can be chained, but make sure to use the dashes, and be mindful of the order of processes."
   ]
  },
  {
   "cell_type": "code",
   "execution_count": 21,
   "id": "ed8a5cf7-f57f-4d38-a781-ce2752811de1",
   "metadata": {},
   "outputs": [
    {
     "name": "stdout",
     "output_type": "stream",
     "text": [
      "\u001b[32mcdo(1) fldmean: \u001b[0mProcess started\n",
      "\u001b[32mcdo(2) sellonlatbox: \u001b[0mProcess started\n",
      "cdo    yearmean:     0%cdo(1) fldmean:                        1 1 1 1 1 1 1 1 1 1 2 2 2 2 2 2 2 2 2 2 3 3 3 3 3 3 3 3 3 3 4 4 4 4 4 4 4 4 4 4 5 5 5 5 5 5 5 5 5 5 6 6 6 6 6 6 6 6 6 6 7 7 7 7 7 7 7 7 7 7 8 8 8 8 8 8 8 8 8 8 9 9 9 9 9 9 9 9 9 910                     1 1 1 1 1 1 1 1 1 1 2 2 2 2 2 2 2 2 2 2 3 3 3 3 3 3 3 3 3 3 4 4 4 4 4 4 4 4 4 4 5 5 5 5 5 5 5 5 5 5 6 6 6 6 6 6 6 6 6 6 7 7 7 7 7 7 7 7 7 7 8 8 8 8 8 8 8 8 8 8 9 9 9 9 9 9 9 9 9 9100%\u001b[32mcdo    yearmean: \u001b[0mProcessed 888 values from 1 variable over 888 timesteps [0.20s 74MB]\n"
     ]
    }
   ],
   "source": [
    "# Task: Run the previous workflow chaining all the commands\n",
    "!cdo -yearmean -fldmean -sellonlatbox,-4.7,7.8,42.5,51.0 ../data_samples/netcdf/E-OBS/tg_ens_mean_0.25deg_reg_v29.0e.nc tmp/chain.nc"
   ]
  },
  {
   "cell_type": "code",
   "execution_count": 22,
   "id": "e2f45bec-cc36-4c3c-8da7-e7cf5b2d8486",
   "metadata": {
    "scrolled": true
   },
   "outputs": [
    {
     "name": "stdout",
     "output_type": "stream",
     "text": [
      "netcdf chain {\n",
      "dimensions:\n",
      "\ttime = UNLIMITED ; // (74 currently)\n",
      "\tbnds = 2 ;\n",
      "\tlon = 1 ;\n",
      "\tlat = 1 ;\n",
      "variables:\n",
      "\tint time(time) ;\n",
      "\t\ttime:standard_name = \"time\" ;\n",
      "\t\ttime:long_name = \"Time in days\" ;\n",
      "\t\ttime:bounds = \"time_bnds\" ;\n",
      "\t\ttime:units = \"days since 1950-01-01 00:00\" ;\n",
      "\t\ttime:calendar = \"standard\" ;\n",
      "\t\ttime:axis = \"T\" ;\n",
      "\tdouble time_bnds(time, bnds) ;\n",
      "\tdouble lon(lon) ;\n",
      "\t\tlon:standard_name = \"longitude\" ;\n",
      "\t\tlon:long_name = \"longitude\" ;\n",
      "\t\tlon:units = \"degrees_east\" ;\n",
      "\t\tlon:axis = \"X\" ;\n",
      "\tdouble lat(lat) ;\n",
      "\t\tlat:standard_name = \"latitude\" ;\n",
      "\t\tlat:long_name = \"latitude\" ;\n",
      "\t\tlat:units = \"degrees_north\" ;\n",
      "\t\tlat:axis = \"Y\" ;\n",
      "\tfloat tg(time, lat, lon) ;\n",
      "\t\ttg:standard_name = \"air_temperature\" ;\n",
      "\t\ttg:long_name = \"mean temperature\" ;\n",
      "\t\ttg:units = \"Celsius\" ;\n",
      "\t\ttg:_FillValue = -9999.f ;\n",
      "\t\ttg:missing_value = -9999.f ;\n",
      "\t\ttg:cell_methods = \"time: mean\" ;\n",
      "\n",
      "// global attributes:\n",
      "\t\t:CDI = \"Climate Data Interface version 2.4.0 (https://mpimet.mpg.de/cdi)\" ;\n",
      "\t\t:Conventions = \"CF-1.4\" ;\n",
      "\t\t:E-OBS_version = \"29.0e\" ;\n",
      "\t\t:References = \"http://surfobs.climate.copernicus.eu/dataaccess/access_eobs.php\" ;\n",
      "\t\t:history = \"Tue Aug 06 15:22:02 2024: cdo -yearmean -fldmean -sellonlatbox,-4.7,7.8,42.5,51.0 ../data_samples/netcdf/E-OBS/tg_ens_mean_0.25deg_reg_v29.0e.nc tmp/chain.nc\\nTue Aug 06 15:05:25 2024: cdo monmean daily/tg_ens_mean_0.25deg_reg_v29.0e.nc tg_ens_mean_0.25deg_reg_v29.0e_monthly.nc\\nFri Mar 22 10:08:04 2024: ncks --no-abc -d time,0,27027 /nobackup_1/users/besselaa/Data/Gridding/EOBSv29.0e/Grid_0.25deg/tg//tg_ensmean_master_rectime.nc /nobackup_1/users/besselaa/Data/Gridding/EOBSv29.0e/Grid_0.25deg/tg//tg_ens_mean_0.25deg_reg_v29.0e.nc\\nFri Mar 22 10:06:58 2024: ncks --no-abc --mk_rec_dmn time /nobackup_1/users/besselaa/Data/Gridding/EOBSv29.0e/Grid_0.25deg/tg//tg_ensmean_master.nc /nobackup_1/users/besselaa/Data/Gridding/EOBSv29.0e/Grid_0.25deg/tg//tg_ensmean_master_rectime.nc\\nFri Mar 22 09:38:20 2024: ncks -O -d time,0,27027 /nobackup_1/users/besselaa/Data/Gridding/EOBSv29.0e/Grid_0.25deg/tg/tg_ensmean_master_untilJan2024.nc /nobackup_1/users/besselaa/Data/Gridding/EOBSv29.0e/Grid_0.25deg/tg/tg_ensmean_master.nc\" ;\n",
      "\t\t:NCO = \"netCDF Operators version 5.1.4 (Homepage = http://nco.sf.net, Code = http://github.com/nco/nco)\" ;\n",
      "\t\t:frequency = \"year\" ;\n",
      "\t\t:CDO = \"Climate Data Operators version 2.4.0 (https://mpimet.mpg.de/cdo)\" ;\n",
      "}\n",
      "Ncview 2.1.8 David W. Pierce  8 March 2017\n",
      "http://meteora.ucsd.edu:80/~pierce/ncview_home_page.html\n",
      "Copyright (C) 1993 through 2015, David W. Pierce\n",
      "Ncview comes with ABSOLUTELY NO WARRANTY; for details type `ncview -w'.\n",
      "This is free software licensed under the Gnu General Public License version 3; type `ncview -c' for redistribution details.\n",
      "\n",
      "Note: no Ncview app-defaults file found, using internal defaults\n",
      "X connection to /private/tmp/com.apple.launchd.WATKgwVKI5/org.xquartz:0 broken (explicit kill or server shutdown).\n"
     ]
    }
   ],
   "source": [
    "# Task: Explore the content of your new file with ncdump and ncview\n",
    "!ncdump -h tmp/chain.nc\n",
    "!ncview tmp/chain.nc"
   ]
  },
  {
   "cell_type": "code",
   "execution_count": 29,
   "id": "7515ff91-9658-40cc-a6ed-a19107a9b80d",
   "metadata": {},
   "outputs": [
    {
     "name": "stdout",
     "output_type": "stream",
     "text": [
      "               Date     Time   Level Gridsize    Miss    Diff : S Z  Max_Absdiff Max_Reldiff : Parameter ID\n",
      "     7 :\u001b[35m 1956-06-30 00:00:00 \u001b[0m\u001b[32m      0        1       0       1 \u001b[0m: F F \u001b[34m  9.5367e-07  1.0837e-07\u001b[0m : \u001b[32;1m-1         \u001b[0m\n",
      "    18 :\u001b[35m 1967-06-30 00:00:00 \u001b[0m\u001b[32m      0        1       0       1 \u001b[0m: F F \u001b[34m  9.5367e-07  9.3849e-08\u001b[0m : \u001b[32;1m-1         \u001b[0m\n",
      "    21 :\u001b[35m 1970-06-30 00:00:00 \u001b[0m\u001b[32m      0        1       0       1 \u001b[0m: F F \u001b[34m  9.5367e-07  9.6826e-08\u001b[0m : \u001b[32;1m-1         \u001b[0m\n",
      "    31 :\u001b[35m 1980-06-30 00:00:00 \u001b[0m\u001b[32m      0        1       0       1 \u001b[0m: F F \u001b[34m  9.5367e-07  1.0168e-07\u001b[0m : \u001b[32;1m-1         \u001b[0m\n",
      "    39 :\u001b[35m 1988-06-30 00:00:00 \u001b[0m\u001b[32m      0        1       0       1 \u001b[0m: F F \u001b[34m  9.5367e-07  8.9312e-08\u001b[0m : \u001b[32;1m-1         \u001b[0m\n",
      "    70 :\u001b[35m 2019-06-30 00:00:00 \u001b[0m\u001b[32m      0        1       0       1 \u001b[0m: F F \u001b[34m  9.5367e-07  8.1170e-08\u001b[0m : \u001b[32;1m-1         \u001b[0m\n",
      "\u001b[31;1m  6 of 74 records differ\u001b[0m\n",
      "  0 of 74 records differ more than 0.001\n",
      "\u001b[32mcdo    diff: \u001b[0mProcessed 148 values from 2 variables over 148 timesteps [0.04s 31MB]\n"
     ]
    }
   ],
   "source": [
    "# Task: Compare the file built step by step and the one with command chaining using cdo diff\n",
    "# Remark some records might differ but the small values indicate averaging errors more than a real difference in the outcomes.\n",
    "!cdo diff tmp/T_France_fldmean_yearmean.nc tmp/chain.nc"
   ]
  },
  {
   "cell_type": "markdown",
   "id": "d0d0f1fc-f78e-43f8-ab22-167343b3660f",
   "metadata": {},
   "source": [
    "### Wrap-up on terminal use\n",
    "There are two reasons for using the terminal to explore and manipulate your files before going to Python: \n",
    "1. To get a quick look at a file and checking that it contains what you want before you open Python\n",
    "2. Data manipulation with `nco` and `cdo` (see below) are much more efficient than in Python. For heavy file, it is recommended to first reduce data dimensionality and weight with command-line tools before you open the files in Python. "
   ]
  },
  {
   "cell_type": "code",
   "execution_count": 18,
   "id": "dd61b260-9419-4700-a7a6-e0055a3758f1",
   "metadata": {},
   "outputs": [
    {
     "name": "stdout",
     "output_type": "stream",
     "text": [
      "-rw-r--r--  1 bourdin  staff   316M  6 Aug 15:05 ../data_samples/netcdf/E-OBS/tg_ens_mean_0.25deg_reg_v29.0e.nc\n",
      "-rw-r--r--  1 bourdin  staff   5.9M  6 Aug 15:18 tmp/T_France.nc\n"
     ]
    }
   ],
   "source": [
    "# Task: Compare the weight of the full temperature file versus the one where you selected only one country\n",
    "# Remark: Pre-processing the file (in that case extracting the region of interest) can greatly reduce file size, \n",
    "# making it faster to load and manipulate in Python.\n",
    "!ls -lhS ../data_samples/netcdf/E-OBS/tg_ens_mean_0.25deg_reg_v29.0e.nc\n",
    "!ls -lhS tmp/T_France.nc"
   ]
  },
  {
   "cell_type": "code",
   "execution_count": 19,
   "id": "da41a83c-49aa-4ef1-a00c-71c69c9c03c8",
   "metadata": {},
   "outputs": [],
   "source": [
    "# Task: Remove the files created in the tmp folder\n",
    "!rm -f tmp/*"
   ]
  },
  {
   "cell_type": "markdown",
   "id": "06a1367c-035c-4371-b33b-de692f5befb0",
   "metadata": {},
   "source": [
    "As you can see, some tools are redundant, and it is up to you to decide which tool works best for you. `nco` and `cdo` contain many more functions, and it is very likely you will be able to do most of any pre-processing with these tools. Do not forget to always check step by step what each function is doing."
   ]
  },
  {
   "cell_type": "markdown",
   "id": "eff2dc12-ab32-47bb-ab3b-ba709597a52c",
   "metadata": {},
   "source": [
    "## 2. Explore and manipulate the data in Python using `xarray`"
   ]
  },
  {
   "cell_type": "markdown",
   "id": "fd480899-2b9c-4e7b-9994-ea316032fa49",
   "metadata": {},
   "source": [
    "`xarray` is a very powerful and intuitive package to manipulate multi-dimensionnal data in Python. It is designed to work well with NetCDF. "
   ]
  },
  {
   "cell_type": "code",
   "execution_count": null,
   "id": "2523cfe6-1232-4d7e-bd91-d29a6268d187",
   "metadata": {},
   "outputs": [],
   "source": []
  }
 ],
 "metadata": {
  "kernelspec": {
   "display_name": "Python 3 (ipykernel)",
   "language": "python",
   "name": "python3"
  },
  "language_info": {
   "codemirror_mode": {
    "name": "ipython",
    "version": 3
   },
   "file_extension": ".py",
   "mimetype": "text/x-python",
   "name": "python",
   "nbconvert_exporter": "python",
   "pygments_lexer": "ipython3",
   "version": "3.11.9"
  }
 },
 "nbformat": 4,
 "nbformat_minor": 5
}
