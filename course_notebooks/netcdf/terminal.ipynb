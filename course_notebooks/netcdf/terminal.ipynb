{
 "cells": [
  {
   "cell_type": "markdown",
   "id": "12af5d32-fb0e-4d53-aa09-dbc89f99b20a",
   "metadata": {},
   "source": [
    "# Using the terminal for NetCDF files"
   ]
  },
  {
   "cell_type": "markdown",
   "id": "23ce5579-7461-4c19-bd83-aeb485000253",
   "metadata": {},
   "source": [
    "Using the terminal is a very handy way to do a quick preliminary analysis of a NetCDF file. \n",
    "You can do run the following examples and exercises either using your terminal, or you can run shell commands by writing `!command` in a Jupyter Notebook cell (as is done below). If you use you terminal, remember to remove the `!` in front of each instruction."
   ]
  },
  {
   "cell_type": "code",
   "execution_count": 1,
   "id": "31cd8cee-c4cf-44e8-9c1b-b00e534e73a9",
   "metadata": {},
   "outputs": [
    {
     "name": "stdout",
     "output_type": "stream",
     "text": [
      "\u001b[34mDesktop\u001b[m\u001b[m               \u001b[34mMusic\u001b[m\u001b[m                 \u001b[34mZotero\u001b[m\u001b[m\n",
      "\u001b[34mDocuments\u001b[m\u001b[m             \u001b[35mOneDrive - Nexus365\u001b[m\u001b[m   slp?.png\n",
      "\u001b[34mDownloads\u001b[m\u001b[m             \u001b[34mPictures\u001b[m\u001b[m              \u001b[31mssh-debug4support.sh\u001b[m\u001b[m\n",
      "\u001b[34mHuracan\u001b[m\u001b[m               \u001b[34mPublic\u001b[m\u001b[m                ssh-debug4support.txt\n",
      "\u001b[34mLibrary\u001b[m\u001b[m               \u001b[34mSofts\u001b[m\u001b[m\n",
      "\u001b[34mMovies\u001b[m\u001b[m                \u001b[34mTeaching\u001b[m\u001b[m\n"
     ]
    }
   ],
   "source": [
    "# Example of running shell commands in Jupyter: Display the content of you home\n",
    "!ls ~"
   ]
  },
  {
   "cell_type": "code",
   "execution_count": 3,
   "id": "13379a8c-5677-4311-b925-d57ef3ac1c83",
   "metadata": {},
   "outputs": [
    {
     "name": "stdout",
     "output_type": "stream",
     "text": [
      "UK_monthly.nc    \u001b[31mprocess.sh\u001b[m\u001b[m       rr_UK_monthly.nc\n",
      "pp_UK_monthly.nc \u001b[34mraw\u001b[m\u001b[m              tg_UK_monthly.nc\n"
     ]
    }
   ],
   "source": [
    "# Task: Display the list of file(s) available in the data folder (../../data_samples/netcdf/E-OBS/)\n",
    "!ls ../../data_samples/netcdf/E-OBS/"
   ]
  },
  {
   "cell_type": "markdown",
   "id": "597ea79d-cb8b-4d72-9682-0fc9a1ddbce8",
   "metadata": {},
   "source": [
    "Files with extension `.nc` are \"NetCDF\" files. It is a standardized binary format suitable for multi-dimensional data. Binary files cannot be read as easily as the text files you have seen previously (you can try to run `head file.nc`, it will yield something, but nothing you can read with a human brain). You need specific tools to read this type of files. \n",
    "\n",
    "## 1. Reading the file: ncdump\n",
    "`ncdump` is the most basic command to check what is in a NetCDF file. Use the `-h` or `-c` option to display the \"header\" of the file, which contains all the essential information. Use the `-v <var>` option to display the content of a specific variable. If you do not specify any option, the whole content of the file is displayed, which, in most cases, will be very long. If you make this mistake, you'll likely need to kill the process (Ctrl+C in the terminal, Stop button in Jupyter). "
   ]
  },
  {
   "cell_type": "code",
   "execution_count": 5,
   "id": "aa1c9662-4f0a-46c9-b2e2-f9a379cbf6d4",
   "metadata": {
    "scrolled": true
   },
   "outputs": [
    {
     "name": "stdout",
     "output_type": "stream",
     "text": [
      "netcdf UK_monthly {\n",
      "dimensions:\n",
      "\tlatitude = 38 ;\n",
      "\tlongitude = 52 ;\n",
      "\ttime = UNLIMITED ; // (888 currently)\n",
      "variables:\n",
      "\tdouble latitude(latitude) ;\n",
      "\t\tlatitude:standard_name = \"latitude\" ;\n",
      "\t\tlatitude:long_name = \"Latitude values\" ;\n",
      "\t\tlatitude:units = \"degrees_north\" ;\n",
      "\t\tlatitude:axis = \"Y\" ;\n",
      "\tdouble longitude(longitude) ;\n",
      "\t\tlongitude:standard_name = \"longitude\" ;\n",
      "\t\tlongitude:long_name = \"Longitude values\" ;\n",
      "\t\tlongitude:units = \"degrees_east\" ;\n",
      "\t\tlongitude:axis = \"X\" ;\n",
      "\tfloat pp(time, latitude, longitude) ;\n",
      "\t\tpp:standard_name = \"air_pressure_at_sea_level\" ;\n",
      "\t\tpp:long_name = \"sea level pressure\" ;\n",
      "\t\tpp:units = \"hPa\" ;\n",
      "\t\tpp:_FillValue = -9999.f ;\n",
      "\t\tpp:missing_value = -9999.f ;\n",
      "\t\tpp:cell_methods = \"time: mean\" ;\n",
      "\tfloat rr(time, latitude, longitude) ;\n",
      "\t\trr:standard_name = \"thickness_of_rainfall_amount\" ;\n",
      "\t\trr:long_name = \"rainfall\" ;\n",
      "\t\trr:units = \"mm\" ;\n",
      "\t\trr:_FillValue = -9999.f ;\n",
      "\t\trr:missing_value = -9999.f ;\n",
      "\t\trr:cell_methods = \"time: mean\" ;\n",
      "\tfloat tg(time, latitude, longitude) ;\n",
      "\t\ttg:standard_name = \"air_temperature\" ;\n",
      "\t\ttg:long_name = \"mean temperature\" ;\n",
      "\t\ttg:units = \"Celsius\" ;\n",
      "\t\ttg:_FillValue = -9999.f ;\n",
      "\t\ttg:missing_value = -9999.f ;\n",
      "\t\ttg:cell_methods = \"time: mean\" ;\n",
      "\tint time(time) ;\n",
      "\t\ttime:standard_name = \"time\" ;\n",
      "\t\ttime:long_name = \"Time in days\" ;\n",
      "\t\ttime:bounds = \"time_bnds\" ;\n",
      "\t\ttime:units = \"days since 1950-01-01 00:00\" ;\n",
      "\t\ttime:calendar = \"standard\" ;\n",
      "\t\ttime:axis = \"T\" ;\n",
      "\n",
      "// global attributes:\n",
      "\t\t:Conventions = \"CF-1.6\" ;\n",
      "\t\t:frequency = \"mon\" ;\n",
      "}\n"
     ]
    }
   ],
   "source": [
    "# Display the header of one of the UK_monthly.nc file in the E-OBS folder\n",
    "!ncdump -h ../../data_samples/netcdf/E-OBS/UK_monthly.nc"
   ]
  },
  {
   "cell_type": "markdown",
   "id": "b6b19b3c-8a49-4a6a-b4be-c248712547a4",
   "metadata": {},
   "source": [
    "**Question: Which variable does each file contain? What are the associated units? What are the dimensions of the variables?**\n",
    "\n",
    "**Question: What is the difference between using the `-c` and `-h` commands?**"
   ]
  },
  {
   "cell_type": "code",
   "execution_count": 6,
   "id": "cfa4d174-a356-4905-b1ff-ec267d04e03b",
   "metadata": {},
   "outputs": [
    {
     "name": "stdout",
     "output_type": "stream",
     "text": [
      "netcdf UK_monthly {\n",
      "dimensions:\n",
      "\tlatitude = 38 ;\n",
      "\tlongitude = 52 ;\n",
      "\ttime = UNLIMITED ; // (888 currently)\n",
      "variables:\n",
      "\tdouble latitude(latitude) ;\n",
      "\t\tlatitude:standard_name = \"latitude\" ;\n",
      "\t\tlatitude:long_name = \"Latitude values\" ;\n",
      "\t\tlatitude:units = \"degrees_north\" ;\n",
      "\t\tlatitude:axis = \"Y\" ;\n",
      "\tdouble longitude(longitude) ;\n",
      "\t\tlongitude:standard_name = \"longitude\" ;\n",
      "\t\tlongitude:long_name = \"Longitude values\" ;\n",
      "\t\tlongitude:units = \"degrees_east\" ;\n",
      "\t\tlongitude:axis = \"X\" ;\n",
      "\tfloat pp(time, latitude, longitude) ;\n",
      "\t\tpp:standard_name = \"air_pressure_at_sea_level\" ;\n",
      "\t\tpp:long_name = \"sea level pressure\" ;\n",
      "\t\tpp:units = \"hPa\" ;\n",
      "\t\tpp:_FillValue = -9999.f ;\n",
      "\t\tpp:missing_value = -9999.f ;\n",
      "\t\tpp:cell_methods = \"time: mean\" ;\n",
      "\tfloat rr(time, latitude, longitude) ;\n",
      "\t\trr:standard_name = \"thickness_of_rainfall_amount\" ;\n",
      "\t\trr:long_name = \"rainfall\" ;\n",
      "\t\trr:units = \"mm\" ;\n",
      "\t\trr:_FillValue = -9999.f ;\n",
      "\t\trr:missing_value = -9999.f ;\n",
      "\t\trr:cell_methods = \"time: mean\" ;\n",
      "\tfloat tg(time, latitude, longitude) ;\n",
      "\t\ttg:standard_name = \"air_temperature\" ;\n",
      "\t\ttg:long_name = \"mean temperature\" ;\n",
      "\t\ttg:units = \"Celsius\" ;\n",
      "\t\ttg:_FillValue = -9999.f ;\n",
      "\t\ttg:missing_value = -9999.f ;\n",
      "\t\ttg:cell_methods = \"time: mean\" ;\n",
      "\tint time(time) ;\n",
      "\t\ttime:standard_name = \"time\" ;\n",
      "\t\ttime:long_name = \"Time in days\" ;\n",
      "\t\ttime:bounds = \"time_bnds\" ;\n",
      "\t\ttime:units = \"days since 1950-01-01 00:00\" ;\n",
      "\t\ttime:calendar = \"standard\" ;\n",
      "\t\ttime:axis = \"T\" ;\n",
      "\n",
      "// global attributes:\n",
      "\t\t:Conventions = \"CF-1.6\" ;\n",
      "\t\t:frequency = \"mon\" ;\n",
      "data:\n",
      "\n",
      " latitude = 49.625, 49.875, 50.125, 50.375, 50.625, 50.875, 51.125, 51.375, \n",
      "    51.625, 51.875, 52.125, 52.375, 52.625, 52.875, 53.125, 53.375, 53.625, \n",
      "    53.875, 54.125, 54.375, 54.625, 54.875, 55.125, 55.375, 55.625, 55.875, \n",
      "    56.125, 56.375, 56.625, 56.875, 57.125, 57.375, 57.625, 57.875, 58.125, \n",
      "    58.375, 58.625, 58.875 ;\n",
      "}\n",
      "netcdf UK_monthly {\n",
      "dimensions:\n",
      "\tlatitude = 38 ;\n",
      "\tlongitude = 52 ;\n",
      "\ttime = UNLIMITED ; // (888 currently)\n",
      "variables:\n",
      "\tdouble latitude(latitude) ;\n",
      "\t\tlatitude:standard_name = \"latitude\" ;\n",
      "\t\tlatitude:long_name = \"Latitude values\" ;\n",
      "\t\tlatitude:units = \"degrees_north\" ;\n",
      "\t\tlatitude:axis = \"Y\" ;\n",
      "\tdouble longitude(longitude) ;\n",
      "\t\tlongitude:standard_name = \"longitude\" ;\n",
      "\t\tlongitude:long_name = \"Longitude values\" ;\n",
      "\t\tlongitude:units = \"degrees_east\" ;\n",
      "\t\tlongitude:axis = \"X\" ;\n",
      "\tfloat pp(time, latitude, longitude) ;\n",
      "\t\tpp:standard_name = \"air_pressure_at_sea_level\" ;\n",
      "\t\tpp:long_name = \"sea level pressure\" ;\n",
      "\t\tpp:units = \"hPa\" ;\n",
      "\t\tpp:_FillValue = -9999.f ;\n",
      "\t\tpp:missing_value = -9999.f ;\n",
      "\t\tpp:cell_methods = \"time: mean\" ;\n",
      "\tfloat rr(time, latitude, longitude) ;\n",
      "\t\trr:standard_name = \"thickness_of_rainfall_amount\" ;\n",
      "\t\trr:long_name = \"rainfall\" ;\n",
      "\t\trr:units = \"mm\" ;\n",
      "\t\trr:_FillValue = -9999.f ;\n",
      "\t\trr:missing_value = -9999.f ;\n",
      "\t\trr:cell_methods = \"time: mean\" ;\n",
      "\tfloat tg(time, latitude, longitude) ;\n",
      "\t\ttg:standard_name = \"air_temperature\" ;\n",
      "\t\ttg:long_name = \"mean temperature\" ;\n",
      "\t\ttg:units = \"Celsius\" ;\n",
      "\t\ttg:_FillValue = -9999.f ;\n",
      "\t\ttg:missing_value = -9999.f ;\n",
      "\t\ttg:cell_methods = \"time: mean\" ;\n",
      "\tint time(time) ;\n",
      "\t\ttime:standard_name = \"time\" ;\n",
      "\t\ttime:long_name = \"Time in days\" ;\n",
      "\t\ttime:bounds = \"time_bnds\" ;\n",
      "\t\ttime:units = \"days since 1950-01-01 00:00\" ;\n",
      "\t\ttime:calendar = \"standard\" ;\n",
      "\t\ttime:axis = \"T\" ;\n",
      "\n",
      "// global attributes:\n",
      "\t\t:Conventions = \"CF-1.6\" ;\n",
      "\t\t:frequency = \"mon\" ;\n",
      "data:\n",
      "\n",
      " longitude = -10.875, -10.625, -10.375, -10.125, -9.875, -9.625, -9.375, \n",
      "    -9.125, -8.875, -8.625, -8.375, -8.125, -7.875, -7.625, -7.375, -7.125, \n",
      "    -6.875, -6.625, -6.375, -6.125, -5.875, -5.625, -5.375, -5.125, -4.875, \n",
      "    -4.625, -4.375, -4.125, -3.875, -3.625, -3.375, -3.125, -2.875, -2.625, \n",
      "    -2.375, -2.125, -1.875, -1.625, -1.375, -1.125, -0.875, -0.625, -0.375, \n",
      "    -0.125, 0.125, 0.375, 0.625, 0.875, 1.125, 1.375, 1.625, 1.875 ;\n",
      "}\n"
     ]
    }
   ],
   "source": [
    "# Task: Display the latitude and longitude variables for one of UK_monthly.nc file in the E-OBS folder\n",
    "!ncdump -v latitude ../../data_samples/netcdf/E-OBS/UK_monthly.nc\n",
    "!ncdump -v longitude ../../data_samples/netcdf/E-OBS/UK_monthly.nc"
   ]
  },
  {
   "cell_type": "markdown",
   "id": "fe2fc124-6953-4367-956d-402373e325b8",
   "metadata": {},
   "source": [
    "**Question: Over which coordinate box is the data provided?**"
   ]
  },
  {
   "cell_type": "markdown",
   "id": "600a0158-bd45-4cd1-9106-681d2eff3c0e",
   "metadata": {},
   "source": [
    "## 2. Visualising the file: ncview\n",
    "`ncview` is a graphical tool to check the content of a NetCDF file. When you run `ncview file.nc` a new window opens with a graphical interface."
   ]
  },
  {
   "cell_type": "code",
   "execution_count": 11,
   "id": "c1a76477-d52d-4ae3-ab83-df16a2d69bd7",
   "metadata": {},
   "outputs": [
    {
     "name": "stdout",
     "output_type": "stream",
     "text": [
      "Ncview 2.1.8 David W. Pierce  8 March 2017\n",
      "http://meteora.ucsd.edu:80/~pierce/ncview_home_page.html\n",
      "Copyright (C) 1993 through 2015, David W. Pierce\n",
      "Ncview comes with ABSOLUTELY NO WARRANTY; for details type `ncview -w'.\n",
      "This is free software licensed under the Gnu General Public License version 3; type `ncview -c' for redistribution details.\n",
      "\n",
      "Note: no Ncview app-defaults file found, using internal defaults\n",
      "calculating min and maxes for pp...\n",
      "calculating min and maxes for rr...\n",
      "calculating min and maxes for tg...\n"
     ]
    }
   ],
   "source": [
    "# Run ncview for one of the E-OBS file, and watch how the variable changes over time. \n",
    "# (You may need to click on the variable name to display it)\n",
    "# NB: To get back control over your terminal or notebook, close the window. \n",
    "!ncview ../data_samples/netcdf/E-OBS/UK_monthly.nc"
   ]
  },
  {
   "cell_type": "markdown",
   "id": "07c59fe8-22eb-4b2c-b425-d382da17d5e9",
   "metadata": {},
   "source": [
    "**Question: What is the range of values each variable takes? Does it seem sensible?**\n",
    "\n",
    "**Question: Over which range of dates is the data provided? What is the frequency of the data**"
   ]
  },
  {
   "cell_type": "markdown",
   "id": "2b18bab9-caa8-4658-ba09-f3bb98ae0b6f",
   "metadata": {},
   "source": [
    "## 3. nco"
   ]
  },
  {
   "cell_type": "markdown",
   "id": "c05d0598-8d9e-42c2-b290-88c3be423f5f",
   "metadata": {},
   "source": [
    "`nco` provides a suite of commands that can be used to manipulate NetCDF files. Here we introduce the most common ones. You may find all the functions <HERE> for future reference.\n",
    "\n",
    "* `ncks` (NetCDF kitchen sink) is used to subset from NetCDF file.\n",
    "* `ncrcat` is used to concatenate files along time dimension.\n",
    "* `ncra` is used to average variables over time.\n",
    "\n",
    "Command line tools require the creation of intermediary files, that we will save in the `tmp` folder."
   ]
  },
  {
   "cell_type": "markdown",
   "id": "b6a47055-ee85-4fd8-bd66-cdd0d00a95a8",
   "metadata": {},
   "source": [
    "### Subsetting particular point or slice with `ncks`\n",
    "`ncks -d dim_name,value(,value2) file_in.nc file_out.nc`\n",
    "NB: If value is a integer, `ncks` will read it as an index (look for the nth value), whereas if value is a float, it will look for the closest value. Therefore, if you want to extract a specific round latitude or longitude, remember to still write `35.0` to be sure to get the value closest to 35, and not the 35th value."
   ]
  },
  {
   "cell_type": "code",
   "execution_count": 10,
   "id": "5d0bf707-300b-414e-8c3b-386d8ac71477",
   "metadata": {},
   "outputs": [
    {
     "name": "stdout",
     "output_type": "stream",
     "text": [
      "ncks: tmp/time_step_10.nc exists---`e'xit, `o'verwrite (i.e., clobber existing file), or `a'ppend (i.e., replace duplicate variables in, and add metadata and new variables to, existing file) (e/o/a)? ^C\n"
     ]
    }
   ],
   "source": [
    "# Extract a given time step\n",
    "!ncks -d time,10 ../../data_samples/netcdf/E-OBS/UK_monthly.nc tmp/time_step_10.nc\n",
    "# Extract a time slice\n",
    "!ncks -d time,10,20 ../../data_samples/netcdf/E-OBS/UK_monthly.nc tmp/time_step_10_20.nc"
   ]
  },
  {
   "cell_type": "code",
   "execution_count": 15,
   "id": "d8a55ad3-30f8-4b70-8acf-bd06588e2254",
   "metadata": {},
   "outputs": [
    {
     "name": "stdout",
     "output_type": "stream",
     "text": [
      "ncks: ERROR file \"../data_samples/netcdf/E-OBS/UK_monthly.nc\" not found. It does not exist on the local filesystem, nor does it match remote filename patterns (e.g., http://foo or foo.bar.edu:file).\n",
      "ncks: HINT file-not-found errors usually arise from filename typos, incorrect paths, missing files, or capricious gods. Please verify spelling and location of requested file. If the file resides on a High Performance Storage System (HPSS) accessible via the 'hsi' command, then add the --hpss option and re-try command.\n"
     ]
    }
   ],
   "source": [
    "# Extract the values for Oxford\n",
    "!ncks -d latitude,51.75 -d longitude,-1.26 ../data_samples/netcdf/E-OBS/UK_monthly.nc tmp/Oxford_nco.nc"
   ]
  },
  {
   "cell_type": "code",
   "execution_count": 16,
   "id": "8fb2cc02-f6ca-4342-b214-9dbec62a0339",
   "metadata": {},
   "outputs": [
    {
     "name": "stdout",
     "output_type": "stream",
     "text": [
      "ncks: ERROR file \"../data_samples/netcdf/E-OBS/UK_monthly.nc\" not found. It does not exist on the local filesystem, nor does it match remote filename patterns (e.g., http://foo or foo.bar.edu:file).\n",
      "ncks: HINT file-not-found errors usually arise from filename typos, incorrect paths, missing files, or capricious gods. Please verify spelling and location of requested file. If the file resides on a High Performance Storage System (HPSS) accessible via the 'hsi' command, then add the --hpss option and re-try command.\n"
     ]
    }
   ],
   "source": [
    "# Extract Temperature over Ireland\n",
    "!ncks -d latitude,51.0,55.5 -d longitude,-11.0,-5.0 ../data_samples/netcdf/E-OBS/UK_monthly.nc tmp/Ireland_nco.nc"
   ]
  },
  {
   "cell_type": "code",
   "execution_count": 11,
   "id": "307b3247-18af-4b11-8cc2-e69c2f673ea1",
   "metadata": {
    "scrolled": true
   },
   "outputs": [
    {
     "name": "stdout",
     "output_type": "stream",
     "text": [
      "netcdf Oxford_nco {\n",
      "dimensions:\n",
      "\tlatitude = 1 ;\n",
      "\tlongitude = 1 ;\n",
      "\ttime = UNLIMITED ; // (888 currently)\n",
      "variables:\n",
      "\tdouble latitude(latitude) ;\n",
      "\t\tlatitude:standard_name = \"latitude\" ;\n",
      "\t\tlatitude:long_name = \"Latitude values\" ;\n",
      "\t\tlatitude:units = \"degrees_north\" ;\n",
      "\t\tlatitude:axis = \"Y\" ;\n",
      "\tdouble longitude(longitude) ;\n",
      "\t\tlongitude:standard_name = \"longitude\" ;\n",
      "\t\tlongitude:long_name = \"Longitude values\" ;\n",
      "\t\tlongitude:units = \"degrees_east\" ;\n",
      "\t\tlongitude:axis = \"X\" ;\n",
      "\tfloat pp(time, latitude, longitude) ;\n",
      "\t\tpp:standard_name = \"air_pressure_at_sea_level\" ;\n",
      "\t\tpp:long_name = \"sea level pressure\" ;\n",
      "\t\tpp:units = \"hPa\" ;\n",
      "\t\tpp:_FillValue = -9999.f ;\n",
      "\t\tpp:missing_value = -9999.f ;\n",
      "\t\tpp:cell_methods = \"time: mean\" ;\n",
      "\tfloat rr(time, latitude, longitude) ;\n",
      "\t\trr:standard_name = \"thickness_of_rainfall_amount\" ;\n",
      "\t\trr:long_name = \"rainfall\" ;\n",
      "\t\trr:units = \"mm\" ;\n",
      "\t\trr:_FillValue = -9999.f ;\n",
      "\t\trr:missing_value = -9999.f ;\n",
      "\t\trr:cell_methods = \"time: mean\" ;\n",
      "\tfloat tg(time, latitude, longitude) ;\n",
      "\t\ttg:standard_name = \"air_temperature\" ;\n",
      "\t\ttg:long_name = \"mean temperature\" ;\n",
      "\t\ttg:units = \"Celsius\" ;\n",
      "\t\ttg:_FillValue = -9999.f ;\n",
      "\t\ttg:missing_value = -9999.f ;\n",
      "\t\ttg:cell_methods = \"time: mean\" ;\n",
      "\tint time(time) ;\n",
      "\t\ttime:standard_name = \"time\" ;\n",
      "\t\ttime:long_name = \"Time in days\" ;\n",
      "\t\ttime:bounds = \"time_bnds\" ;\n",
      "\t\ttime:units = \"days since 1950-01-01 00:00\" ;\n",
      "\t\ttime:calendar = \"standard\" ;\n",
      "\t\ttime:axis = \"T\" ;\n",
      "\n",
      "// global attributes:\n",
      "\t\t:Conventions = \"CF-1.6\" ;\n",
      "\t\t:frequency = \"mon\" ;\n",
      "\t\t:history = \"Sun Aug 11 17:40:39 2024: ncks -d latitude,51.75 -d longitude,-1.26 ../data_samples/netcdf/E-OBS/UK_monthly.nc tmp/Oxford_nco.nc\" ;\n",
      "\t\t:NCO = \"netCDF Operators version 5.2.4 (Homepage = http://nco.sf.net, Code = http://github.com/nco/nco, Citation = 10.1016/j.envsoft.2008.03.004)\" ;\n",
      "}\n",
      "Ncview 2.1.8 David W. Pierce  8 March 2017\n",
      "http://meteora.ucsd.edu:80/~pierce/ncview_home_page.html\n",
      "Copyright (C) 1993 through 2015, David W. Pierce\n",
      "Ncview comes with ABSOLUTELY NO WARRANTY; for details type `ncview -w'.\n",
      "This is free software licensed under the Gnu General Public License version 3; type `ncview -c' for redistribution details.\n",
      "\n",
      "Note: no Ncview app-defaults file found, using internal defaults\n",
      "^C\n"
     ]
    }
   ],
   "source": [
    "# Task: Explore the content of the new files with ncdump and ncview\n",
    "# Remark the changes in dimensions. Check that it is indeed Ireland that has been selected.\n",
    "!ncdump -h tmp/Oxford_nco.nc\n",
    "!ncview tmp/Oxford_nco.nc"
   ]
  },
  {
   "cell_type": "markdown",
   "id": "86703294-9435-4768-a1cc-6fe97e84ab34",
   "metadata": {},
   "source": [
    "### Statistical operations\n",
    "With `ncra` you can average over the whole time of a file, by running `ncra file_in.nc file_out.nc`. It will compute the average for all variables in the file, unless you specify a specific one with `-v`: `ncra -v var file_in.nc file_out.nc`"
   ]
  },
  {
   "cell_type": "code",
   "execution_count": 22,
   "id": "aee6790d-c296-41fb-bfbe-a2ef7004995b",
   "metadata": {},
   "outputs": [],
   "source": [
    "# Compute the average variables over Ireland\n",
    "!ncra tmp/Ireland_nco.nc tmp/Ireland_avg_nco.nc"
   ]
  },
  {
   "cell_type": "code",
   "execution_count": 17,
   "id": "a8eb62b1-03a0-4288-b0be-e8f178561191",
   "metadata": {},
   "outputs": [],
   "source": [
    "# Task: Compute the average for only precipitation over Ireland\n",
    "!ncra -v rr tmp/Ireland_nco.nc tmp/Ireland_rr_avg_nco.nc"
   ]
  },
  {
   "cell_type": "code",
   "execution_count": 23,
   "id": "bcb84785-16ee-44f3-b662-fc9e6225d62a",
   "metadata": {
    "scrolled": true
   },
   "outputs": [
    {
     "name": "stdout",
     "output_type": "stream",
     "text": [
      "netcdf Ireland_avg_nco {\n",
      "dimensions:\n",
      "\tlatitude = 18 ;\n",
      "\tlongitude = 24 ;\n",
      "\ttime = UNLIMITED ; // (1 currently)\n",
      "variables:\n",
      "\tdouble latitude(latitude) ;\n",
      "\t\tlatitude:standard_name = \"latitude\" ;\n",
      "\t\tlatitude:long_name = \"Latitude values\" ;\n",
      "\t\tlatitude:units = \"degrees_north\" ;\n",
      "\t\tlatitude:axis = \"Y\" ;\n",
      "\tdouble longitude(longitude) ;\n",
      "\t\tlongitude:standard_name = \"longitude\" ;\n",
      "\t\tlongitude:long_name = \"Longitude values\" ;\n",
      "\t\tlongitude:units = \"degrees_east\" ;\n",
      "\t\tlongitude:axis = \"X\" ;\n",
      "\tfloat pp(time, latitude, longitude) ;\n",
      "\t\tpp:standard_name = \"air_pressure_at_sea_level\" ;\n",
      "\t\tpp:long_name = \"sea level pressure\" ;\n",
      "\t\tpp:units = \"hPa\" ;\n",
      "\t\tpp:_FillValue = -9999.f ;\n",
      "\t\tpp:missing_value = -9999.f ;\n",
      "\t\tpp:cell_methods = \"time: mean\" ;\n",
      "\tfloat rr(time, latitude, longitude) ;\n",
      "\t\trr:standard_name = \"thickness_of_rainfall_amount\" ;\n",
      "\t\trr:long_name = \"rainfall\" ;\n",
      "\t\trr:units = \"mm\" ;\n",
      "\t\trr:_FillValue = -9999.f ;\n",
      "\t\trr:missing_value = -9999.f ;\n",
      "\t\trr:cell_methods = \"time: mean\" ;\n",
      "\tfloat tg(time, latitude, longitude) ;\n",
      "\t\ttg:standard_name = \"air_temperature\" ;\n",
      "\t\ttg:long_name = \"mean temperature\" ;\n",
      "\t\ttg:units = \"Celsius\" ;\n",
      "\t\ttg:_FillValue = -9999.f ;\n",
      "\t\ttg:missing_value = -9999.f ;\n",
      "\t\ttg:cell_methods = \"time: mean\" ;\n",
      "\tint time(time) ;\n",
      "\t\ttime:standard_name = \"time\" ;\n",
      "\t\ttime:long_name = \"Time in days\" ;\n",
      "\t\ttime:bounds = \"time_bnds\" ;\n",
      "\t\ttime:units = \"days since 1950-01-01 00:00\" ;\n",
      "\t\ttime:calendar = \"standard\" ;\n",
      "\t\ttime:axis = \"T\" ;\n",
      "\t\ttime:cell_methods = \"time: mean\" ;\n",
      "\n",
      "// global attributes:\n",
      "\t\t:Conventions = \"CF-1.6\" ;\n",
      "\t\t:frequency = \"mon\" ;\n",
      "\t\t:history = \"Sun Aug 11 17:41:59 2024: ncra tmp/Ireland_nco.nc tmp/Ireland_avg_nco.nc\\nSun Aug 11 17:40:39 2024: ncks -d latitude,51.0,55.5 -d longitude,-11.0,-5.0 ../data_samples/netcdf/E-OBS/UK_monthly.nc tmp/Ireland_nco.nc\" ;\n",
      "\t\t:NCO = \"netCDF Operators version 5.2.4 (Homepage = http://nco.sf.net, Code = http://github.com/nco/nco, Citation = 10.1016/j.envsoft.2008.03.004)\" ;\n",
      "}\n",
      "Ncview 2.1.8 David W. Pierce  8 March 2017\n",
      "http://meteora.ucsd.edu:80/~pierce/ncview_home_page.html\n",
      "Copyright (C) 1993 through 2015, David W. Pierce\n",
      "Ncview comes with ABSOLUTELY NO WARRANTY; for details type `ncview -w'.\n",
      "This is free software licensed under the Gnu General Public License version 3; type `ncview -c' for redistribution details.\n",
      "\n",
      "Note: no Ncview app-defaults file found, using internal defaults\n",
      "calculating min and maxes for pp.\n",
      "calculating min and maxes for rr.\n",
      "calculating min and maxes for tg.\n"
     ]
    }
   ],
   "source": [
    "# Task: Explore the content of your new file with ncdump and ncview\n",
    "# Remark the time dimension has been reduced to 1.\n",
    "!ncdump -h tmp/Ireland_avg_nco.nc\n",
    "!ncview tmp/Ireland_avg_nco.nc"
   ]
  },
  {
   "cell_type": "markdown",
   "id": "c831561a-9de4-4291-b86c-62204d7e0d48",
   "metadata": {},
   "source": [
    "**Question: What are the rainiest and driest places in Ireland?**"
   ]
  },
  {
   "cell_type": "markdown",
   "id": "2009209c-d1bd-4b74-8d2c-dd391b29592f",
   "metadata": {},
   "source": [
    "## 4. cdo\n",
    "`cdo` is another suite of command line tools to manipulate NetCDF files. It is more comprehensive than `nco`, but, as such, also less simple. A comprehensive documentation can be found here: http://www.idris.fr/media/ada/cdo.pdf . \n",
    "Here again, we introduce basic cdo functions. \n",
    "\n",
    "cdo command always start with `cdo`, then you can call one or several commands, then you name the input file(s) and finally the output file."
   ]
  },
  {
   "cell_type": "markdown",
   "id": "db312a61-0225-4c09-85ea-bd3bb22eeabd",
   "metadata": {},
   "source": [
    "### Exploring the file"
   ]
  },
  {
   "cell_type": "code",
   "execution_count": 24,
   "id": "9951be4d-eb05-41b3-80c4-84fa68479287",
   "metadata": {
    "scrolled": true
   },
   "outputs": [
    {
     "name": "stdout",
     "output_type": "stream",
     "text": [
      "cdi  warning (cdfScanVarAttr): NetCDF: Variable not found - time_bnds\n",
      "\u001b[0;1m   File format\u001b[0m : NetCDF4\n",
      "\u001b[0;1m    -1 : Institut Source   T Steptype Levels Num    Points Num Dtype : Parameter ID\u001b[0m\n",
      "     1 : \u001b[34munknown  unknown  v instant  \u001b[0m\u001b[32m     1 \u001b[0m  1 \u001b[32m     1976 \u001b[0m  1 \u001b[34m F32  \u001b[0m: -1            \n",
      "     2 : \u001b[34munknown  unknown  v instant  \u001b[0m\u001b[32m     1 \u001b[0m  1 \u001b[32m     1976 \u001b[0m  1 \u001b[34m F32  \u001b[0m: -2            \n",
      "     3 : \u001b[34munknown  unknown  v instant  \u001b[0m\u001b[32m     1 \u001b[0m  1 \u001b[32m     1976 \u001b[0m  1 \u001b[34m F32  \u001b[0m: -3            \n",
      "\u001b[0;1m   Grid coordinates\u001b[0m :\n",
      "     1 : \u001b[34mlonlat                  \u001b[0m : \u001b[32mpoints=1976 (52x38)\u001b[0m\n",
      "                        longitude : -10.875 to 1.875 by 0.25 degrees_east\n",
      "                         latitude : 49.625 to 58.875 by 0.25 degrees_north\n",
      "\u001b[0;1m   Vertical coordinates\u001b[0m :\n",
      "     1 : \u001b[34msurface                 \u001b[0m :\u001b[32m levels=1\u001b[0m\n",
      "\u001b[0;1m   Time coordinate\u001b[0m :\n",
      "                             time : \u001b[32m888 steps\n",
      "\u001b[0m     RefTime =  1950-01-01 00:00:00  Units = days  Calendar = standard\n",
      "  YYYY-MM-DD hh:mm:ss  YYYY-MM-DD hh:mm:ss  YYYY-MM-DD hh:mm:ss  YYYY-MM-DD hh:mm:ss\n",
      "\u001b[35m  1950-01-16 00:00:00  1950-02-14 00:00:00  1950-03-16 00:00:00  1950-04-15 00:00:00\n",
      "  1950-05-16 00:00:00  1950-06-15 00:00:00  1950-07-16 00:00:00  1950-08-16 00:00:00\n",
      "  1950-09-15 00:00:00  1950-10-16 00:00:00  1950-11-15 00:00:00  1950-12-16 00:00:00\n",
      "  1951-01-16 00:00:00  1951-02-14 00:00:00  1951-03-16 00:00:00  1951-04-15 00:00:00\n",
      "  1951-05-16 00:00:00  1951-06-15 00:00:00  1951-07-16 00:00:00  1951-08-16 00:00:00\n",
      "  1951-09-15 00:00:00  1951-10-16 00:00:00  1951-11-15 00:00:00  1951-12-16 00:00:00\n",
      "  1952-01-16 00:00:00  1952-02-15 00:00:00  1952-03-16 00:00:00  1952-04-15 00:00:00\n",
      "  1952-05-16 00:00:00  1952-06-15 00:00:00  1952-07-16 00:00:00  1952-08-16 00:00:00\n",
      "  1952-09-15 00:00:00  1952-10-16 00:00:00  1952-11-15 00:00:00  1952-12-16 00:00:00\n",
      "  1953-01-16 00:00:00  1953-02-14 00:00:00  1953-03-16 00:00:00  1953-04-15 00:00:00\n",
      "  1953-05-16 00:00:00  1953-06-15 00:00:00  1953-07-16 00:00:00  1953-08-16 00:00:00\n",
      "  1953-09-15 00:00:00  1953-10-16 00:00:00  1953-11-15 00:00:00  1953-12-16 00:00:00\n",
      "  1954-01-16 00:00:00  1954-02-14 00:00:00  1954-03-16 00:00:00  1954-04-15 00:00:00\n",
      "  1954-05-16 00:00:00  1954-06-15 00:00:00  1954-07-16 00:00:00  1954-08-16 00:00:00\n",
      "  1954-09-15 00:00:00  1954-10-16 00:00:00  1954-11-15 00:00:00  1954-12-16 00:00:00\n",
      "   ................................................................................\n",
      "   .....................................................................\n",
      "  2019-01-16 00:00:00  2019-02-14 00:00:00  2019-03-16 00:00:00  2019-04-15 00:00:00\n",
      "  2019-05-16 00:00:00  2019-06-15 00:00:00  2019-07-16 00:00:00  2019-08-16 00:00:00\n",
      "  2019-09-15 00:00:00  2019-10-16 00:00:00  2019-11-15 00:00:00  2019-12-16 00:00:00\n",
      "  2020-01-16 00:00:00  2020-02-15 00:00:00  2020-03-16 00:00:00  2020-04-15 00:00:00\n",
      "  2020-05-16 00:00:00  2020-06-15 00:00:00  2020-07-16 00:00:00  2020-08-16 00:00:00\n",
      "  2020-09-15 00:00:00  2020-10-16 00:00:00  2020-11-15 00:00:00  2020-12-16 00:00:00\n",
      "  2021-01-16 00:00:00  2021-02-14 00:00:00  2021-03-16 00:00:00  2021-04-15 00:00:00\n",
      "  2021-05-16 00:00:00  2021-06-15 00:00:00  2021-07-16 00:00:00  2021-08-16 00:00:00\n",
      "  2021-09-15 00:00:00  2021-10-16 00:00:00  2021-11-15 00:00:00  2021-12-16 00:00:00\n",
      "  2022-01-16 00:00:00  2022-02-14 00:00:00  2022-03-16 00:00:00  2022-04-15 00:00:00\n",
      "  2022-05-16 00:00:00  2022-06-15 00:00:00  2022-07-16 00:00:00  2022-08-16 00:00:00\n",
      "  2022-09-15 00:00:00  2022-10-16 00:00:00  2022-11-15 00:00:00  2022-12-16 00:00:00\n",
      "  2023-01-16 00:00:00  2023-02-14 00:00:00  2023-03-16 00:00:00  2023-04-15 00:00:00\n",
      "  2023-05-16 00:00:00  2023-06-15 00:00:00  2023-07-16 00:00:00  2023-08-16 00:00:00\n",
      "  2023-09-15 00:00:00  2023-10-16 00:00:00  2023-11-15 00:00:00  2023-12-16 00:00:00\u001b[0m\n",
      "\u001b[32mcdo    sinfo: \u001b[0mProcessed 3 variables over 888 timesteps [0.02s 37MB]\n"
     ]
    }
   ],
   "source": [
    "# Task: Check the dimensions of a file using cdo sinfo\n",
    "!cdo sinfo ../data_samples/netcdf/E-OBS/UK_monthly.nc"
   ]
  },
  {
   "cell_type": "code",
   "execution_count": 25,
   "id": "c6cf74a0-efb0-46a2-8f2a-ad6a30b6650a",
   "metadata": {},
   "outputs": [
    {
     "name": "stdout",
     "output_type": "stream",
     "text": [
      "cdi  warning (cdfScanVarAttr): NetCDF: Variable not found - time_bnds\n",
      " pp rr tg\n",
      "\u001b[32mcdo    showname: \u001b[0mProcessed 3 variables [0.02s 38MB]\n"
     ]
    }
   ],
   "source": [
    "# Check the variables contained in a file using cdo showname\n",
    "!cdo showname ../data_samples/netcdf/E-OBS/UK_monthly.nc"
   ]
  },
  {
   "cell_type": "markdown",
   "id": "b033bd7f-eaf6-4c8e-bc01-6fe708ecf776",
   "metadata": {},
   "source": [
    "### Subsetting"
   ]
  },
  {
   "cell_type": "code",
   "execution_count": 28,
   "id": "f7eefee6-8a83-417a-a1c0-901a5d581a3b",
   "metadata": {},
   "outputs": [
    {
     "name": "stdout",
     "output_type": "stream",
     "text": [
      "cdi  warning (cdfScanVarAttr): NetCDF: Variable not found - time_bnds\n",
      "\u001b[32mcdo    remapnn: \u001b[0mNearest neighbor weights from lonlat (52x38) to lonlat (1x1) grid, with source mask (624)\n",
      "cdo    remapnn:   10\u001b[32mcdo    remapnn: \u001b[0mNearest neighbor weights from lonlat (52x38) to lonlat (1x1) grid, with source mask (686)\n",
      "cdo    remapnn:   10\u001b[32mcdo    remapnn: \u001b[0mNearest neighbor weights from lonlat (52x38) to lonlat (1x1) grid, with source mask (685)\n",
      "cdo    remapnn:   10\u001b[32mcdo    remapnn: \u001b[0mNearest neighbor weights from lonlat (52x38) to lonlat (1x1) grid, with source mask (647)\n",
      "cdo    remapnn:   10\u001b[32mcdo    remapnn: \u001b[0mNearest neighbor weights from lonlat (52x38) to lonlat (1x1) grid, with source mask (680)\n",
      "cdo    remapnn:   10\u001b[32mcdo    remapnn: \u001b[0mNearest neighbor weights from lonlat (52x38) to lonlat (1x1) grid, with source mask (667)\n",
      "cdo    remapnn:   10\u001b[32mcdo    remapnn: \u001b[0mProcessed 5264064 values from 3 variables over 888 timesteps [0.18s 64MB]\n"
     ]
    }
   ],
   "source": [
    "# Select values for Oxford\n",
    "!cdo -remapnn,lon=51.75/lat=1.26 ../data_samples/netcdf/E-OBS/UK_monthly.nc tmp/Oxford_cdo.nc"
   ]
  },
  {
   "cell_type": "code",
   "execution_count": 29,
   "id": "b2874d2c-3967-4c56-9f78-d92ff2fa55af",
   "metadata": {},
   "outputs": [
    {
     "name": "stdout",
     "output_type": "stream",
     "text": [
      "cdi  warning (cdfScanVarAttr): NetCDF: Variable not found - time_bnds\n",
      "\u001b[32mcdo    sellonlatbox: \u001b[0mProcessed 5264064 values from 3 variables over 888 timesteps [0.18s 71MB]\n"
     ]
    }
   ],
   "source": [
    "# Select the same box as before with cdo sellonlatbox\n",
    "!cdo sellonlatbox,-11,-5,51,55.5 ../data_samples/netcdf/E-OBS/UK_monthly.nc tmp/Ireland_cdo.nc"
   ]
  },
  {
   "cell_type": "code",
   "execution_count": 30,
   "id": "ce06d7ca-61fd-4f88-bd17-1c66d5b06466",
   "metadata": {
    "scrolled": true
   },
   "outputs": [
    {
     "name": "stdout",
     "output_type": "stream",
     "text": [
      "netcdf Oxford_cdo {\n",
      "dimensions:\n",
      "\ttime = UNLIMITED ; // (888 currently)\n",
      "\tlon = 1 ;\n",
      "\tlat = 1 ;\n",
      "variables:\n",
      "\tint time(time) ;\n",
      "\t\ttime:standard_name = \"time\" ;\n",
      "\t\ttime:long_name = \"Time in days\" ;\n",
      "\t\ttime:units = \"days since 1950-01-01 00:00\" ;\n",
      "\t\ttime:calendar = \"standard\" ;\n",
      "\t\ttime:axis = \"T\" ;\n",
      "\tdouble lon(lon) ;\n",
      "\t\tlon:standard_name = \"longitude\" ;\n",
      "\t\tlon:long_name = \"longitude\" ;\n",
      "\t\tlon:units = \"degrees_east\" ;\n",
      "\t\tlon:axis = \"X\" ;\n",
      "\tdouble lat(lat) ;\n",
      "\t\tlat:standard_name = \"latitude\" ;\n",
      "\t\tlat:long_name = \"latitude\" ;\n",
      "\t\tlat:units = \"degrees_north\" ;\n",
      "\t\tlat:axis = \"Y\" ;\n",
      "\tfloat pp(time, lat, lon) ;\n",
      "\t\tpp:standard_name = \"air_pressure_at_sea_level\" ;\n",
      "\t\tpp:long_name = \"sea level pressure\" ;\n",
      "\t\tpp:units = \"hPa\" ;\n",
      "\t\tpp:_FillValue = -9999.f ;\n",
      "\t\tpp:missing_value = -9999.f ;\n",
      "\t\tpp:cell_methods = \"time: mean\" ;\n",
      "\tfloat rr(time, lat, lon) ;\n",
      "\t\trr:standard_name = \"thickness_of_rainfall_amount\" ;\n",
      "\t\trr:long_name = \"rainfall\" ;\n",
      "\t\trr:units = \"mm\" ;\n",
      "\t\trr:_FillValue = -9999.f ;\n",
      "\t\trr:missing_value = -9999.f ;\n",
      "\t\trr:cell_methods = \"time: mean\" ;\n",
      "\tfloat tg(time, lat, lon) ;\n",
      "\t\ttg:standard_name = \"air_temperature\" ;\n",
      "\t\ttg:long_name = \"mean temperature\" ;\n",
      "\t\ttg:units = \"Celsius\" ;\n",
      "\t\ttg:_FillValue = -9999.f ;\n",
      "\t\ttg:missing_value = -9999.f ;\n",
      "\t\ttg:cell_methods = \"time: mean\" ;\n",
      "\n",
      "// global attributes:\n",
      "\t\t:CDI = \"Climate Data Interface version 2.4.0 (https://mpimet.mpg.de/cdi)\" ;\n",
      "\t\t:Conventions = \"CF-1.6\" ;\n",
      "\t\t:frequency = \"mon\" ;\n",
      "\t\t:history = \"Sun Aug 11 17:47:36 2024: cdo -remapnn,lon=51.75/lat=1.26 ../data_samples/netcdf/E-OBS/UK_monthly.nc tmp/Oxford_cdo.nc\" ;\n",
      "\t\t:CDO = \"Climate Data Operators version 2.4.0 (https://mpimet.mpg.de/cdo)\" ;\n",
      "}\n",
      "Ncview 2.1.8 David W. Pierce  8 March 2017\n",
      "http://meteora.ucsd.edu:80/~pierce/ncview_home_page.html\n",
      "Copyright (C) 1993 through 2015, David W. Pierce\n",
      "Ncview comes with ABSOLUTELY NO WARRANTY; for details type `ncview -w'.\n",
      "This is free software licensed under the Gnu General Public License version 3; type `ncview -c' for redistribution details.\n",
      "\n",
      "Note: no Ncview app-defaults file found, using internal defaults\n"
     ]
    }
   ],
   "source": [
    "# Task: Explore the content of your new files with ncdump and ncview\n",
    "!ncdump -h tmp/Oxford_cdo.nc\n",
    "!ncview tmp/Oxford_cdo.nc"
   ]
  },
  {
   "cell_type": "markdown",
   "id": "5388d385-3b81-4d54-bdc7-7ff7e0707c8d",
   "metadata": {},
   "source": [
    "**Question: Can you see an increase in temperature over the period in Oxford?**"
   ]
  },
  {
   "cell_type": "markdown",
   "id": "dbc51e9a-e5dd-46b2-8779-8ab4339cec24",
   "metadata": {},
   "source": [
    "### Statistical operations"
   ]
  },
  {
   "cell_type": "code",
   "execution_count": 36,
   "id": "cc3623ef-bff4-426b-aaac-a92076451fbc",
   "metadata": {},
   "outputs": [
    {
     "name": "stdout",
     "output_type": "stream",
     "text": [
      "cdo    yearmean:                        1 1 1 1 1 1 1 1 1 1 2 2 2 2 2 2 2 2 2 2 3 3 3 3 3 3 3 3 3 3 4 4 4 4 4 4 4 4 4 4 5 5 5 5 5 5 5 5 5 5 6 6 6 6 6 6 6 6 6 6 7 7 7 7 7 7 7 7 7 7 8 8 8 8 8 8 8 8 8 8 9 9 9 9 9 9 9 9 9 91\u001b[32mcdo    yearmean: \u001b[0mProcessed 2664 values from 3 variables over 888 timesteps [0.10s 35MB]\n"
     ]
    }
   ],
   "source": [
    "# Compute the yearly averaged time series using cdo yearmean\n",
    "!cdo yearmean tmp/Oxford_cdo.nc tmp/Oxford_yearly_cdo.nc"
   ]
  },
  {
   "cell_type": "code",
   "execution_count": 37,
   "id": "f735d77b-8c15-44f9-aa17-0017fedea231",
   "metadata": {},
   "outputs": [
    {
     "name": "stdout",
     "output_type": "stream",
     "text": [
      "Ncview 2.1.8 David W. Pierce  8 March 2017\n",
      "http://meteora.ucsd.edu:80/~pierce/ncview_home_page.html\n",
      "Copyright (C) 1993 through 2015, David W. Pierce\n",
      "Ncview comes with ABSOLUTELY NO WARRANTY; for details type `ncview -w'.\n",
      "This is free software licensed under the Gnu General Public License version 3; type `ncview -c' for redistribution details.\n",
      "\n",
      "Note: no Ncview app-defaults file found, using internal defaults\n",
      "^C\n"
     ]
    }
   ],
   "source": [
    "# Visualize the new file with ncview\n",
    "!ncview tmp/Oxford_yearly_cdo.nc"
   ]
  },
  {
   "cell_type": "markdown",
   "id": "c33b4307-ca5a-472f-99ab-5ad231b2be63",
   "metadata": {},
   "source": [
    "**Question: Can you see an increase in yearly temperature over the 1950-2023 period in Oxford?**"
   ]
  },
  {
   "cell_type": "code",
   "execution_count": 35,
   "id": "fc18857d-ec3c-4770-b5f0-ab2c41eff2c8",
   "metadata": {},
   "outputs": [
    {
     "name": "stdout",
     "output_type": "stream",
     "text": [
      "cdo    timmean:                        1 1 1 1 1 1 1 1 1 1 2 2 2 2 2 2 2 2 2 2 3 3 3 3 3 3 3 3 3 3 4 4 4 4 4 4 4 4 4 4 5 5 5 5 5 5 5 5 5 5 6 6 6 6 6 6 6 6 6 6 7 7 7 7 7 7 7 7 7 7 8 8 8 8 8 8 8 8 8 8 9 9 9 9 9 9 9 9 9 910\u001b[32mcdo    timmean: \u001b[0mProcessed 1150848 values from 3 variables over 888 timesteps [0.11s 46MB]\n"
     ]
    }
   ],
   "source": [
    "# Compute the average (over time) temperature in Ireland\n",
    "!cdo timmean tmp/Ireland_cdo.nc tmp/Ireland_avg_cdo.nc"
   ]
  },
  {
   "cell_type": "code",
   "execution_count": 34,
   "id": "d12c1288-1947-4e37-bed9-365ba58b6ff2",
   "metadata": {
    "scrolled": true
   },
   "outputs": [
    {
     "name": "stdout",
     "output_type": "stream",
     "text": [
      "netcdf Ireland_avg_cdo {\n",
      "dimensions:\n",
      "\ttime = UNLIMITED ; // (1 currently)\n",
      "\tbnds = 2 ;\n",
      "\tlongitude = 24 ;\n",
      "\tlatitude = 18 ;\n",
      "variables:\n",
      "\tint time(time) ;\n",
      "\t\ttime:standard_name = \"time\" ;\n",
      "\t\ttime:long_name = \"Time in days\" ;\n",
      "\t\ttime:bounds = \"time_bnds\" ;\n",
      "\t\ttime:units = \"days since 1950-01-01 00:00\" ;\n",
      "\t\ttime:calendar = \"standard\" ;\n",
      "\t\ttime:axis = \"T\" ;\n",
      "\tdouble time_bnds(time, bnds) ;\n",
      "\tdouble longitude(longitude) ;\n",
      "\t\tlongitude:standard_name = \"longitude\" ;\n",
      "\t\tlongitude:long_name = \"Longitude values\" ;\n",
      "\t\tlongitude:units = \"degrees_east\" ;\n",
      "\t\tlongitude:axis = \"X\" ;\n",
      "\tdouble latitude(latitude) ;\n",
      "\t\tlatitude:standard_name = \"latitude\" ;\n",
      "\t\tlatitude:long_name = \"Latitude values\" ;\n",
      "\t\tlatitude:units = \"degrees_north\" ;\n",
      "\t\tlatitude:axis = \"Y\" ;\n",
      "\tfloat pp(time, latitude, longitude) ;\n",
      "\t\tpp:standard_name = \"air_pressure_at_sea_level\" ;\n",
      "\t\tpp:long_name = \"sea level pressure\" ;\n",
      "\t\tpp:units = \"hPa\" ;\n",
      "\t\tpp:_FillValue = -9999.f ;\n",
      "\t\tpp:missing_value = -9999.f ;\n",
      "\t\tpp:cell_methods = \"time: mean\" ;\n",
      "\tfloat rr(time, latitude, longitude) ;\n",
      "\t\trr:standard_name = \"thickness_of_rainfall_amount\" ;\n",
      "\t\trr:long_name = \"rainfall\" ;\n",
      "\t\trr:units = \"mm\" ;\n",
      "\t\trr:_FillValue = -9999.f ;\n",
      "\t\trr:missing_value = -9999.f ;\n",
      "\t\trr:cell_methods = \"time: mean\" ;\n",
      "\tfloat tg(time, latitude, longitude) ;\n",
      "\t\ttg:standard_name = \"air_temperature\" ;\n",
      "\t\ttg:long_name = \"mean temperature\" ;\n",
      "\t\ttg:units = \"Celsius\" ;\n",
      "\t\ttg:_FillValue = -9999.f ;\n",
      "\t\ttg:missing_value = -9999.f ;\n",
      "\t\ttg:cell_methods = \"time: mean\" ;\n",
      "\n",
      "// global attributes:\n",
      "\t\t:CDI = \"Climate Data Interface version 2.4.0 (https://mpimet.mpg.de/cdi)\" ;\n",
      "\t\t:Conventions = \"CF-1.6\" ;\n",
      "\t\t:frequency = \"mon\" ;\n",
      "\t\t:history = \"Sun Aug 11 17:50:47 2024: cdo timmean tmp/Ireland_cdo.nc tmp/Ireland_avg_cdo.nc\\nSun Aug 11 17:48:23 2024: cdo sellonlatbox,-11,-5,51,55.5 ../data_samples/netcdf/E-OBS/UK_monthly.nc tmp/Ireland_cdo.nc\" ;\n",
      "\t\t:CDO = \"Climate Data Operators version 2.4.0 (https://mpimet.mpg.de/cdo)\" ;\n",
      "}\n",
      "Ncview 2.1.8 David W. Pierce  8 March 2017\n",
      "http://meteora.ucsd.edu:80/~pierce/ncview_home_page.html\n",
      "Copyright (C) 1993 through 2015, David W. Pierce\n",
      "Ncview comes with ABSOLUTELY NO WARRANTY; for details type `ncview -w'.\n",
      "This is free software licensed under the Gnu General Public License version 3; type `ncview -c' for redistribution details.\n",
      "\n",
      "Note: no Ncview app-defaults file found, using internal defaults\n",
      "calculating min and maxes for tg.\n",
      "calculating min and maxes for rr.\n",
      "calculating min and maxes for pp.\n"
     ]
    }
   ],
   "source": [
    "# Task: Explore the content of your new file with ncdump and ncview. Check that you get the same values as with nco before.\n",
    "!ncdump -h tmp/Ireland_avg_cdo.nc\n",
    "!ncview tmp/Ireland_avg_cdo.nc"
   ]
  },
  {
   "cell_type": "code",
   "execution_count": 17,
   "id": "8eb889f2-8b32-4829-9dba-8d89b11e1d94",
   "metadata": {
    "scrolled": true
   },
   "outputs": [
    {
     "name": "stdout",
     "output_type": "stream",
     "text": [
      "ncdump: tmp/T_France_fldmean_yearmean.nc: No such file or directory\n",
      "Ncview 2.1.8 David W. Pierce  8 March 2017\n",
      "http://meteora.ucsd.edu:80/~pierce/ncview_home_page.html\n",
      "Copyright (C) 1993 through 2015, David W. Pierce\n",
      "Ncview comes with ABSOLUTELY NO WARRANTY; for details type `ncview -w'.\n",
      "This is free software licensed under the Gnu General Public License version 3; type `ncview -c' for redistribution details.\n",
      "\n",
      "ncview: can't open file tmp/T_France_fldmean_yearmean.nc : No such file or directory\n"
     ]
    }
   ],
   "source": [
    "# Task: Explore the content of your new file with ncdump and ncview\n",
    "# Remark the time dimension now shows 74 time steps for the 74 years of the dataset.\n",
    "!ncdump -h tmp/T_France_fldmean_yearmean.nc\n",
    "!ncview tmp/T_France_fldmean_yearmean.nc"
   ]
  },
  {
   "cell_type": "markdown",
   "id": "0042f5a2-4c80-4ea9-810c-4742e7538b42",
   "metadata": {},
   "source": [
    "### Chaining commands"
   ]
  },
  {
   "cell_type": "markdown",
   "id": "fc57f0fe-a142-48f4-9f88-c0ce1c04d0ee",
   "metadata": {},
   "source": [
    "`cdo` commands can be chained, but make sure to use the dashes, and be mindful of the order of processes."
   ]
  },
  {
   "cell_type": "code",
   "execution_count": 18,
   "id": "ed8a5cf7-f57f-4d38-a781-ce2752811de1",
   "metadata": {},
   "outputs": [
    {
     "name": "stdout",
     "output_type": "stream",
     "text": [
      "\u001b[32mcdo(1) fldmean: \u001b[0mProcess started\n",
      "\u001b[32mcdo(2) sellonlatbox: \u001b[0mProcess started\n",
      "HDF5-DIAG: Error detected in HDF5 (1.14.3) thread 1:\n",
      "  #000: H5F.c line 660 in H5Fcreate(): unable to synchronously create file\n",
      "    major: File accessibility\n",
      "    minor: Unable to create file\n",
      "  #001: H5F.c line 614 in H5F__create_api_common(): unable to create file\n",
      "    major: File accessibility\n",
      "    minor: Unable to open file\n",
      "  #002: H5VLcallback.c line 3605 in H5VL_file_create(): file create failed\n",
      "    major: Virtual Object Layer\n",
      "    minor: Unable to create file\n",
      "  #003: H5VLcallback.c line 3571 in H5VL__file_create(): file create failed\n",
      "    major: Virtual Object Layer\n",
      "    minor: Unable to create file\n",
      "  #004: H5VLnative_file.c line 94 in H5VL__native_file_create(): unable to create file\n",
      "    major: File accessibility\n",
      "    minor: Unable to open file\n",
      "  #005: H5Fint.c line 1852 in H5F_open(): unable to open file: name = 'tmp/chain.nc', tent_flags = 13\n",
      "    major: File accessibility\n",
      "    minor: Unable to open file\n",
      "  #006: H5FD.c line 769 in H5FD_open(): open failed\n",
      "    major: Virtual File Layer\n",
      "    minor: Unable to initialize object\n",
      "  #007: H5FDsec2.c line 326 in H5FD__sec2_open(): unable to open file: name = 'tmp/chain.nc', errno = 2, error message = 'No such file or directory', flags = 13, o_flags = 602\n",
      "    major: File accessibility\n",
      "    minor: Unable to open file\n",
      "\n",
      "cdi  error (cdf__create): tmp/chain.nc: Permission denied\n",
      "cdi  error, namespaceSetActive, namespace.c, line 243\n",
      "errorString: \"assertion `(unsigned) nId < namespacesSize && namespaces[nId].resStage != NAMESPACE_STATUS_UNUSED` failed\"\n"
     ]
    }
   ],
   "source": [
    "# Task: Run the previous workflow chaining all the commands\n",
    "!cdo -yearmean -fldmean -sellonlatbox,-4.7,7.8,42.5,51.0 ../data_samples/netcdf/E-OBS/tg_ens_mean_0.25deg_reg_v29.0e.nc tmp/chain.nc"
   ]
  },
  {
   "cell_type": "code",
   "execution_count": 19,
   "id": "e2f45bec-cc36-4c3c-8da7-e7cf5b2d8486",
   "metadata": {
    "scrolled": true
   },
   "outputs": [
    {
     "name": "stdout",
     "output_type": "stream",
     "text": [
      "ncdump: tmp/chain.nc: No such file or directory\n",
      "Ncview 2.1.8 David W. Pierce  8 March 2017\n",
      "http://meteora.ucsd.edu:80/~pierce/ncview_home_page.html\n",
      "Copyright (C) 1993 through 2015, David W. Pierce\n",
      "Ncview comes with ABSOLUTELY NO WARRANTY; for details type `ncview -w'.\n",
      "This is free software licensed under the Gnu General Public License version 3; type `ncview -c' for redistribution details.\n",
      "\n",
      "ncview: can't open file tmp/chain.nc : No such file or directory\n"
     ]
    }
   ],
   "source": [
    "# Task: Explore the content of your new file with ncdump and ncview\n",
    "!ncdump -h tmp/chain.nc\n",
    "!ncview tmp/chain.nc"
   ]
  },
  {
   "cell_type": "code",
   "execution_count": 20,
   "id": "7515ff91-9658-40cc-a6ed-a19107a9b80d",
   "metadata": {},
   "outputs": [
    {
     "name": "stdout",
     "output_type": "stream",
     "text": [
      "\u001b[31mcdo    diff: \u001b[0mOpen failed on >tmp/T_France_fldmean_yearmean.nc<\n",
      "             No such file or directory\n"
     ]
    }
   ],
   "source": [
    "# Task: Compare the file built step by step and the one with command chaining using cdo diff\n",
    "# Remark some records might differ but the small values indicate averaging errors more than a real difference in the outcomes.\n",
    "!cdo diff tmp/T_France_fldmean_yearmean.nc tmp/chain.nc"
   ]
  },
  {
   "cell_type": "markdown",
   "id": "d0d0f1fc-f78e-43f8-ab22-167343b3660f",
   "metadata": {},
   "source": [
    "### Wrap-up on terminal use\n",
    "There are two reasons for using the terminal to explore and manipulate your files before going to Python: \n",
    "1. To get a quick look at a file and checking that it contains what you want before you open Python\n",
    "2. Data manipulation with `nco` and `cdo` (see below) are much more efficient than in Python. For heavy file, it is recommended to first reduce data dimensionality and weight with command-line tools before you open the files in Python. "
   ]
  },
  {
   "cell_type": "code",
   "execution_count": 21,
   "id": "dd61b260-9419-4700-a7a6-e0055a3758f1",
   "metadata": {},
   "outputs": [
    {
     "name": "stdout",
     "output_type": "stream",
     "text": [
      "-rw-r--r--  1 bourdin  staff    61M  6 Aug 15:35 ../data_samples/netcdf/E-OBS/tg_ens_mean_0.25deg_reg_v29.0e.nc\n",
      "ls: tmp/T_France.nc: No such file or directory\n"
     ]
    }
   ],
   "source": [
    "# Task: Compare the weight of the full temperature file versus the one where you selected only one country\n",
    "# Remark: Pre-processing the file (in that case extracting the region of interest) can greatly reduce file size, \n",
    "# making it faster to load and manipulate in Python.\n",
    "!ls -lhS ../data_samples/netcdf/E-OBS/tg_ens_mean_0.25deg_reg_v29.0e.nc\n",
    "!ls -lhS tmp/T_France.nc"
   ]
  },
  {
   "cell_type": "code",
   "execution_count": 22,
   "id": "da41a83c-49aa-4ef1-a00c-71c69c9c03c8",
   "metadata": {},
   "outputs": [
    {
     "name": "stdout",
     "output_type": "stream",
     "text": [
      "zsh:1: no matches found: tmp/*\n"
     ]
    }
   ],
   "source": [
    "# Task: Remove the files created in the tmp folder\n",
    "!rm -f tmp/*"
   ]
  },
  {
   "cell_type": "markdown",
   "id": "06a1367c-035c-4371-b33b-de692f5befb0",
   "metadata": {},
   "source": [
    "As you can see, some tools are redundant, and it is up to you to decide which tool works best for you. `nco` and `cdo` contain many more functions, and it is very likely you will be able to do most of any pre-processing with these tools. Do not forget to always check step by step what each function is doing."
   ]
  },
  {
   "cell_type": "code",
   "execution_count": null,
   "id": "b2c4febc-9908-4501-b6f0-9cd928fed136",
   "metadata": {},
   "outputs": [],
   "source": []
  }
 ],
 "metadata": {
  "kernelspec": {
   "display_name": "Python 3 (ipykernel)",
   "language": "python",
   "name": "python3"
  },
  "language_info": {
   "codemirror_mode": {
    "name": "ipython",
    "version": 3
   },
   "file_extension": ".py",
   "mimetype": "text/x-python",
   "name": "python",
   "nbconvert_exporter": "python",
   "pygments_lexer": "ipython3",
   "version": "3.11.9"
  }
 },
 "nbformat": 4,
 "nbformat_minor": 5
}
