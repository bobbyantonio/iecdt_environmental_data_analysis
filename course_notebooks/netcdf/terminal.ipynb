{
 "cells": [
  {
   "cell_type": "markdown",
   "id": "12af5d32-fb0e-4d53-aa09-dbc89f99b20a",
   "metadata": {},
   "source": [
    "# Using the terminal for NetCDF files"
   ]
  },
  {
   "cell_type": "markdown",
   "id": "23ce5579-7461-4c19-bd83-aeb485000253",
   "metadata": {},
   "source": [
    "Using the terminal is a very handy way to do a quick preliminary analysis of a NetCDF file. \n",
    "You can do run the following examples and exercises either using your terminal, or you can run shell commands by writing `!command` in a Jupyter Notebook cell (as is done below). If you use you terminal, remember to remove the `!` in front of each instruction."
   ]
  },
  {
   "cell_type": "code",
   "execution_count": 1,
   "id": "31cd8cee-c4cf-44e8-9c1b-b00e534e73a9",
   "metadata": {},
   "outputs": [
    {
     "name": "stdout",
     "output_type": "stream",
     "text": [
      "1. Climate and CO2 concentrations(1).ipynb\n",
      "1. Climate and CO2 concentrations.ipynb\n",
      "114.mp4\n",
      "2. 20th century climate.ipynb\n",
      "2D_GaussianProcess.ipynb\n",
      "55001.mp4\n",
      "55006.mp4\n",
      "AGU_FDL_submission.docx\n",
      "AGU_FDL_submission_edit.docx\n",
      "AGU_FDL_submission_edit_DWP.docx\n",
      "\u001b[1m\u001b[34mAnacondaProjects\u001b[m\u001b[m\n",
      "\u001b[1m\u001b[34mApplications\u001b[m\u001b[m\n",
      "AuditMaster20190123.xlsx\n",
      "AuditMaster20190123_FIXED.xlsx\n",
      "AuditMaster20190123_FIXEDSOMEMORE.xlsx\n",
      "\u001b[1m\u001b[34mBattleScribe\u001b[m\u001b[m\n",
      "Biomass_effect_draft1_Haochi_will_edit.docx\n",
      "Britain.pcx\n",
      "CONTROL\n",
      "ClimateandCO2concentrations.ipynb\n",
      "DCC-detect-8f61c9e2b0eb.json\n",
      "DSE_100.png\n",
      "DSE_10000.png\n",
      "DSE_1500.png\n",
      "DSE_500.png\n",
      "DSE_5000.png\n",
      "DTP2017_slides.pdf\n",
      "\u001b[1m\u001b[34mDesktop\u001b[m\u001b[m\n",
      "\u001b[1m\u001b[34mDocuments\u001b[m\u001b[m\n",
      "\u001b[1m\u001b[34mDownloads\u001b[m\u001b[m\n",
      "EGU2020-20208_presentation.pptx\n",
      "EGU_abstract_WillJones_edit.docx\n",
      "Empirical_ship_power.ipynb\n",
      "GLM_histograms_dev.ipynb\n",
      "GLM_histograms_full.ipynb\n",
      "GOES.gif\n",
      "GSO.14.MPLS_Nov_2018_will.docx\n",
      "GSO.14.MPLS_Nov_2018_will_PS.docx\n",
      "HadCRUT.4.5.0.0.annual_ns_avg.txt\n",
      "Iterative_trajectory.ipynb\n",
      "\u001b[1m\u001b[34mLibrary\u001b[m\u001b[m\n",
      "Links for Oscar.docx\n",
      "Miniconda3-py312_24.4.0-0-MacOSX-arm64.sh\n",
      "Miniforge3-Darwin-arm64.sh\n",
      "Miniforge3-MacOSX-arm64.sh\n",
      "\u001b[1m\u001b[34mMovies\u001b[m\u001b[m\n",
      "\u001b[1m\u001b[34mMusic\u001b[m\u001b[m\n",
      "\u001b[1m\u001b[34mMy Games\u001b[m\u001b[m\n",
      "ORAC_SEV_flx.py\n",
      "Paper_comments_will.docx\n",
      "\u001b[1m\u001b[34mPictures\u001b[m\u001b[m\n",
      "Processing notes.docx\n",
      "\u001b[1m\u001b[34mPublic\u001b[m\u001b[m\n",
      "RCP85_EMISSIONS.csv\n",
      "RCP85_MIDYEAR_RADFORCING.csv\n",
      "SDO FDL Concept Review 2019.pdf\n",
      "SEVIRI_tools.py\n",
      "\u001b[1m\u001b[34mSites\u001b[m\u001b[m\n",
      "Tobac Attempt.ipynb\n",
      "Untitled.ipynb\n",
      "Untitled1.ipynb\n",
      "Untitled2.ipynb\n",
      "Untitled3.ipynb\n",
      "Untitled4.ipynb\n",
      "Untitled5.ipynb\n",
      "Wood_2012.pdf\n",
      "\u001b[1m\u001b[34mZotero\u001b[m\u001b[m\n",
      "advect_interp.py\n",
      "airs2ccf_links.txt\n",
      "airs2sup_links_1.txt\n",
      "airs_plot.py\n",
      "anim_lines_gyr_3trajc.mp4\n",
      "animate_geo_.gif\n",
      "animate_geo_track_.gif\n",
      "animate_lagrangian_ir (1).gif\n",
      "animate_lagrangian_ir.gif\n",
      "animate_lagrangian_vis (1).gif\n",
      "animate_lagrangian_vis.gif\n",
      "anomaly_100.png\n",
      "anomaly_10000.png\n",
      "anomaly_1500.png\n",
      "anomaly_500.png\n",
      "anomaly_5000.png\n",
      "anvil_structure_figures.yml\n",
      "\u001b[1m\u001b[32mapp-background.png\u001b[m\u001b[m\n",
      "bars_multi.gif\n",
      "bars_multi2.gif\n",
      "bars_multi_55039.gif\n",
      "bars_nd050.gif\n",
      "bars_nd500.gif\n",
      "bc_battle_log.docx\n",
      "\u001b[1m\u001b[32mbutton.png\u001b[m\u001b[m\n",
      "\u001b[1m\u001b[32mbutton_hover.png\u001b[m\u001b[m\n",
      "cdo_refcard_v1.9.1.pdf\n",
      "channels.png\n",
      "clarify_trajectories_2.py\n",
      "\u001b[1m\u001b[34mconda_environments\u001b[m\u001b[m\n",
      "conda_spec_anvil_structure_figures.yml\n",
      "conda_spec_base_test.yml\n",
      "conda_spec_cloudsatipy.yml\n",
      "conda_spec_esl3d-env.yml\n",
      "conda_spec_goes2go-dev.yml\n",
      "conda_spec_goes_mesoscanner.yml\n",
      "conda_spec_lagrangian_cre_figures.yml\n",
      "conda_spec_miniconda3.yml\n",
      "conda_spec_miniconda3_ARM.yml\n",
      "conda_spec_orcestra_mesoscanner.yml\n",
      "conda_spec_thesis_notebooks.yml\n",
      "conda_spec_thesis_notebooks_test.yml\n",
      "conda_spec_tobac.yml\n",
      "conda_spec_tobac_flow.yml\n",
      "conda_spec_tobac_mcsmip.yml\n",
      "cover_letter_rev1_will.doc\n",
      "\u001b[1m\u001b[34mdata\u001b[m\u001b[m\n",
      "dcc_coverage.png\n",
      "\u001b[1m\u001b[32mdowser\u001b[m\u001b[m\n",
      "energy_100.png\n",
      "energy_10000.png\n",
      "energy_1500.png\n",
      "energy_500.png\n",
      "energy_5000.png\n",
      "env_py3.yml\n",
      "era5_precip_traj.py\n",
      "era5_to_ARL.py\n",
      "era_interim_to_ARL.py\n",
      "\u001b[1m\u001b[34mexamples\u001b[m\u001b[m\n",
      "\u001b[1m\u001b[34mext\u001b[m\u001b[m\n",
      "fair_main_demo.py\n",
      "fair_main_demo.pyc\n",
      "file_search_test.py\n",
      "\u001b[1m\u001b[32mfont.ttf\u001b[m\u001b[m\n",
      "\u001b[1m\u001b[32mgame-icon.png\u001b[m\u001b[m\n",
      "\u001b[1m\u001b[32mgame-logo.png\u001b[m\u001b[m\n",
      "get_AIRS2RET_clarify.sh\n",
      "get_era5.py\n",
      "goes_animation_20200623.mp4\n",
      "goes_animation_20200623_2.mp4\n",
      "growth2.png\n",
      "growth_rate.png\n",
      "heating_100.png\n",
      "heating_10000.png\n",
      "heating_1500.png\n",
      "heating_500.png\n",
      "heating_5000.png\n",
      "\u001b[1m\u001b[34mjasmin\u001b[m\u001b[m\n",
      "jupyter_jasmin.sh\n",
      "lagrange_55044.gif\n",
      "lagrange_example.gif\n",
      "\u001b[1m\u001b[34mlauncher-assets\u001b[m\u001b[m\n",
      "\u001b[1m\u001b[32mlauncher-settings.json\u001b[m\u001b[m\n",
      "\u001b[1m\u001b[34mlibRadtran-2.0.4\u001b[m\u001b[m\n",
      "links_AIRS2RET_clarify.txt\n",
      "\u001b[1m\u001b[34mmanuscripts\u001b[m\u001b[m\n",
      "mback.txt\n",
      "\u001b[1m\u001b[34mminiconda3\u001b[m\u001b[m\n",
      "\u001b[1m\u001b[34mminiconda3_ARM\u001b[m\u001b[m\n",
      "\u001b[1m\u001b[34mminiforge3\u001b[m\u001b[m\n",
      "mount_jasmin.sh\n",
      "mpr_test.png\n",
      "mprofile_1.png\n",
      "mprofile_2.png\n",
      "mprofile_w.png\n",
      "naval_balance_parser.ipynb\n",
      "\u001b[1m\u001b[34mopt\u001b[m\u001b[m\n",
      "opt_flow.png\n",
      "overlay_traj1.gif\n",
      "overlay_traj20.gif\n",
      "overlay_traj6.gif\n",
      "precip_100.png\n",
      "precip_10000.png\n",
      "precip_1500.png\n",
      "precip_500.png\n",
      "precip_5000.png\n",
      "\u001b[1m\u001b[34mpython\u001b[m\u001b[m\n",
      "\u001b[1m\u001b[34mpython_script_example\u001b[m\u001b[m\n",
      "\u001b[1m\u001b[34mpython_script_example 2\u001b[m\u001b[m\n",
      "python_script_example.zip\n",
      "pythonrc\n",
      "read.me\n",
      "reference_document_will.xlsx\n",
      "sev_traj_plot.py\n",
      "seviri_animation_20170718.gif\n",
      "seviri_animation_20170718.mp4\n",
      "seviri_hybrid.gif\n",
      "slots_preprocess.py\n",
      "ssh_jasmin.sh\n",
      "tdump.txt\n",
      "temp.py\n",
      "test.pcx\n",
      "test2.pcx\n",
      "test_anim128 (1).mp4\n",
      "test_anim128 (2).mp4\n",
      "test_animation.mp4\n",
      "test_satpy_userwarning.ipynb\n",
      "\u001b[1m\u001b[32mtheme-settings.json\u001b[m\u001b[m\n",
      "tile2vec_with_dataloader_v02.ipynb\n",
      "tobac v2.docx\n",
      "\u001b[1m\u001b[34mtobac-feedstock\u001b[m\u001b[m\n",
      "\u001b[1m\u001b[34mtobac_mcsmip\u001b[m\u001b[m\n",
      "tracking paper draft.docx\n",
      "traj_0.pkl\n",
      "traj_animation_multichannel.mp4\n",
      "traj_df.pkl\n",
      "traj_multi.txt\n",
      "tunnel_jupyter_jasmin.sh\n",
      "unix_reference_card.pdf\n",
      "watershed_steps.png\n",
      "world.200407.3x21600x10800.jpg\n",
      "\u001b[1m\u001b[34mx2goclient_old\u001b[m\u001b[m\n"
     ]
    }
   ],
   "source": [
    "# Example of running shell commands in Jupyter: Display the content of you home\n",
    "!ls ~"
   ]
  },
  {
   "cell_type": "code",
   "execution_count": 2,
   "id": "13379a8c-5677-4311-b925-d57ef3ac1c83",
   "metadata": {},
   "outputs": [
    {
     "name": "stdout",
     "output_type": "stream",
     "text": [
      "UK_monthly.nc\n"
     ]
    }
   ],
   "source": [
    "# Task: Display the list of file(s) available in the data folder (../../data_samples/netcdf/E-OBS/)\n",
    "!ls ../../data_samples/netcdf/E-OBS/"
   ]
  },
  {
   "cell_type": "markdown",
   "id": "597ea79d-cb8b-4d72-9682-0fc9a1ddbce8",
   "metadata": {},
   "source": [
    "Files with extension `.nc` are \"NetCDF\" files. It is a standardized binary format suitable for multi-dimensional data. Binary files cannot be read as easily as the text files you have seen previously (you can try to run `head file.nc`, it will yield something, but nothing you can read with a human brain). You need specific tools to read this type of files. \n",
    "\n",
    "## 1. Reading the file: ncdump\n",
    "`ncdump` is the most basic command to check what is in a NetCDF file. Use the `-h` or `-c` option to display the \"header\" of the file, which contains all the essential information. Use the `-v <var>` option to display the content of a specific variable. If you do not specify any option, the whole content of the file is displayed, which, in most cases, will be very long. If you make this mistake, you'll likely need to kill the process (Ctrl+C in the terminal, Stop button in Jupyter). "
   ]
  },
  {
   "cell_type": "code",
   "execution_count": 3,
   "id": "aa1c9662-4f0a-46c9-b2e2-f9a379cbf6d4",
   "metadata": {
    "scrolled": true
   },
   "outputs": [
    {
     "name": "stdout",
     "output_type": "stream",
     "text": [
      "netcdf UK_monthly {\n",
      "dimensions:\n",
      "\tlatitude = 38 ;\n",
      "\tlongitude = 52 ;\n",
      "\ttime = UNLIMITED ; // (888 currently)\n",
      "variables:\n",
      "\tdouble latitude(latitude) ;\n",
      "\t\tlatitude:standard_name = \"latitude\" ;\n",
      "\t\tlatitude:long_name = \"Latitude values\" ;\n",
      "\t\tlatitude:units = \"degrees_north\" ;\n",
      "\t\tlatitude:axis = \"Y\" ;\n",
      "\tdouble longitude(longitude) ;\n",
      "\t\tlongitude:standard_name = \"longitude\" ;\n",
      "\t\tlongitude:long_name = \"Longitude values\" ;\n",
      "\t\tlongitude:units = \"degrees_east\" ;\n",
      "\t\tlongitude:axis = \"X\" ;\n",
      "\tfloat pp(time, latitude, longitude) ;\n",
      "\t\tpp:standard_name = \"air_pressure_at_sea_level\" ;\n",
      "\t\tpp:long_name = \"sea level pressure\" ;\n",
      "\t\tpp:units = \"hPa\" ;\n",
      "\t\tpp:_FillValue = -9999.f ;\n",
      "\t\tpp:missing_value = -9999.f ;\n",
      "\t\tpp:cell_methods = \"time: mean\" ;\n",
      "\tfloat rr(time, latitude, longitude) ;\n",
      "\t\trr:standard_name = \"thickness_of_rainfall_amount\" ;\n",
      "\t\trr:long_name = \"rainfall\" ;\n",
      "\t\trr:units = \"mm\" ;\n",
      "\t\trr:_FillValue = -9999.f ;\n",
      "\t\trr:missing_value = -9999.f ;\n",
      "\t\trr:cell_methods = \"time: mean\" ;\n",
      "\tfloat tg(time, latitude, longitude) ;\n",
      "\t\ttg:standard_name = \"air_temperature\" ;\n",
      "\t\ttg:long_name = \"mean temperature\" ;\n",
      "\t\ttg:units = \"Celsius\" ;\n",
      "\t\ttg:_FillValue = -9999.f ;\n",
      "\t\ttg:missing_value = -9999.f ;\n",
      "\t\ttg:cell_methods = \"time: mean\" ;\n",
      "\tint time(time) ;\n",
      "\t\ttime:standard_name = \"time\" ;\n",
      "\t\ttime:long_name = \"Time in days\" ;\n",
      "\t\ttime:bounds = \"time_bnds\" ;\n",
      "\t\ttime:units = \"days since 1950-01-01 00:00\" ;\n",
      "\t\ttime:calendar = \"standard\" ;\n",
      "\t\ttime:axis = \"T\" ;\n",
      "\n",
      "// global attributes:\n",
      "\t\t:Conventions = \"CF-1.6\" ;\n",
      "\t\t:frequency = \"mon\" ;\n",
      "}\n"
     ]
    }
   ],
   "source": [
    "# Display the header of one of the UK_monthly.nc file in the E-OBS folder\n",
    "!ncdump -h ../../data_samples/netcdf/E-OBS/UK_monthly.nc"
   ]
  },
  {
   "cell_type": "markdown",
   "id": "b6b19b3c-8a49-4a6a-b4be-c248712547a4",
   "metadata": {},
   "source": [
    "**Question: Which variable does each file contain? What are the associated units? What are the dimensions of the variables?**\n",
    "\n",
    "**Question: What is the difference between using the `-c` and `-h` commands?**"
   ]
  },
  {
   "cell_type": "code",
   "execution_count": 4,
   "id": "cfa4d174-a356-4905-b1ff-ec267d04e03b",
   "metadata": {},
   "outputs": [
    {
     "name": "stdout",
     "output_type": "stream",
     "text": [
      "netcdf UK_monthly {\n",
      "dimensions:\n",
      "\tlatitude = 38 ;\n",
      "\tlongitude = 52 ;\n",
      "\ttime = UNLIMITED ; // (888 currently)\n",
      "variables:\n",
      "\tdouble latitude(latitude) ;\n",
      "\t\tlatitude:standard_name = \"latitude\" ;\n",
      "\t\tlatitude:long_name = \"Latitude values\" ;\n",
      "\t\tlatitude:units = \"degrees_north\" ;\n",
      "\t\tlatitude:axis = \"Y\" ;\n",
      "\tdouble longitude(longitude) ;\n",
      "\t\tlongitude:standard_name = \"longitude\" ;\n",
      "\t\tlongitude:long_name = \"Longitude values\" ;\n",
      "\t\tlongitude:units = \"degrees_east\" ;\n",
      "\t\tlongitude:axis = \"X\" ;\n",
      "\tfloat pp(time, latitude, longitude) ;\n",
      "\t\tpp:standard_name = \"air_pressure_at_sea_level\" ;\n",
      "\t\tpp:long_name = \"sea level pressure\" ;\n",
      "\t\tpp:units = \"hPa\" ;\n",
      "\t\tpp:_FillValue = -9999.f ;\n",
      "\t\tpp:missing_value = -9999.f ;\n",
      "\t\tpp:cell_methods = \"time: mean\" ;\n",
      "\tfloat rr(time, latitude, longitude) ;\n",
      "\t\trr:standard_name = \"thickness_of_rainfall_amount\" ;\n",
      "\t\trr:long_name = \"rainfall\" ;\n",
      "\t\trr:units = \"mm\" ;\n",
      "\t\trr:_FillValue = -9999.f ;\n",
      "\t\trr:missing_value = -9999.f ;\n",
      "\t\trr:cell_methods = \"time: mean\" ;\n",
      "\tfloat tg(time, latitude, longitude) ;\n",
      "\t\ttg:standard_name = \"air_temperature\" ;\n",
      "\t\ttg:long_name = \"mean temperature\" ;\n",
      "\t\ttg:units = \"Celsius\" ;\n",
      "\t\ttg:_FillValue = -9999.f ;\n",
      "\t\ttg:missing_value = -9999.f ;\n",
      "\t\ttg:cell_methods = \"time: mean\" ;\n",
      "\tint time(time) ;\n",
      "\t\ttime:standard_name = \"time\" ;\n",
      "\t\ttime:long_name = \"Time in days\" ;\n",
      "\t\ttime:bounds = \"time_bnds\" ;\n",
      "\t\ttime:units = \"days since 1950-01-01 00:00\" ;\n",
      "\t\ttime:calendar = \"standard\" ;\n",
      "\t\ttime:axis = \"T\" ;\n",
      "\n",
      "// global attributes:\n",
      "\t\t:Conventions = \"CF-1.6\" ;\n",
      "\t\t:frequency = \"mon\" ;\n",
      "data:\n",
      "\n",
      " latitude = 49.625, 49.875, 50.125, 50.375, 50.625, 50.875, 51.125, 51.375, \n",
      "    51.625, 51.875, 52.125, 52.375, 52.625, 52.875, 53.125, 53.375, 53.625, \n",
      "    53.875, 54.125, 54.375, 54.625, 54.875, 55.125, 55.375, 55.625, 55.875, \n",
      "    56.125, 56.375, 56.625, 56.875, 57.125, 57.375, 57.625, 57.875, 58.125, \n",
      "    58.375, 58.625, 58.875 ;\n",
      "}\n",
      "netcdf UK_monthly {\n",
      "dimensions:\n",
      "\tlatitude = 38 ;\n",
      "\tlongitude = 52 ;\n",
      "\ttime = UNLIMITED ; // (888 currently)\n",
      "variables:\n",
      "\tdouble latitude(latitude) ;\n",
      "\t\tlatitude:standard_name = \"latitude\" ;\n",
      "\t\tlatitude:long_name = \"Latitude values\" ;\n",
      "\t\tlatitude:units = \"degrees_north\" ;\n",
      "\t\tlatitude:axis = \"Y\" ;\n",
      "\tdouble longitude(longitude) ;\n",
      "\t\tlongitude:standard_name = \"longitude\" ;\n",
      "\t\tlongitude:long_name = \"Longitude values\" ;\n",
      "\t\tlongitude:units = \"degrees_east\" ;\n",
      "\t\tlongitude:axis = \"X\" ;\n",
      "\tfloat pp(time, latitude, longitude) ;\n",
      "\t\tpp:standard_name = \"air_pressure_at_sea_level\" ;\n",
      "\t\tpp:long_name = \"sea level pressure\" ;\n",
      "\t\tpp:units = \"hPa\" ;\n",
      "\t\tpp:_FillValue = -9999.f ;\n",
      "\t\tpp:missing_value = -9999.f ;\n",
      "\t\tpp:cell_methods = \"time: mean\" ;\n",
      "\tfloat rr(time, latitude, longitude) ;\n",
      "\t\trr:standard_name = \"thickness_of_rainfall_amount\" ;\n",
      "\t\trr:long_name = \"rainfall\" ;\n",
      "\t\trr:units = \"mm\" ;\n",
      "\t\trr:_FillValue = -9999.f ;\n",
      "\t\trr:missing_value = -9999.f ;\n",
      "\t\trr:cell_methods = \"time: mean\" ;\n",
      "\tfloat tg(time, latitude, longitude) ;\n",
      "\t\ttg:standard_name = \"air_temperature\" ;\n",
      "\t\ttg:long_name = \"mean temperature\" ;\n",
      "\t\ttg:units = \"Celsius\" ;\n",
      "\t\ttg:_FillValue = -9999.f ;\n",
      "\t\ttg:missing_value = -9999.f ;\n",
      "\t\ttg:cell_methods = \"time: mean\" ;\n",
      "\tint time(time) ;\n",
      "\t\ttime:standard_name = \"time\" ;\n",
      "\t\ttime:long_name = \"Time in days\" ;\n",
      "\t\ttime:bounds = \"time_bnds\" ;\n",
      "\t\ttime:units = \"days since 1950-01-01 00:00\" ;\n",
      "\t\ttime:calendar = \"standard\" ;\n",
      "\t\ttime:axis = \"T\" ;\n",
      "\n",
      "// global attributes:\n",
      "\t\t:Conventions = \"CF-1.6\" ;\n",
      "\t\t:frequency = \"mon\" ;\n",
      "data:\n",
      "\n",
      " longitude = -10.875, -10.625, -10.375, -10.125, -9.875, -9.625, -9.375, \n",
      "    -9.125, -8.875, -8.625, -8.375, -8.125, -7.875, -7.625, -7.375, -7.125, \n",
      "    -6.875, -6.625, -6.375, -6.125, -5.875, -5.625, -5.375, -5.125, -4.875, \n",
      "    -4.625, -4.375, -4.125, -3.875, -3.625, -3.375, -3.125, -2.875, -2.625, \n",
      "    -2.375, -2.125, -1.875, -1.625, -1.375, -1.125, -0.875, -0.625, -0.375, \n",
      "    -0.125, 0.125, 0.375, 0.625, 0.875, 1.125, 1.375, 1.625, 1.875 ;\n",
      "}\n"
     ]
    }
   ],
   "source": [
    "# Task: Display the latitude and longitude variables for one of UK_monthly.nc file in the E-OBS folder\n",
    "!ncdump -v latitude ../../data_samples/netcdf/E-OBS/UK_monthly.nc\n",
    "!ncdump -v longitude ../../data_samples/netcdf/E-OBS/UK_monthly.nc"
   ]
  },
  {
   "cell_type": "markdown",
   "id": "fe2fc124-6953-4367-956d-402373e325b8",
   "metadata": {},
   "source": [
    "**Question: Over which coordinate box is the data provided?**"
   ]
  },
  {
   "cell_type": "markdown",
   "id": "600a0158-bd45-4cd1-9106-681d2eff3c0e",
   "metadata": {},
   "source": [
    "## 2. Visualising the file: ncview\n",
    "`ncview` is a graphical tool to check the content of a NetCDF file. When you run `ncview file.nc` a new window opens with a graphical interface."
   ]
  },
  {
   "cell_type": "code",
   "execution_count": 5,
   "id": "c1a76477-d52d-4ae3-ab83-df16a2d69bd7",
   "metadata": {},
   "outputs": [
    {
     "name": "stdout",
     "output_type": "stream",
     "text": [
      "/bin/bash: ncview: command not found\n"
     ]
    }
   ],
   "source": [
    "# Run ncview for one of the E-OBS file, and watch how the variable changes over time. \n",
    "# (You may need to click on the variable name to display it)\n",
    "# NB: To get back control over your terminal or notebook, close the window. \n",
    "!ncview ../data_samples/netcdf/E-OBS/UK_monthly.nc"
   ]
  },
  {
   "cell_type": "markdown",
   "id": "07c59fe8-22eb-4b2c-b425-d382da17d5e9",
   "metadata": {},
   "source": [
    "**Question: What is the range of values each variable takes? Does it seem sensible?**\n",
    "\n",
    "**Question: Over which range of dates is the data provided? What is the frequency of the data**"
   ]
  },
  {
   "cell_type": "markdown",
   "id": "2b18bab9-caa8-4658-ba09-f3bb98ae0b6f",
   "metadata": {},
   "source": [
    "## 3. nco"
   ]
  },
  {
   "cell_type": "markdown",
   "id": "c05d0598-8d9e-42c2-b290-88c3be423f5f",
   "metadata": {},
   "source": [
    "`nco` provides a suite of commands that can be used to manipulate NetCDF files. Here we introduce the most common ones. You may find all the functions <HERE> for future reference.\n",
    "\n",
    "* `ncks` (NetCDF kitchen sink) is used to subset from NetCDF file.\n",
    "* `ncrcat` is used to concatenate files along time dimension.\n",
    "* `ncra` is used to average variables over time.\n",
    "\n",
    "Command line tools require the creation of intermediary files, that we will save in the `tmp` folder."
   ]
  },
  {
   "cell_type": "markdown",
   "id": "b6a47055-ee85-4fd8-bd66-cdd0d00a95a8",
   "metadata": {},
   "source": [
    "### Subsetting particular point or slice with `ncks`\n",
    "`ncks -d dim_name,value(,value2) file_in.nc file_out.nc`\n",
    "NB: If value is a integer, `ncks` will read it as an index (look for the nth value), whereas if value is a float, it will look for the closest value. Therefore, if you want to extract a specific round latitude or longitude, remember to still write `35.0` to be sure to get the value closest to 35, and not the 35th value."
   ]
  },
  {
   "cell_type": "code",
   "execution_count": 6,
   "id": "5d0bf707-300b-414e-8c3b-386d8ac71477",
   "metadata": {},
   "outputs": [
    {
     "name": "stdout",
     "output_type": "stream",
     "text": [
      "/bin/bash: ncks: command not found\n",
      "/bin/bash: ncks: command not found\n"
     ]
    }
   ],
   "source": [
    "# Extract a given time step\n",
    "!ncks -d time,10 ../../data_samples/netcdf/E-OBS/UK_monthly.nc tmp/time_step_10.nc\n",
    "# Extract a time slice\n",
    "!ncks -d time,10,20 ../../data_samples/netcdf/E-OBS/UK_monthly.nc tmp/time_step_10_20.nc"
   ]
  },
  {
   "cell_type": "code",
   "execution_count": 7,
   "id": "d8a55ad3-30f8-4b70-8acf-bd06588e2254",
   "metadata": {},
   "outputs": [
    {
     "name": "stdout",
     "output_type": "stream",
     "text": [
      "/bin/bash: ncks: command not found\n"
     ]
    }
   ],
   "source": [
    "# Extract the values for Oxford\n",
    "!ncks -d latitude,51.75 -d longitude,-1.26 ../data_samples/netcdf/E-OBS/UK_monthly.nc tmp/Oxford_nco.nc"
   ]
  },
  {
   "cell_type": "code",
   "execution_count": 8,
   "id": "8fb2cc02-f6ca-4342-b214-9dbec62a0339",
   "metadata": {},
   "outputs": [
    {
     "name": "stdout",
     "output_type": "stream",
     "text": [
      "/bin/bash: ncks: command not found\n"
     ]
    }
   ],
   "source": [
    "# Extract Temperature over Ireland\n",
    "!ncks -d latitude,51.0,55.5 -d longitude,-11.0,-5.0 ../data_samples/netcdf/E-OBS/UK_monthly.nc tmp/Ireland_nco.nc"
   ]
  },
  {
   "cell_type": "code",
   "execution_count": 9,
   "id": "307b3247-18af-4b11-8cc2-e69c2f673ea1",
   "metadata": {
    "scrolled": true
   },
   "outputs": [
    {
     "name": "stdout",
     "output_type": "stream",
     "text": [
      "ncdump: tmp/Oxford_nco.nc: No such file or directory\n",
      "/bin/bash: ncview: command not found\n"
     ]
    }
   ],
   "source": [
    "# Task: Explore the content of the new files with ncdump and ncview\n",
    "# Remark the changes in dimensions. Check that it is indeed Ireland that has been selected.\n",
    "!ncdump -h tmp/Oxford_nco.nc\n",
    "!ncview tmp/Oxford_nco.nc"
   ]
  },
  {
   "cell_type": "markdown",
   "id": "86703294-9435-4768-a1cc-6fe97e84ab34",
   "metadata": {},
   "source": [
    "### Statistical operations\n",
    "With `ncra` you can average over the whole time of a file, by running `ncra file_in.nc file_out.nc`. It will compute the average for all variables in the file, unless you specify a specific one with `-v`: `ncra -v var file_in.nc file_out.nc`"
   ]
  },
  {
   "cell_type": "code",
   "execution_count": 10,
   "id": "aee6790d-c296-41fb-bfbe-a2ef7004995b",
   "metadata": {},
   "outputs": [
    {
     "name": "stdout",
     "output_type": "stream",
     "text": [
      "/bin/bash: ncra: command not found\n"
     ]
    }
   ],
   "source": [
    "# Compute the average variables over Ireland\n",
    "!ncra tmp/Ireland_nco.nc tmp/Ireland_avg_nco.nc"
   ]
  },
  {
   "cell_type": "code",
   "execution_count": 11,
   "id": "a8eb62b1-03a0-4288-b0be-e8f178561191",
   "metadata": {},
   "outputs": [
    {
     "name": "stdout",
     "output_type": "stream",
     "text": [
      "/bin/bash: ncra: command not found\n"
     ]
    }
   ],
   "source": [
    "# Task: Compute the average for only precipitation over Ireland\n",
    "!ncra -v rr tmp/Ireland_nco.nc tmp/Ireland_rr_avg_nco.nc"
   ]
  },
  {
   "cell_type": "code",
   "execution_count": 12,
   "id": "bcb84785-16ee-44f3-b662-fc9e6225d62a",
   "metadata": {
    "scrolled": true
   },
   "outputs": [
    {
     "name": "stdout",
     "output_type": "stream",
     "text": [
      "ncdump: tmp/Ireland_avg_nco.nc: No such file or directory\n",
      "/bin/bash: ncview: command not found\n"
     ]
    }
   ],
   "source": [
    "# Task: Explore the content of your new file with ncdump and ncview\n",
    "# Remark the time dimension has been reduced to 1.\n",
    "!ncdump -h tmp/Ireland_avg_nco.nc\n",
    "!ncview tmp/Ireland_avg_nco.nc"
   ]
  },
  {
   "cell_type": "markdown",
   "id": "c831561a-9de4-4291-b86c-62204d7e0d48",
   "metadata": {},
   "source": [
    "**Question: What are the rainiest and driest places in Ireland?**"
   ]
  },
  {
   "cell_type": "markdown",
   "id": "2009209c-d1bd-4b74-8d2c-dd391b29592f",
   "metadata": {},
   "source": [
    "## 4. cdo\n",
    "`cdo` is another suite of command line tools to manipulate NetCDF files. It is more comprehensive than `nco`, but, as such, also less simple. A comprehensive documentation can be found here: http://www.idris.fr/media/ada/cdo.pdf . \n",
    "Here again, we introduce basic cdo functions. \n",
    "\n",
    "cdo command always start with `cdo`, then you can call one or several commands, then you name the input file(s) and finally the output file."
   ]
  },
  {
   "cell_type": "markdown",
   "id": "db312a61-0225-4c09-85ea-bd3bb22eeabd",
   "metadata": {},
   "source": [
    "### Exploring the file"
   ]
  },
  {
   "cell_type": "code",
   "execution_count": 13,
   "id": "9951be4d-eb05-41b3-80c4-84fa68479287",
   "metadata": {
    "scrolled": true
   },
   "outputs": [
    {
     "name": "stdout",
     "output_type": "stream",
     "text": [
      "\n",
      "cdo sinfo: Open failed on >../data_samples/netcdf/E-OBS/UK_monthly.nc<\n",
      "No such file or directory\n"
     ]
    }
   ],
   "source": [
    "# Task: Check the dimensions of a file using cdo sinfo\n",
    "!cdo sinfo ../data_samples/netcdf/E-OBS/UK_monthly.nc"
   ]
  },
  {
   "cell_type": "code",
   "execution_count": 14,
   "id": "c6cf74a0-efb0-46a2-8f2a-ad6a30b6650a",
   "metadata": {},
   "outputs": [
    {
     "name": "stdout",
     "output_type": "stream",
     "text": [
      "\n",
      "cdo showname: Open failed on >../data_samples/netcdf/E-OBS/UK_monthly.nc<\n",
      "No such file or directory\n"
     ]
    }
   ],
   "source": [
    "# Check the variables contained in a file using cdo showname\n",
    "!cdo showname ../data_samples/netcdf/E-OBS/UK_monthly.nc"
   ]
  },
  {
   "cell_type": "markdown",
   "id": "b033bd7f-eaf6-4c8e-bc01-6fe708ecf776",
   "metadata": {},
   "source": [
    "### Subsetting"
   ]
  },
  {
   "cell_type": "code",
   "execution_count": 15,
   "id": "f7eefee6-8a83-417a-a1c0-901a5d581a3b",
   "metadata": {},
   "outputs": [
    {
     "name": "stdout",
     "output_type": "stream",
     "text": [
      "\n",
      "cdo remapnn: Open failed on >../data_samples/netcdf/E-OBS/UK_monthly.nc<\n",
      "No such file or directory\n"
     ]
    }
   ],
   "source": [
    "# Select values for Oxford\n",
    "!cdo -remapnn,lon=51.75/lat=1.26 ../data_samples/netcdf/E-OBS/UK_monthly.nc tmp/Oxford_cdo.nc"
   ]
  },
  {
   "cell_type": "code",
   "execution_count": 16,
   "id": "b2874d2c-3967-4c56-9f78-d92ff2fa55af",
   "metadata": {},
   "outputs": [
    {
     "name": "stdout",
     "output_type": "stream",
     "text": [
      "\n",
      "cdo sellonlatbox: Open failed on >../data_samples/netcdf/E-OBS/UK_monthly.nc<\n",
      "No such file or directory\n"
     ]
    }
   ],
   "source": [
    "# Select the same box as before with cdo sellonlatbox\n",
    "!cdo sellonlatbox,-11,-5,51,55.5 ../data_samples/netcdf/E-OBS/UK_monthly.nc tmp/Ireland_cdo.nc"
   ]
  },
  {
   "cell_type": "code",
   "execution_count": 17,
   "id": "ce06d7ca-61fd-4f88-bd17-1c66d5b06466",
   "metadata": {
    "scrolled": true
   },
   "outputs": [
    {
     "name": "stdout",
     "output_type": "stream",
     "text": [
      "ncdump: tmp/Oxford_cdo.nc: No such file or directory\n",
      "/bin/bash: ncview: command not found\n"
     ]
    }
   ],
   "source": [
    "# Task: Explore the content of your new files with ncdump and ncview\n",
    "!ncdump -h tmp/Oxford_cdo.nc\n",
    "!ncview tmp/Oxford_cdo.nc"
   ]
  },
  {
   "cell_type": "markdown",
   "id": "5388d385-3b81-4d54-bdc7-7ff7e0707c8d",
   "metadata": {},
   "source": [
    "**Question: Can you see an increase in temperature over the period in Oxford?**"
   ]
  },
  {
   "cell_type": "markdown",
   "id": "dbc51e9a-e5dd-46b2-8779-8ab4339cec24",
   "metadata": {},
   "source": [
    "### Statistical operations"
   ]
  },
  {
   "cell_type": "code",
   "execution_count": 18,
   "id": "cc3623ef-bff4-426b-aaac-a92076451fbc",
   "metadata": {},
   "outputs": [
    {
     "name": "stdout",
     "output_type": "stream",
     "text": [
      "\n",
      "cdo yearmean: Open failed on >tmp/Oxford_cdo.nc<\n",
      "No such file or directory\n"
     ]
    }
   ],
   "source": [
    "# Compute the yearly averaged time series using cdo yearmean\n",
    "!cdo yearmean tmp/Oxford_cdo.nc tmp/Oxford_yearly_cdo.nc"
   ]
  },
  {
   "cell_type": "code",
   "execution_count": 19,
   "id": "f735d77b-8c15-44f9-aa17-0017fedea231",
   "metadata": {},
   "outputs": [
    {
     "name": "stdout",
     "output_type": "stream",
     "text": [
      "/bin/bash: ncview: command not found\n"
     ]
    }
   ],
   "source": [
    "# Visualize the new file with ncview\n",
    "!ncview tmp/Oxford_yearly_cdo.nc"
   ]
  },
  {
   "cell_type": "markdown",
   "id": "c33b4307-ca5a-472f-99ab-5ad231b2be63",
   "metadata": {},
   "source": [
    "**Question: Can you see an increase in yearly temperature over the 1950-2023 period in Oxford?**"
   ]
  },
  {
   "cell_type": "code",
   "execution_count": 20,
   "id": "fc18857d-ec3c-4770-b5f0-ab2c41eff2c8",
   "metadata": {},
   "outputs": [
    {
     "name": "stdout",
     "output_type": "stream",
     "text": [
      "\n",
      "cdo timmean: Open failed on >tmp/Ireland_cdo.nc<\n",
      "No such file or directory\n"
     ]
    }
   ],
   "source": [
    "# Compute the average (over time) temperature in Ireland\n",
    "!cdo timmean tmp/Ireland_cdo.nc tmp/Ireland_avg_cdo.nc"
   ]
  },
  {
   "cell_type": "code",
   "execution_count": 21,
   "id": "d12c1288-1947-4e37-bed9-365ba58b6ff2",
   "metadata": {
    "scrolled": true
   },
   "outputs": [
    {
     "name": "stdout",
     "output_type": "stream",
     "text": [
      "ncdump: tmp/Ireland_avg_cdo.nc: No such file or directory\n",
      "/bin/bash: ncview: command not found\n"
     ]
    }
   ],
   "source": [
    "# Task: Explore the content of your new file with ncdump and ncview. Check that you get the same values as with nco before.\n",
    "!ncdump -h tmp/Ireland_avg_cdo.nc\n",
    "!ncview tmp/Ireland_avg_cdo.nc"
   ]
  },
  {
   "cell_type": "code",
   "execution_count": 22,
   "id": "8eb889f2-8b32-4829-9dba-8d89b11e1d94",
   "metadata": {
    "scrolled": true
   },
   "outputs": [
    {
     "name": "stdout",
     "output_type": "stream",
     "text": [
      "ncdump: tmp/T_France_fldmean_yearmean.nc: No such file or directory\n",
      "/bin/bash: ncview: command not found\n"
     ]
    }
   ],
   "source": [
    "# Task: Explore the content of your new file with ncdump and ncview\n",
    "# Remark the time dimension now shows 74 time steps for the 74 years of the dataset.\n",
    "!ncdump -h tmp/T_France_fldmean_yearmean.nc\n",
    "!ncview tmp/T_France_fldmean_yearmean.nc"
   ]
  },
  {
   "cell_type": "markdown",
   "id": "0042f5a2-4c80-4ea9-810c-4742e7538b42",
   "metadata": {},
   "source": [
    "### Chaining commands"
   ]
  },
  {
   "cell_type": "markdown",
   "id": "fc57f0fe-a142-48f4-9f88-c0ce1c04d0ee",
   "metadata": {},
   "source": [
    "`cdo` commands can be chained, but make sure to use the dashes, and be mindful of the order of processes."
   ]
  },
  {
   "cell_type": "code",
   "execution_count": 23,
   "id": "ed8a5cf7-f57f-4d38-a781-ce2752811de1",
   "metadata": {},
   "outputs": [
    {
     "name": "stdout",
     "output_type": "stream",
     "text": [
      "cdo yearmean: Started child process \"fldmean -sellonlatbox,-4.7,7.8,42.5,51.0 ../data_samples/netcdf/E-OBS/tg_ens_mean_0.25deg_reg_v29.0e.nc (pipe1.1)\".\n",
      "cdo(2) fldmean: Started child process \"sellonlatbox,-4.7,7.8,42.5,51.0 ../data_samples/netcdf/E-OBS/tg_ens_mean_0.25deg_reg_v29.0e.nc (pipe2.1)\".\n",
      "\n",
      "cdo(3) sellonlatbox: Open failed on >../data_samples/netcdf/E-OBS/tg_ens_mean_0.25deg_reg_v29.0e.nc<\n",
      "No such file or directory\n"
     ]
    }
   ],
   "source": [
    "# Task: Run the previous workflow chaining all the commands\n",
    "!cdo -yearmean -fldmean -sellonlatbox,-4.7,7.8,42.5,51.0 ../data_samples/netcdf/E-OBS/tg_ens_mean_0.25deg_reg_v29.0e.nc tmp/chain.nc"
   ]
  },
  {
   "cell_type": "code",
   "execution_count": 24,
   "id": "e2f45bec-cc36-4c3c-8da7-e7cf5b2d8486",
   "metadata": {
    "scrolled": true
   },
   "outputs": [
    {
     "name": "stdout",
     "output_type": "stream",
     "text": [
      "ncdump: tmp/chain.nc: No such file or directory\n",
      "/bin/bash: ncview: command not found\n"
     ]
    }
   ],
   "source": [
    "# Task: Explore the content of your new file with ncdump and ncview\n",
    "!ncdump -h tmp/chain.nc\n",
    "!ncview tmp/chain.nc"
   ]
  },
  {
   "cell_type": "code",
   "execution_count": 25,
   "id": "7515ff91-9658-40cc-a6ed-a19107a9b80d",
   "metadata": {},
   "outputs": [
    {
     "name": "stdout",
     "output_type": "stream",
     "text": [
      "\n",
      "cdo diff: Open failed on >tmp/T_France_fldmean_yearmean.nc<\n",
      "No such file or directory\n"
     ]
    }
   ],
   "source": [
    "# Task: Compare the file built step by step and the one with command chaining using cdo diff\n",
    "# Remark some records might differ but the small values indicate averaging errors more than a real difference in the outcomes.\n",
    "!cdo diff tmp/T_France_fldmean_yearmean.nc tmp/chain.nc"
   ]
  },
  {
   "cell_type": "markdown",
   "id": "d0d0f1fc-f78e-43f8-ab22-167343b3660f",
   "metadata": {},
   "source": [
    "### Wrap-up on terminal use\n",
    "There are two reasons for using the terminal to explore and manipulate your files before going to Python: \n",
    "1. To get a quick look at a file and checking that it contains what you want before you open Python\n",
    "2. Data manipulation with `nco` and `cdo` (see below) are much more efficient than in Python. For heavy file, it is recommended to first reduce data dimensionality and weight with command-line tools before you open the files in Python. "
   ]
  },
  {
   "cell_type": "code",
   "execution_count": 26,
   "id": "dd61b260-9419-4700-a7a6-e0055a3758f1",
   "metadata": {},
   "outputs": [
    {
     "name": "stdout",
     "output_type": "stream",
     "text": [
      "ls: ../data_samples/netcdf/E-OBS/tg_ens_mean_0.25deg_reg_v29.0e.nc: No such file or directory\n",
      "ls: tmp/T_France.nc: No such file or directory\n"
     ]
    }
   ],
   "source": [
    "# Task: Compare the weight of the full temperature file versus the one where you selected only one country\n",
    "# Remark: Pre-processing the file (in that case extracting the region of interest) can greatly reduce file size, \n",
    "# making it faster to load and manipulate in Python.\n",
    "!ls -lhS ../data_samples/netcdf/E-OBS/tg_ens_mean_0.25deg_reg_v29.0e.nc\n",
    "!ls -lhS tmp/T_France.nc"
   ]
  },
  {
   "cell_type": "code",
   "execution_count": 27,
   "id": "da41a83c-49aa-4ef1-a00c-71c69c9c03c8",
   "metadata": {},
   "outputs": [],
   "source": [
    "# Task: Remove the files created in the tmp folder\n",
    "!rm -f tmp/*"
   ]
  },
  {
   "cell_type": "markdown",
   "id": "06a1367c-035c-4371-b33b-de692f5befb0",
   "metadata": {},
   "source": [
    "As you can see, some tools are redundant, and it is up to you to decide which tool works best for you. `nco` and `cdo` contain many more functions, and it is very likely you will be able to do most of any pre-processing with these tools. Do not forget to always check step by step what each function is doing."
   ]
  },
  {
   "cell_type": "code",
   "execution_count": null,
   "id": "b2c4febc-9908-4501-b6f0-9cd928fed136",
   "metadata": {},
   "outputs": [],
   "source": []
  }
 ],
 "metadata": {
  "kernelspec": {
   "display_name": "Python [conda env:iecdt_eda]",
   "language": "python",
   "name": "conda-env-iecdt_eda-py"
  },
  "language_info": {
   "codemirror_mode": {
    "name": "ipython",
    "version": 3
   },
   "file_extension": ".py",
   "mimetype": "text/x-python",
   "name": "python",
   "nbconvert_exporter": "python",
   "pygments_lexer": "ipython3",
   "version": "3.10.15"
  }
 },
 "nbformat": 4,
 "nbformat_minor": 5
}
