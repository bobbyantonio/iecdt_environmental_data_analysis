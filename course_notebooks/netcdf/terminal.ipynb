{
 "cells": [
  {
   "cell_type": "markdown",
   "id": "12af5d32-fb0e-4d53-aa09-dbc89f99b20a",
   "metadata": {},
   "source": [
    "# Using the terminal for NetCDF files"
   ]
  },
  {
   "cell_type": "markdown",
   "id": "23ce5579-7461-4c19-bd83-aeb485000253",
   "metadata": {},
   "source": [
    "Using the terminal is a very handy way to do a quick preliminary analysis of a NetCDF file. \n",
    "You can do run the following examples and exercises either using your terminal, or you can run shell commands by writing `!command` in a Jupyter Notebook cell (as is done below). If you use you terminal, remember to remove the `!` in front of each instruction."
   ]
  },
  {
   "cell_type": "code",
   "execution_count": null,
   "id": "31cd8cee-c4cf-44e8-9c1b-b00e534e73a9",
   "metadata": {},
   "outputs": [],
   "source": [
    "# Example of running shell commands in Jupyter: Display the content of you home\n",
    "!ls ~"
   ]
  },
  {
   "cell_type": "code",
   "execution_count": null,
   "id": "13379a8c-5677-4311-b925-d57ef3ac1c83",
   "metadata": {},
   "outputs": [],
   "source": [
    "# Display the list of file(s) available in the data folder (../../data_samples/netcdf/E-OBS/)\n",
    "!ls ../../data_samples/netcdf/E-OBS/"
   ]
  },
  {
   "cell_type": "markdown",
   "id": "597ea79d-cb8b-4d72-9682-0fc9a1ddbce8",
   "metadata": {},
   "source": [
    "Files with extension `.nc` are \"NetCDF\" files. It is a standardized binary format suitable for multi-dimensional data. Binary files cannot be read as easily as the text files you have seen previously (you can try to run `head file.nc`, it will yield something, but nothing you can read with a human brain). You need specific tools to read this type of files. \n",
    "\n",
    "## 1. Reading the file: ncdump\n",
    "`ncdump` is the most basic command to check what is in a NetCDF file. Use the `-h` or `-c` option to display the \"header\" of the file, which contains all the essential information. Use the `-v <var>` option to display the content of a specific variable. If you do not specify any option, the whole content of the file is displayed, which, in most cases, will be very long. If you make this mistake, you'll likely need to kill the process (Ctrl+C in the terminal, Stop button in Jupyter). "
   ]
  },
  {
   "cell_type": "code",
   "execution_count": null,
   "id": "aa1c9662-4f0a-46c9-b2e2-f9a379cbf6d4",
   "metadata": {
    "scrolled": true
   },
   "outputs": [],
   "source": [
    "# Display the header of one of the UK_monthly.nc file in the E-OBS folder\n",
    "!ncdump -h ../../data_samples/netcdf/E-OBS/UK_monthly.nc"
   ]
  },
  {
   "cell_type": "markdown",
   "id": "b6b19b3c-8a49-4a6a-b4be-c248712547a4",
   "metadata": {},
   "source": [
    "**Question: Which variable does each file contain? What are the associated units? What are the dimensions of the variables?**\n",
    "\n",
    "**Question: What is the difference between using the `-c` and `-h` commands?**"
   ]
  },
  {
   "cell_type": "code",
   "execution_count": null,
   "id": "cfa4d174-a356-4905-b1ff-ec267d04e03b",
   "metadata": {},
   "outputs": [],
   "source": [
    "# Display the latitude and longitude variables for one of UK_monthly.nc file in the E-OBS folder\n",
    "!ncdump -v latitude ../../data_samples/netcdf/E-OBS/UK_monthly.nc\n",
    "!ncdump -v longitude ../../data_samples/netcdf/E-OBS/UK_monthly.nc"
   ]
  },
  {
   "cell_type": "markdown",
   "id": "fe2fc124-6953-4367-956d-402373e325b8",
   "metadata": {},
   "source": [
    "**Question: Over which coordinate box is the data provided?**"
   ]
  },
  {
   "cell_type": "markdown",
   "id": "600a0158-bd45-4cd1-9106-681d2eff3c0e",
   "metadata": {},
   "source": [
    "## 2. Visualising the file: ncview\n",
    "`ncview` is a graphical tool to check the content of a NetCDF file. When you run `ncview file.nc` a new window opens with a graphical interface."
   ]
  },
  {
   "cell_type": "code",
   "execution_count": null,
   "id": "c1a76477-d52d-4ae3-ab83-df16a2d69bd7",
   "metadata": {},
   "outputs": [],
   "source": [
    "# Run ncview for one of the E-OBS file, and watch how the variable changes over time. \n",
    "# (You may need to click on the variable name to display it)\n",
    "# NB: To get back control over your terminal or notebook, close the window. \n",
    "!ncview ../../data_samples/netcdf/E-OBS/UK_monthly.nc"
   ]
  },
  {
   "cell_type": "markdown",
   "id": "07c59fe8-22eb-4b2c-b425-d382da17d5e9",
   "metadata": {},
   "source": [
    "**Question: What is the range of values each variable takes? Does it seem sensible?**\n",
    "\n",
    "**Question: Over which range of dates is the data provided? What is the frequency of the data**"
   ]
  },
  {
   "cell_type": "markdown",
   "id": "2b18bab9-caa8-4658-ba09-f3bb98ae0b6f",
   "metadata": {},
   "source": [
    "## 3. nco"
   ]
  },
  {
   "cell_type": "markdown",
   "id": "c05d0598-8d9e-42c2-b290-88c3be423f5f",
   "metadata": {},
   "source": [
    "`nco` provides a suite of commands that can be used to manipulate NetCDF files. Here we introduce the most common ones. You may find all the functions <HERE> for future reference.\n",
    "\n",
    "* `ncks` (NetCDF kitchen sink) is used to subset from NetCDF file.\n",
    "* `ncrcat` is used to concatenate files along time dimension.\n",
    "* `ncra` is used to average variables over time.\n",
    "\n",
    "Command line tools require the creation of intermediary files, that we will save in the `tmp` folder."
   ]
  },
  {
   "cell_type": "markdown",
   "id": "b6a47055-ee85-4fd8-bd66-cdd0d00a95a8",
   "metadata": {},
   "source": [
    "### Subsetting particular point or slice with `ncks`\n",
    "`ncks -d dim_name,value(,value2) file_in.nc file_out.nc`\n",
    "NB: If value is a integer, `ncks` will read it as an index (look for the nth value), whereas if value is a float, it will look for the closest value. Therefore, if you want to extract a specific round latitude or longitude, remember to still write `35.0` to be sure to get the value closest to 35, and not the 35th value."
   ]
  },
  {
   "cell_type": "code",
   "execution_count": null,
   "id": "5d0bf707-300b-414e-8c3b-386d8ac71477",
   "metadata": {},
   "outputs": [],
   "source": [
    "# Extract a given time step\n",
    "!ncks -O -d time,10 ../../data_samples/netcdf/E-OBS/UK_monthly.nc tmp/time_step_10.nc\n",
    "# Extract a time slice\n",
    "!ncks -O -d time,10,20 ../../data_samples/netcdf/E-OBS/UK_monthly.nc tmp/time_step_10_20.nc"
   ]
  },
  {
   "cell_type": "code",
   "execution_count": null,
   "id": "d8a55ad3-30f8-4b70-8acf-bd06588e2254",
   "metadata": {},
   "outputs": [],
   "source": [
    "# Extract the values for Oxford\n",
    "!ncks -O -d latitude,51.75 -d longitude,-1.26 ../../data_samples/netcdf/E-OBS/UK_monthly.nc tmp/Oxford_nco.nc"
   ]
  },
  {
   "cell_type": "code",
   "execution_count": null,
   "id": "8fb2cc02-f6ca-4342-b214-9dbec62a0339",
   "metadata": {},
   "outputs": [],
   "source": [
    "# Extract Temperature over Ireland\n",
    "!ncks -O -d latitude,51.0,55.5 -d longitude,-11.0,-5.0 ../../data_samples/netcdf/E-OBS/UK_monthly.nc tmp/Ireland_nco.nc"
   ]
  },
  {
   "cell_type": "code",
   "execution_count": null,
   "id": "307b3247-18af-4b11-8cc2-e69c2f673ea1",
   "metadata": {
    "scrolled": true
   },
   "outputs": [],
   "source": [
    "# Explore the content of the new files with ncdump and ncview\n",
    "# Remark the changes in dimensions. Check that it is indeed Ireland that has been selected.\n",
    "!ncdump -h tmp/Oxford_nco.nc\n",
    "!ncview tmp/Oxford_nco.nc"
   ]
  },
  {
   "cell_type": "markdown",
   "id": "86703294-9435-4768-a1cc-6fe97e84ab34",
   "metadata": {},
   "source": [
    "### Statistical operations\n",
    "With `ncra` you can average over the whole time of a file, by running `ncra file_in.nc file_out.nc`. It will compute the average for all variables in the file, unless you specify a specific one with `-v`: `ncra -v var file_in.nc file_out.nc`"
   ]
  },
  {
   "cell_type": "code",
   "execution_count": null,
   "id": "aee6790d-c296-41fb-bfbe-a2ef7004995b",
   "metadata": {},
   "outputs": [],
   "source": [
    "# Compute the average variables over Ireland\n",
    "!ncra -O tmp/Ireland_nco.nc tmp/Ireland_avg_nco.nc"
   ]
  },
  {
   "cell_type": "code",
   "execution_count": null,
   "id": "a8eb62b1-03a0-4288-b0be-e8f178561191",
   "metadata": {},
   "outputs": [],
   "source": [
    "# Task: Compute the average for only precipitation over Ireland\n",
    "!ncra -O -v rr tmp/Ireland_nco.nc tmp/Ireland_rr_avg_nco.nc"
   ]
  },
  {
   "cell_type": "code",
   "execution_count": null,
   "id": "bcb84785-16ee-44f3-b662-fc9e6225d62a",
   "metadata": {
    "scrolled": true
   },
   "outputs": [],
   "source": [
    "# Explore the content of your new file with ncdump and ncview\n",
    "# Remark the time dimension has been reduced to 1.\n",
    "!ncdump -h tmp/Ireland_avg_nco.nc\n",
    "!ncview tmp/Ireland_avg_nco.nc"
   ]
  },
  {
   "cell_type": "markdown",
   "id": "c831561a-9de4-4291-b86c-62204d7e0d48",
   "metadata": {},
   "source": [
    "**Question: What are the rainiest and driest places in Ireland?**"
   ]
  },
  {
   "cell_type": "markdown",
   "id": "2009209c-d1bd-4b74-8d2c-dd391b29592f",
   "metadata": {},
   "source": [
    "## 4. cdo\n",
    "`cdo` is another suite of command line tools to manipulate NetCDF files. It is more comprehensive than `nco`, but, as such, also less simple. A comprehensive documentation can be found here: http://www.idris.fr/media/ada/cdo.pdf . \n",
    "Here again, we introduce basic cdo functions. \n",
    "\n",
    "cdo command always start with `cdo`, then you can call one or several commands, then you name the input file(s) and finally the output file."
   ]
  },
  {
   "cell_type": "markdown",
   "id": "db312a61-0225-4c09-85ea-bd3bb22eeabd",
   "metadata": {},
   "source": [
    "### Exploring the file"
   ]
  },
  {
   "cell_type": "code",
   "execution_count": null,
   "id": "9951be4d-eb05-41b3-80c4-84fa68479287",
   "metadata": {
    "scrolled": true
   },
   "outputs": [],
   "source": [
    "# Check the dimensions of a file using cdo sinfo\n",
    "!cdo sinfo ../../data_samples/netcdf/E-OBS/UK_monthly.nc"
   ]
  },
  {
   "cell_type": "code",
   "execution_count": null,
   "id": "b7e36a50-c3ab-4e31-bf95-9b38e3b61de1",
   "metadata": {},
   "outputs": [],
   "source": [
    "# Check the grid attributes\n",
    "!cdo griddes ../../data_samples/netcdf/E-OBS/UK_monthly.nc"
   ]
  },
  {
   "cell_type": "code",
   "execution_count": null,
   "id": "c6cf74a0-efb0-46a2-8f2a-ad6a30b6650a",
   "metadata": {},
   "outputs": [],
   "source": [
    "# Check the variables contained in a file using cdo showname\n",
    "!cdo showname ../../data_samples/netcdf/E-OBS/UK_monthly.nc"
   ]
  },
  {
   "cell_type": "markdown",
   "id": "b033bd7f-eaf6-4c8e-bc01-6fe708ecf776",
   "metadata": {},
   "source": [
    "### Subsetting"
   ]
  },
  {
   "cell_type": "code",
   "execution_count": null,
   "id": "f7eefee6-8a83-417a-a1c0-901a5d581a3b",
   "metadata": {},
   "outputs": [],
   "source": [
    "# Select values for Oxford\n",
    "!cdo -remapnn,lon=51.75/lat=1.26 ../data_samples/netcdf/E-OBS/UK_monthly.nc tmp/Oxford_cdo.nc"
   ]
  },
  {
   "cell_type": "code",
   "execution_count": null,
   "id": "b2874d2c-3967-4c56-9f78-d92ff2fa55af",
   "metadata": {},
   "outputs": [],
   "source": [
    "# Select the same box as before with cdo sellonlatbox\n",
    "!cdo sellonlatbox,-11,-5,51,55.5 ../data_samples/netcdf/E-OBS/UK_monthly.nc tmp/Ireland_cdo.nc"
   ]
  },
  {
   "cell_type": "code",
   "execution_count": null,
   "id": "ce06d7ca-61fd-4f88-bd17-1c66d5b06466",
   "metadata": {
    "scrolled": true
   },
   "outputs": [],
   "source": [
    "# Explore the content of your new files with ncdump and ncview\n",
    "!ncdump -h tmp/Oxford_cdo.nc\n",
    "!ncview tmp/Oxford_cdo.nc"
   ]
  },
  {
   "cell_type": "markdown",
   "id": "5388d385-3b81-4d54-bdc7-7ff7e0707c8d",
   "metadata": {},
   "source": [
    "**Question: Can you see an increase in temperature over the period in Oxford?**"
   ]
  },
  {
   "cell_type": "markdown",
   "id": "dbc51e9a-e5dd-46b2-8779-8ab4339cec24",
   "metadata": {},
   "source": [
    "### Statistical operations"
   ]
  },
  {
   "cell_type": "code",
   "execution_count": null,
   "id": "cc3623ef-bff4-426b-aaac-a92076451fbc",
   "metadata": {},
   "outputs": [],
   "source": [
    "# Compute the yearly averaged time series using cdo yearmean\n",
    "!cdo yearmean tmp/Oxford_cdo.nc tmp/Oxford_yearly_cdo.nc"
   ]
  },
  {
   "cell_type": "code",
   "execution_count": null,
   "id": "f735d77b-8c15-44f9-aa17-0017fedea231",
   "metadata": {},
   "outputs": [],
   "source": [
    "# Visualize the new file with ncview\n",
    "!ncview tmp/Oxford_yearly_cdo.nc"
   ]
  },
  {
   "cell_type": "markdown",
   "id": "c33b4307-ca5a-472f-99ab-5ad231b2be63",
   "metadata": {},
   "source": [
    "**Question: Can you see an increase in yearly temperature over the 1950-2023 period in Oxford?**"
   ]
  },
  {
   "cell_type": "code",
   "execution_count": null,
   "id": "fc18857d-ec3c-4770-b5f0-ab2c41eff2c8",
   "metadata": {},
   "outputs": [],
   "source": [
    "# Compute the average (over time) temperature in Ireland\n",
    "!cdo timmean tmp/Ireland_cdo.nc tmp/Ireland_avg_cdo.nc"
   ]
  },
  {
   "cell_type": "code",
   "execution_count": null,
   "id": "d12c1288-1947-4e37-bed9-365ba58b6ff2",
   "metadata": {
    "scrolled": true
   },
   "outputs": [],
   "source": [
    "# Explore the content of your new file with ncdump and ncview. Check that you get the same values as with nco before.\n",
    "!ncdump -h tmp/Ireland_avg_cdo.nc\n",
    "!ncview tmp/Ireland_avg_cdo.nc"
   ]
  },
  {
   "cell_type": "code",
   "execution_count": null,
   "id": "8eb889f2-8b32-4829-9dba-8d89b11e1d94",
   "metadata": {
    "scrolled": true
   },
   "outputs": [],
   "source": [
    "# Explore the content of your new file with ncdump and ncview\n",
    "# Remark the time dimension now shows 74 time steps for the 74 years of the dataset.\n",
    "!ncdump -h tmp/T_France_fldmean_yearmean.nc\n",
    "!ncview tmp/T_France_fldmean_yearmean.nc"
   ]
  },
  {
   "cell_type": "markdown",
   "id": "0042f5a2-4c80-4ea9-810c-4742e7538b42",
   "metadata": {},
   "source": [
    "### Chaining commands"
   ]
  },
  {
   "cell_type": "markdown",
   "id": "fc57f0fe-a142-48f4-9f88-c0ce1c04d0ee",
   "metadata": {},
   "source": [
    "`cdo` commands can be chained, but make sure to use the dashes, and be mindful of the order of processes."
   ]
  },
  {
   "cell_type": "code",
   "execution_count": null,
   "id": "ed8a5cf7-f57f-4d38-a781-ce2752811de1",
   "metadata": {},
   "outputs": [],
   "source": [
    "# Run the previous workflow chaining all the commands\n",
    "!cdo -yearmean -fldmean -sellonlatbox,-4.7,7.8,42.5,51.0 ../data_samples/netcdf/E-OBS/tg_ens_mean_0.25deg_reg_v29.0e.nc tmp/chain.nc"
   ]
  },
  {
   "cell_type": "code",
   "execution_count": null,
   "id": "e2f45bec-cc36-4c3c-8da7-e7cf5b2d8486",
   "metadata": {
    "scrolled": true
   },
   "outputs": [],
   "source": [
    "# Explore the content of your new file with ncdump and ncview\n",
    "!ncdump -h tmp/chain.nc\n",
    "!ncview tmp/chain.nc"
   ]
  },
  {
   "cell_type": "code",
   "execution_count": null,
   "id": "7515ff91-9658-40cc-a6ed-a19107a9b80d",
   "metadata": {},
   "outputs": [],
   "source": [
    "# Compare the file built step by step and the one with command chaining using cdo diff\n",
    "# Remark some records might differ but the small values indicate averaging errors more than a real difference in the outcomes.\n",
    "!cdo diff tmp/T_France_fldmean_yearmean.nc tmp/chain.nc"
   ]
  },
  {
   "cell_type": "markdown",
   "id": "d0d0f1fc-f78e-43f8-ab22-167343b3660f",
   "metadata": {},
   "source": [
    "### Wrap-up on terminal use\n",
    "There are two reasons for using the terminal to explore and manipulate your files before going to Python: \n",
    "1. To get a quick look at a file and checking that it contains what you want before you open Python\n",
    "2. Data manipulation with `nco` and `cdo` (see below) are much more efficient than in Python. For heavy file, it is recommended to first reduce data dimensionality and weight with command-line tools before you open the files in Python. "
   ]
  },
  {
   "cell_type": "code",
   "execution_count": null,
   "id": "dd61b260-9419-4700-a7a6-e0055a3758f1",
   "metadata": {},
   "outputs": [],
   "source": [
    "# Compare the weight of the full temperature file versus the one where you selected only one country\n",
    "# Remark: Pre-processing the file (in that case extracting the region of interest) can greatly reduce file size, \n",
    "# making it faster to load and manipulate in Python.\n",
    "!ls -lhS ../data_samples/netcdf/E-OBS/tg_ens_mean_0.25deg_reg_v29.0e.nc\n",
    "!ls -lhS tmp/T_France.nc"
   ]
  },
  {
   "cell_type": "code",
   "execution_count": null,
   "id": "da41a83c-49aa-4ef1-a00c-71c69c9c03c8",
   "metadata": {},
   "outputs": [],
   "source": [
    "# Remove the files created in the tmp folder\n",
    "!rm -f tmp/*"
   ]
  },
  {
   "cell_type": "markdown",
   "id": "06a1367c-035c-4371-b33b-de692f5befb0",
   "metadata": {},
   "source": [
    "As you can see, some tools are redundant, and it is up to you to decide which tool works best for you. `nco` and `cdo` contain many more functions, and it is very likely you will be able to do most of any pre-processing with these tools. Do not forget to always check step by step what each function is doing."
   ]
  },
  {
   "cell_type": "code",
   "execution_count": null,
   "id": "b2c4febc-9908-4501-b6f0-9cd928fed136",
   "metadata": {},
   "outputs": [],
   "source": []
  }
 ],
 "metadata": {
  "kernelspec": {
   "display_name": "Python 3 (ipykernel)",
   "language": "python",
   "name": "python3"
  },
  "language_info": {
   "codemirror_mode": {
    "name": "ipython",
    "version": 3
   },
   "file_extension": ".py",
   "mimetype": "text/x-python",
   "name": "python",
   "nbconvert_exporter": "python",
   "pygments_lexer": "ipython3",
   "version": "3.11.9"
  }
 },
 "nbformat": 4,
 "nbformat_minor": 5
}
