{
 "cells": [
  {
   "cell_type": "markdown",
   "id": "12af5d32-fb0e-4d53-aa09-dbc89f99b20a",
   "metadata": {},
   "source": [
    "# NetCDF data with `xarray` in Python"
   ]
  },
  {
   "cell_type": "markdown",
   "id": "23ce5579-7461-4c19-bd83-aeb485000253",
   "metadata": {},
   "source": [
    "In python , the `xarray` package is a very powerful library to manipulate multi-dimensional data, and it can read from NetCDF files. \n",
    "\n",
    "You can check the documentation here: https://docs.xarray.dev/en/stable/index.html.\n",
    "The \"getting started\" documentation is a very good starting point, and the user guide is well written. Do not hesitate to reference it when you want to do more advanced things with `xarray` and to understand how it works. \n",
    "\n",
    "This notebook is structured as follows:\n",
    "1. Introduction to xarray's DataArray and Dataset classes\n",
    "2. Opening and exploring NetCDF files\n",
    "3. Indexing and subsetting\n",
    "4. Statistical operations\n",
    "5. Grouping\n",
    "6. Wrap-up on examples\n",
    "7. Plotting"
   ]
  },
  {
   "cell_type": "code",
   "execution_count": null,
   "id": "2523cfe6-1232-4d7e-bd91-d29a6268d187",
   "metadata": {},
   "outputs": [],
   "source": [
    "# Import xarray\n",
    "import xarray as xr\n",
    "\n",
    "# Additionnal packages \n",
    "import numpy as np\n",
    "import matplotlib.pyplot as plt"
   ]
  },
  {
   "cell_type": "markdown",
   "id": "36c888e0-41b2-4154-8cc2-f7b5d2f05ba3",
   "metadata": {},
   "source": [
    "## Introduction to xarray's DataArray and Dataset classes"
   ]
  },
  {
   "cell_type": "markdown",
   "id": "dabd0e94-eb8b-4586-8cdc-8381321097e7",
   "metadata": {},
   "source": [
    "`xarray` is built on two fundamental classes: `DataArray` and `Dataset`, Datasets being collections of DataArrays.\n",
    "Therefore, let us start by familiarizing ourselves with these two objects."
   ]
  },
  {
   "cell_type": "markdown",
   "id": "851e1a79-a763-4fba-9cbd-dfc5f4b424c2",
   "metadata": {},
   "source": [
    "### DataArray\n",
    "DataArrays are the fundamental bricks of xarray. They are objects that contains a variable along with its coordinates and attributes.\n",
    "\n",
    "Here, we build a dummy dataset to show how it works. "
   ]
  },
  {
   "cell_type": "code",
   "execution_count": null,
   "id": "c791d5c8-2cf0-4737-af8b-3a9032c90420",
   "metadata": {},
   "outputs": [],
   "source": [
    "# Generate a dummy time series\n",
    "t = np.arange(0,10,0.2) # coordinate (e.g. time)\n",
    "print(\"t:\", t) # Content of t\n",
    "\n",
    "s = np.sin(t) + np.random.random(len(t))/4 # data series: here a sine with some random noise\n",
    "print(\"s:\", s) # Content of s\n",
    "print(\"Type of s:\", type(s)) # Check the type of s: For the moment, s in a numpy array\n",
    "\n",
    "plt.plot(t, s, marker = 'o') # Visualize s against t with matplotlib "
   ]
  },
  {
   "cell_type": "code",
   "execution_count": null,
   "id": "b3d12ee7-faa6-40e0-a159-b545d4eb5770",
   "metadata": {},
   "outputs": [],
   "source": [
    "# From this time series, we can create a DataArray, the fundamental xarray object\n",
    "da = xr.DataArray(s, dims = ('t'), coords = {'t':t})\n",
    "# Visualize the object: See it contains the s numpy array, associated with t as a coordinate, and no attributes.\n",
    "da"
   ]
  },
  {
   "cell_type": "code",
   "execution_count": null,
   "id": "25411470-63c7-40dc-b639-426613bb5589",
   "metadata": {},
   "outputs": [],
   "source": [
    "# You can access the values of the variable as a numpy array\n",
    "da.values"
   ]
  },
  {
   "cell_type": "code",
   "execution_count": null,
   "id": "16ad171d-772b-4f79-aee6-8e76e690ff19",
   "metadata": {},
   "outputs": [],
   "source": [
    "# Same for the values of the coordinates\n",
    "da.t.values"
   ]
  },
  {
   "cell_type": "code",
   "execution_count": null,
   "id": "f3351b88-edfc-48cb-b8f7-9bad67ded084",
   "metadata": {},
   "outputs": [],
   "source": [
    "# A DataArray may also contain attributes (e.g. units)\n",
    "da.attrs # Display attributes: For the moment, they are empty"
   ]
  },
  {
   "cell_type": "code",
   "execution_count": null,
   "id": "f0c01c01-77d8-4b98-aec5-eb555acf4f4c",
   "metadata": {},
   "outputs": [],
   "source": [
    "# But we can add a unit\n",
    "da.attrs[\"units\"] = \"m\"\n",
    "print(da.attrs) # Display attributes: Now they include the unit\n",
    "da # Visualise da: See that now the units are at the end the the attributes menu"
   ]
  },
  {
   "cell_type": "markdown",
   "id": "8a49457f-299b-4842-acd0-5ad7279a65b6",
   "metadata": {},
   "source": [
    "### Dataset\n",
    "Dataset are another very important class of objects in xarray. A Dataset is a container of DataArrays."
   ]
  },
  {
   "cell_type": "code",
   "execution_count": null,
   "id": "ca851b83-cab9-4a05-9352-8bb5db744414",
   "metadata": {},
   "outputs": [],
   "source": [
    "# Let us create a Dataset that contains the DataArray that we just created.\n",
    "ds = xr.Dataset({\"s\":da})\n",
    "ds # Visualise the Dataset, you see the structure is the same as before, but a new category \"Data variables\" appears, that contains s"
   ]
  },
  {
   "cell_type": "code",
   "execution_count": null,
   "id": "5dfe050c-f6cd-4893-a153-52b43e331e88",
   "metadata": {},
   "outputs": [],
   "source": [
    "# You can access the DataArray object with \n",
    "ds.s # or ds['s']"
   ]
  },
  {
   "cell_type": "code",
   "execution_count": null,
   "id": "acb8c5fa-3efe-490a-8571-5a5547d5b9cc",
   "metadata": {},
   "outputs": [],
   "source": [
    "# A Dataset is not really useful if it contains just one DataArray. Let us add other DataArray as variable in the dataset\n",
    "# Task: Create another dummy time series that is a cosinus plus some random noise, and transform it into a DataArray\n",
    "c = ... + np.random.random(len(t))/3 # c is the cosinus of t plus some noise\n",
    "da2 = ... # Transform c into a DataArray\n",
    "... # Visualize this new DataArray"
   ]
  },
  {
   "cell_type": "code",
   "execution_count": null,
   "id": "90be57f1-b0b4-4111-a14e-e179a9d01543",
   "metadata": {},
   "outputs": [],
   "source": [
    "# Add the new DataArray as a variable in the Dataset\n",
    "ds['c'] = da2\n",
    "ds # Visualise ds: You see now there are two variables: s and c"
   ]
  },
  {
   "cell_type": "markdown",
   "id": "85cbc9e2-8620-4454-a2d1-7ce3c1a7577f",
   "metadata": {},
   "source": [
    "### Built-in plot method\n",
    "Last thing about xarray's DataArrays: They have a very useful built-in `.plot()` method. \n",
    "If the data is 1D, it will plot it as a line, if it is 2D, it will plot it as a map, and if it has 3 or more dimensions, it will show an histogram of all the values. \n",
    "We quickly show how it works here, so that we can use it in the following. More customizations will be introduced by the end of this notebook."
   ]
  },
  {
   "cell_type": "code",
   "execution_count": null,
   "id": "e86cc65b-26a9-4f0a-a2bf-aeca609cfb68",
   "metadata": {},
   "outputs": [],
   "source": [
    "# Quick plot of our first DataArray\n",
    "da.plot()"
   ]
  },
  {
   "cell_type": "code",
   "execution_count": null,
   "id": "49bd0e2d-8225-461b-af8c-3d8522d7fdef",
   "metadata": {},
   "outputs": [],
   "source": [
    "# Plot the two time series on top of each other\n",
    "da.plot(label = \"sinus\") # Plot the sinus time series\n",
    "da2.plot(label = \"cosinus\") # Task: Plot the cosinus time series\n",
    "plt.legend()"
   ]
  },
  {
   "cell_type": "code",
   "execution_count": null,
   "id": "0db53b61-e3c0-4be3-9394-1e32c19f9723",
   "metadata": {},
   "outputs": [],
   "source": [
    "# Remember that you can access the DataArrays from the Dataset, therefore this code will yield the exact same result as before:\n",
    "ds.s.plot(label = \"sinus\") # Plot the sinus time series\n",
    "ds.c.plot(label = \"cosinus\") # Task: Plot the cosinus time series\n",
    "plt.legend()"
   ]
  },
  {
   "cell_type": "markdown",
   "id": "093b74bb-a9a4-4862-9823-b44f80083be4",
   "metadata": {},
   "source": [
    "## Opening NetCDF files\n",
    "Now that we have covered the fundamentals, let us use some real data. Opening a netcdf file with xarray is straightforward:"
   ]
  },
  {
   "cell_type": "code",
   "execution_count": null,
   "id": "809a521c-f86e-4a62-9a53-18129b3ee4db",
   "metadata": {},
   "outputs": [],
   "source": [
    "# To open a NetCDF file, use the open_dataset function\n",
    "file = \"../../data_samples/netcdf/E-OBS/UK_monthly.nc\" # Path to our netcdf file\n",
    "ds = xr.open_dataset(file)"
   ]
  },
  {
   "cell_type": "markdown",
   "id": "58fdfef8-27c5-45b4-a212-ee1df0819d53",
   "metadata": {},
   "source": [
    "Now, visualise the object that was created and answer these questions:\n",
    "* What variables are present in the file? What are their unit and range?\n",
    "* Over which area and which period are these variables provided?\n",
    "* What is the frequency and the spatial resolution of the data? "
   ]
  },
  {
   "cell_type": "code",
   "execution_count": null,
   "id": "602933fe-b024-4468-aa12-7893aea44cf4",
   "metadata": {},
   "outputs": [],
   "source": [
    "# Visualise the object that was created: It is a Dataset.\n",
    "ds"
   ]
  },
  {
   "cell_type": "code",
   "execution_count": null,
   "id": "fd48e8b3-0459-42e1-9eba-d66d540b652a",
   "metadata": {},
   "outputs": [],
   "source": [
    "# Remember, each variable can be accessed to see its values, coordinates and attributes \n",
    "ds.tg"
   ]
  },
  {
   "cell_type": "code",
   "execution_count": null,
   "id": "aaf06711-0370-4f26-8020-f65bac73154b",
   "metadata": {},
   "outputs": [],
   "source": [
    "# For the moment, the data is 3D, so if we try to plot it now, it will show an histogram of all the values. \n",
    "# This can be useful to check the range of values and make sure it makes sense. \n",
    "ds.tg.plot()\n",
    "# Later on, we will se how to subset or aggregate the data to display maps or series"
   ]
  },
  {
   "cell_type": "markdown",
   "id": "26a40c85-7c75-491d-8b15-343ebf9ffebd",
   "metadata": {},
   "source": [
    "*-- Advanced --*\n",
    "*When you open a dataset with xarray, the data is loaded in memory only once you need it.*\n",
    "*However, you can force it to load with `ds.load()`*"
   ]
  },
  {
   "cell_type": "markdown",
   "id": "5f1b851d-29d1-49fa-8660-dca056e4a8b7",
   "metadata": {},
   "source": [
    "### Indexing\n",
    "Datasets and DataArrays both have a `.sel()` method to access the values of the variable(s) at specified coordinates (i.e. to subset the data). Alternatively, the `.isel()` method can be used with integer indices."
   ]
  },
  {
   "cell_type": "markdown",
   "id": "3e455e9c-bc88-402b-a6d7-dcd00c8b7923",
   "metadata": {},
   "source": [
    "#### `.sel()` examples"
   ]
  },
  {
   "cell_type": "code",
   "execution_count": null,
   "id": "25139970-1d50-49ab-b61b-51fa5174a4f0",
   "metadata": {},
   "outputs": [],
   "source": [
    "# Extract the values for the point of coordinates 50.625°N 1.625°E\n",
    "ds_pt = ds.sel(latitude = 50.625, longitude = 1.625)\n",
    "# Notice the object now has only one dimension: time\n",
    "ds_pt"
   ]
  },
  {
   "cell_type": "code",
   "execution_count": null,
   "id": "e7d3ed43-0812-42dd-91ca-b34a634079e5",
   "metadata": {},
   "outputs": [],
   "source": [
    "# Because ds_pt is 1D, you can now plot its variables as series. Here is an example for the temperature\n",
    "ds_pt.tg.plot()"
   ]
  },
  {
   "cell_type": "code",
   "execution_count": null,
   "id": "396d601e-d13e-4203-b18e-c61ff49eab5e",
   "metadata": {},
   "outputs": [],
   "source": [
    "# Get the values for the month of January 2002\n",
    "ds_Jan02 = ds.sel(time = \"2002-01\")\n",
    "# Notice the object still has three dimension, but the time dimension is only 1.\n",
    "ds_Jan02"
   ]
  },
  {
   "cell_type": "code",
   "execution_count": null,
   "id": "00e4204b-16fe-4ec7-85ce-ef95561e0f4d",
   "metadata": {},
   "outputs": [],
   "source": [
    "# We can threfore plot its variables as maps. Here is an example for precipitation\n",
    "ds_Jan02.rr.plot()"
   ]
  },
  {
   "cell_type": "code",
   "execution_count": null,
   "id": "1d532a24-6c01-4a7f-8bd0-14d614522050",
   "metadata": {},
   "outputs": [],
   "source": [
    "# Get the values of precipitation for the point of coordinates 50.625°N 1.625°E in January 2002\n",
    "ds_pt_Jan02 = ds.rr.sel(time = \"2002-01\", latitude = 50.625, longitude = 1.625)\n",
    "# Notice the object contains just that number\n",
    "ds_pt_Jan02"
   ]
  },
  {
   "cell_type": "markdown",
   "id": "f636e2b4-cd29-4845-a408-c17eda9670b7",
   "metadata": {},
   "source": [
    "#### Obtaining values for precise coordinates not provided"
   ]
  },
  {
   "cell_type": "markdown",
   "id": "f806b0b5-3ad7-4b39-929c-6f9a59b21e5b",
   "metadata": {},
   "source": [
    "**NB: `.sel()` expects values of coordinates that are present in the dataset (i.e. if you ask for the longitude 0.0, which is not provided, it will raise an error).** "
   ]
  },
  {
   "cell_type": "code",
   "execution_count": null,
   "id": "31023782-2be3-426c-a182-26e357392b71",
   "metadata": {},
   "outputs": [],
   "source": [
    "# Example that raises an error\n",
    "ds.sel(longitude = 0.0)"
   ]
  },
  {
   "cell_type": "markdown",
   "id": "192988cc-305b-4a37-b733-134fa9565a80",
   "metadata": {},
   "source": [
    "There are two ways around it:\n",
    "1. Obtain the nearest values by adding the `method = \"nearest\"` option in `.sel()`\n",
    "2. Interpolate the values to the point you want"
   ]
  },
  {
   "cell_type": "code",
   "execution_count": null,
   "id": "a57ba273-a955-478a-a164-a2e6f054cebf",
   "metadata": {},
   "outputs": [],
   "source": [
    "# Using method = \"nearest\": See the longitude 0.125 is selected\n",
    "ds.sel(longitude = 0.0, method = \"nearest\")"
   ]
  },
  {
   "cell_type": "code",
   "execution_count": null,
   "id": "ed76c858-526e-43c9-8549-6cb52313b6b4",
   "metadata": {},
   "outputs": [],
   "source": [
    "# Interpolating to your point (e.g. London 51.51°N, 0.13°W): See the coordinates are the precise point you want.\n",
    "# By default, a linear interpolation is performed. \n",
    "ds.interp(latitude = 51.51, longitude = 0.13)"
   ]
  },
  {
   "cell_type": "markdown",
   "id": "278bafc4-a11a-4ac2-9608-0626b2bf7745",
   "metadata": {},
   "source": [
    "#### Slices: subset a range of values\n",
    "Sometimes, you want to subset over a range of coordinates. In that case, you can use `.sel()` with `slice`.\n",
    "\n",
    "**NB: The order of the boundaries in `slice`has to follow the order of the dimensions you are selecting on.** i.e. if latitude is stored from -90° to +90°, you will have to select from the smallest latitude to the highest (e.g. `slice(-10, 10)`, and vice versa."
   ]
  },
  {
   "cell_type": "code",
   "execution_count": null,
   "id": "0fb9cb86-ac9e-4a52-ac45-cc5da0263e93",
   "metadata": {},
   "outputs": [],
   "source": [
    "# Select longitude between -5 and -2: See the longitude dimension is now 12 instead of 52.\n",
    "ds.sel(longitude = slice(-5, -2))"
   ]
  },
  {
   "cell_type": "code",
   "execution_count": null,
   "id": "476765c9-a324-4ed0-a15e-d1b721e3f504",
   "metadata": {},
   "outputs": [],
   "source": [
    "# Select data between 1990 and 2000\n",
    "ds.sel(time = slice(\"1990\", \"2000\"))\n",
    "# See the time dimension is now 132 (=11 years *12 months) instead of 888.\n",
    "# You can also check that the dates are from Jan. 1990 to Dec. 2000"
   ]
  },
  {
   "cell_type": "markdown",
   "id": "4b29a1e6-d9e4-4f5f-a175-5ecea6f8e364",
   "metadata": {},
   "source": [
    "#### Working with time coordinates\n",
    "You might have noticed that in the above, time was selected using the \"yr\" or the \"yr-month\" syntax. xarray is rather flexible in time subsetting, and how you select depends on the frequency of your data. Basically, it understand that if you ask for \"2002-01\", you want all the data for this month, which, is our case, is only one point since the data is monthly. Had the data been daily, you would have obtained the 31 days. This is also why we can ask for \"2002\" and get the data for the whole year of 2002. \n",
    "\n",
    "Concretely, the data is stored with a very specific time stamp (for example, in our dataset, the monthly data is stored as the 15th or the 16th days of the month), and you can index with that, but it is not necessarily a good idea. \n",
    "\n",
    "This principle also apply to slices, which is why we were able to only specify the years in the example above."
   ]
  },
  {
   "cell_type": "code",
   "execution_count": null,
   "id": "c1c39391-ddba-4197-9153-b24bbfd8170f",
   "metadata": {},
   "outputs": [],
   "source": [
    "ds.sel(time = \"2002-01\") # Select the month of Jan. 2002 "
   ]
  },
  {
   "cell_type": "code",
   "execution_count": null,
   "id": "70d13c08-792e-483a-8b04-15629b37752e",
   "metadata": {},
   "outputs": [],
   "source": [
    "ds.sel(time = \"2002-01-16\") # Does the same because it that case the stamp is Jan. 16th "
   ]
  },
  {
   "cell_type": "code",
   "execution_count": null,
   "id": "cda09dc4-8aa7-4da1-9eec-6ac12e168a17",
   "metadata": {},
   "outputs": [],
   "source": [
    "ds.sel(time = \"2002\").time # Selects the whole year of 2002"
   ]
  },
  {
   "cell_type": "markdown",
   "id": "830c884f-4678-463f-b31a-30a21058935d",
   "metadata": {},
   "source": [
    "#### `.isel()`"
   ]
  },
  {
   "cell_type": "code",
   "execution_count": null,
   "id": "38ceba6a-ec0c-4fbc-b395-4c184e687a2a",
   "metadata": {},
   "outputs": [],
   "source": [
    "# Alternatively, if you now the index of the value you want instead of its coordinates, you may use .isel()\n",
    "# e.g.: Get the first time step (see it shows values for January 1950)\n",
    "ds.isel(time = 0) "
   ]
  },
  {
   "cell_type": "markdown",
   "id": "3b6e07bf-b9c3-4399-94c0-0008d1d1be6a",
   "metadata": {},
   "source": [
    "#### Your turn!"
   ]
  },
  {
   "cell_type": "code",
   "execution_count": null,
   "id": "134c064f-e2fe-417a-b6d7-761afff440ce",
   "metadata": {},
   "outputs": [],
   "source": [
    "# Task: Select the temperature for Oxford (51.75°N, 1.26°E) using the nearest value or the interpolation\n",
    "# Do not forget, you need to select the variable, then select the coordinates\n",
    "T_Oxford = ...\n",
    "# Plot the time series\n",
    "..."
   ]
  },
  {
   "cell_type": "code",
   "execution_count": null,
   "id": "0272728c-e71c-4c21-99e2-0f01aec84d75",
   "metadata": {},
   "outputs": [],
   "source": [
    "# Task: Select the precipitation over Ireland (11°E to 5°E and 51°N to 56°N)\n",
    "precip_Ireland = ...\n",
    "# Display the object\n",
    "..."
   ]
  },
  {
   "cell_type": "markdown",
   "id": "fdbc7c6a-61c5-489f-b504-0c74f62d2848",
   "metadata": {},
   "source": [
    "#### *Advanced: Subsetting on a condition with `.where()`*\n",
    "Sometimes, you want to subset data based on a condition (e.g. where Temperature is above 0°C). To do so, you can use the `.where()` method. "
   ]
  },
  {
   "cell_type": "code",
   "execution_count": null,
   "id": "774f4c9c-478b-42a2-ab7f-f7925e957fae",
   "metadata": {},
   "outputs": [],
   "source": [
    "# Technically, you can use .where to do the same as .sel, although the interest is limited\n",
    "print(ds.where(ds.time == \"2002\")) # is equivalent to ds.sel(time = \"2002\")\n",
    "print(ds.where(ds.longitude == 0.125)) \n",
    "# However, note where masks the data according to your condition, it does not subset it.\n",
    "# In the examples above, the dimensions have not been reduced. \n",
    "# The data point that do not satisfy the condition have been masked (i.e. set to NaNs). \n",
    "# You can see it if you plot it\n",
    "ds.sel(time = \"2002-01\" # Select January 2002\n",
    "      ).where(ds.latitude <= 54 # The condition: latitude is below 54°N\n",
    "        ).rr.plot() # Plot precipitation"
   ]
  },
  {
   "cell_type": "code",
   "execution_count": null,
   "id": "91abc0c5-1b34-4ca3-afee-116c75b720ac",
   "metadata": {},
   "outputs": [],
   "source": [
    "# You can add the `drop = True` argument to crop the data and remove the part of the coordinates where it is all NaNs:\n",
    "ds.sel(time = \"2002-01\" # Select January 2002\n",
    "      ).where(ds.latitude <= 54, # The condition: latitude is below 54°N\n",
    "              drop = True\n",
    "        ).rr.plot() # Plot precipitation\n",
    "# Notice the latitude axis has been cropped"
   ]
  },
  {
   "cell_type": "code",
   "execution_count": null,
   "id": "c399cf97-4d3f-43cd-a926-bda247f7932c",
   "metadata": {},
   "outputs": [],
   "source": [
    "# .where is more useful where you want to subset based on the values of a variables, and not a coordinate\n",
    "# For example, let us subset to where and when the monthly temperature was below 0°C\n",
    "ds_freezing = ds.where(ds.tg < 0,)\n",
    "ds_freezing"
   ]
  },
  {
   "cell_type": "code",
   "execution_count": null,
   "id": "ac4dedee-7439-4815-9d42-8cb09aee89e0",
   "metadata": {},
   "outputs": [],
   "source": [
    "# Plot the freezing placing in December 1950 and 2022\n",
    "ds_freezing.sel(time = \"1950-12\").tg.plot()"
   ]
  },
  {
   "cell_type": "code",
   "execution_count": null,
   "id": "73fe685a-20b9-4ff6-bdde-89886fd056f0",
   "metadata": {},
   "outputs": [],
   "source": [
    "ds_freezing.sel(time = \"2022-12\").tg.plot()"
   ]
  },
  {
   "cell_type": "code",
   "execution_count": null,
   "id": "e53aeaf1-4bc8-49ef-8b56-9c26b4b3cb3d",
   "metadata": {},
   "outputs": [],
   "source": [
    "# List of the freezing months in Oxford\n",
    "T_Oxford.where(T_Oxford < 0, drop = True).time"
   ]
  },
  {
   "cell_type": "markdown",
   "id": "f588ca01-bbf4-4db1-ae36-ed094cdddaa9",
   "metadata": {},
   "source": [
    "### Computation\n",
    "You can perform many operations directly on the DataArrays"
   ]
  },
  {
   "cell_type": "markdown",
   "id": "a81ae0bb-9ddb-45e9-9805-146276010aec",
   "metadata": {},
   "source": [
    "#### Arithmetics"
   ]
  },
  {
   "cell_type": "code",
   "execution_count": null,
   "id": "34705551-c336-4519-8700-70df93156e6a",
   "metadata": {},
   "outputs": [],
   "source": [
    "# Example: Add a constant to transform temperature to K\n",
    "T_Kelvin = T_Oxford + 273.15\n",
    "\n",
    "# Nota: When you change perform such operation, you may want to change the units in the attributes\n",
    "T_Kelvin.attrs[\"units\"] = 'K'\n",
    "\n",
    "T_Kelvin"
   ]
  },
  {
   "cell_type": "code",
   "execution_count": null,
   "id": "80ab6e6e-07d1-40e7-a031-eaad1d57ec65",
   "metadata": {},
   "outputs": [],
   "source": [
    "# Task: Convert the pressure to Pa\n",
    "P_Pa = ... # Convert by multiplying by 100\n",
    "... # Change \"units\" attribute\n",
    "P_Pa # Display the new object"
   ]
  },
  {
   "cell_type": "code",
   "execution_count": null,
   "id": "551509b6-3091-44a6-beb8-536ab79c45e0",
   "metadata": {},
   "outputs": [],
   "source": [
    "# You can also apply numpy functions\n",
    "# Here is an example with the square root of pressure (note it makes no sense physically)\n",
    "np.sqrt(ds.pp)"
   ]
  },
  {
   "cell_type": "markdown",
   "id": "dc71bb3d-9536-4dee-ad73-11bab0c8a090",
   "metadata": {},
   "source": [
    "#### Statistics\n",
    "You can perform all basic statistical operations directly on the DataArrays"
   ]
  },
  {
   "cell_type": "code",
   "execution_count": null,
   "id": "9183054e-fa25-4b43-b74e-43a016f76ed3",
   "metadata": {},
   "outputs": [],
   "source": [
    "# Example: Compute the mean temperature over all dimensions\n",
    "ds.tg.mean()"
   ]
  },
  {
   "cell_type": "code",
   "execution_count": null,
   "id": "9067d709-8efd-4e62-827a-16bb1b0575d2",
   "metadata": {},
   "outputs": [],
   "source": [
    "# Task: Compute the mean temperature in Oxford\n",
    "...\n",
    "# Question: Is Oxford warmer or colder than the UK overall?"
   ]
  },
  {
   "cell_type": "code",
   "execution_count": null,
   "id": "61cf746c-35c8-4ec1-9333-221d38d68986",
   "metadata": {},
   "outputs": [],
   "source": [
    "# Task: compute the standard devation of the pressure with the std method\n",
    "..."
   ]
  },
  {
   "cell_type": "code",
   "execution_count": null,
   "id": "6b1478aa-5eed-4ecd-b10c-910bd30c2a5e",
   "metadata": {},
   "outputs": [],
   "source": [
    "# You may apply these operations only over a subset of dimensions\n",
    "# Example: Compute the mean temperature over time only\n",
    "ds.tg.mean(\"time\") # Notice the DataArray now has only longitude and latitude as coordinates"
   ]
  },
  {
   "cell_type": "code",
   "execution_count": null,
   "id": "2adf4340-bf7c-43e0-b4c1-bd22ad8ecbaf",
   "metadata": {},
   "outputs": [],
   "source": [
    "ds.tg.mean(\"time\").plot() # Plot of the mean temperature"
   ]
  },
  {
   "cell_type": "code",
   "execution_count": null,
   "id": "0756be9a-4711-4c21-b3e7-43d3deff3068",
   "metadata": {},
   "outputs": [],
   "source": [
    "# Task: Compute the mean over time of Ireland's precipitation\n",
    "precip_Ireland_climatology = ... # Compute mean over time of precip\n",
    "... # Display the object"
   ]
  },
  {
   "cell_type": "code",
   "execution_count": null,
   "id": "0ac45ec8-4f46-4d10-a8db-4ff0bd075692",
   "metadata": {},
   "outputs": [],
   "source": [
    "# Task: Plot the mean precipitation over Ireland\n",
    "..."
   ]
  },
  {
   "cell_type": "markdown",
   "id": "70ab4198-9ce8-4834-aaee-411514ed787f",
   "metadata": {},
   "source": [
    "#### Areal means"
   ]
  },
  {
   "cell_type": "markdown",
   "id": "8871b8bd-99a2-474f-81a9-8d6e39a75231",
   "metadata": {},
   "source": [
    "With xarray, you can average over as many variable as you want. However, when computing areal means, always, ALWAYS, remember that all the cell in your data might not have the same surface! Therefore, you need to weight your average by the surface of the cell. \n",
    "For longitude-latitude data like ours, the area of each cell is proportional to the cosinus of the latitude.\n",
    "\n",
    "Below, we show the average over latitude and longitude with a without weighting. Notice the difference between the two results. "
   ]
  },
  {
   "cell_type": "code",
   "execution_count": null,
   "id": "ee5acbbc-1de5-44f6-bf2d-328091883e8f",
   "metadata": {},
   "outputs": [],
   "source": [
    "# You can average very simply over several variables, e.g.,\n",
    "ds.tg.mean([\"longitude\", \"latitude\"])"
   ]
  },
  {
   "cell_type": "code",
   "execution_count": null,
   "id": "6751839e-01fa-44c0-90af-c447ccbb5232",
   "metadata": {},
   "outputs": [],
   "source": [
    "# However, when you average data over space, remember to always be careful about the curvature of the Earth. \n",
    "# To account for it, and get a real areal mean, use a weighted mean\n",
    "lat_rad = np.deg2rad(ds.latitude) # Get latitude in radians\n",
    "ds.tg.weighted(np.cos(lat_rad)).mean([\"latitude\", \"longitude\"]) # Apply weights corresponding to the cosinus of the latitude before the mean\n",
    "# Notice the values are slightly different than they were before"
   ]
  },
  {
   "cell_type": "markdown",
   "id": "9aa5eb1e-95c2-4239-940c-81d738acaf75",
   "metadata": {},
   "source": [
    "## Grouping\n",
    "[See how much about grouping is covered in the pandas file]"
   ]
  },
  {
   "cell_type": "code",
   "execution_count": null,
   "id": "568902bc-41f9-4036-993e-dbb3167a48ba",
   "metadata": {},
   "outputs": [],
   "source": [
    "# To group we need a variable that contains the groups we want. Here, let us create a year variable:\n",
    "ds[\"year\"] = ds.time.dt.year\n",
    "ds.year"
   ]
  },
  {
   "cell_type": "code",
   "execution_count": null,
   "id": "fe8d0e34-3e78-45e4-8071-7b8877b83ef6",
   "metadata": {},
   "outputs": [],
   "source": [
    "# Now we can group along year\n",
    "ds.groupby(\"year\")"
   ]
  },
  {
   "cell_type": "code",
   "execution_count": null,
   "id": "d010c950-488f-49f5-9e63-9a2510fc6526",
   "metadata": {},
   "outputs": [],
   "source": [
    "# and we can perform operations on these groups\n",
    "print(ds.groupby(\"year\").max()) # Maximum value per year\n",
    "print(ds.groupby(\"year\").mean()) # Yearly average"
   ]
  },
  {
   "cell_type": "code",
   "execution_count": null,
   "id": "2a0b8dbb-77b2-4743-b6bb-bf16bee4fad9",
   "metadata": {},
   "outputs": [],
   "source": [
    "# For time coordinates, there is actually a more convenient way to do it, as you can access the components of times directly (e.g. time.year, time.month)\n",
    "print(ds.groupby(\"time.year\").mean()) # Yearly average\n",
    "print(ds.groupby(\"time.month\").mean()) # Average over all months (=seasonal cycle)\n",
    "print(ds.groupby(\"time.dayofyear\").mean()) # Average over each day. \n",
    "# Note: dayofyear does not make a lot of sense hear as we are using monthly data, but it is useful to keep in mind for daily or hourly data."
   ]
  },
  {
   "cell_type": "code",
   "execution_count": null,
   "id": "ffc0e724-7d94-4a80-b7bb-89ec38f78280",
   "metadata": {},
   "outputs": [],
   "source": [
    "# Task: Compute the yearly temperature in Oxford\n",
    "T_Oxford_yearly = ...\n",
    "# Plot it\n",
    "..."
   ]
  },
  {
   "cell_type": "markdown",
   "id": "2edb20c0-8c44-4882-83a3-db8fe0637478",
   "metadata": {},
   "source": [
    "## Saving to netcdf\n",
    "In some cases, you are going to want to save the result of your code. You can use the `to_netcdf()`method to do so."
   ]
  },
  {
   "cell_type": "code",
   "execution_count": null,
   "id": "060c735f-06e5-45d9-8d58-fa9c7ef4a40d",
   "metadata": {},
   "outputs": [],
   "source": [
    "T_Oxford_yearly.to_netcdf(\"T_oxford_yearly.nc\")"
   ]
  },
  {
   "cell_type": "markdown",
   "id": "04d00772-8a78-45ca-9a4d-ccc47271e99b",
   "metadata": {},
   "source": [
    "## Wrap-up on the two analyses"
   ]
  },
  {
   "cell_type": "code",
   "execution_count": null,
   "id": "c0bbe044-b2c9-4f4a-8e43-1fd288527829",
   "metadata": {},
   "outputs": [],
   "source": [
    "# Yearly time series of temperature over Oxford\n",
    "ds = xr.open_dataset(file) # Open the file\n",
    "T = ds.tg # Select temperature\n",
    "T_Oxford = T.interp(latitude = 51.75, longitude = -1.26,) # Interpolate the temperature to Oxford's coordinates\n",
    "T_Oxford_yearly = T_Oxford.groupby(\"time.year\").mean() # Compute the mean by year\n",
    "T_Oxford_yearly.plot() #Plot"
   ]
  },
  {
   "cell_type": "code",
   "execution_count": null,
   "id": "e407d7a5-74c3-4c5c-aa43-8d9c33461bae",
   "metadata": {},
   "outputs": [],
   "source": [
    "# Precipitation climatology over Ireland\n",
    "ds = xr.open_dataset(file) # Open the file\n",
    "precip = ds.rr # Select temperature\n",
    "precip_Ireland = ds.rr.sel(longitude = slice(-11,-5), latitude = slice(51,56)) # Select Ireland\n",
    "precip_Ireland_climatology = precip_Ireland.mean(\"time\") # Average over time\n",
    "precip_Ireland_climatology.plot() # Plot"
   ]
  },
  {
   "cell_type": "markdown",
   "id": "6b13a801-085b-463d-81f9-8a1030a12016",
   "metadata": {},
   "source": [
    "## Customize your xarray plots"
   ]
  },
  {
   "cell_type": "code",
   "execution_count": null,
   "id": "b2c4febc-9908-4501-b6f0-9cd928fed136",
   "metadata": {},
   "outputs": [],
   "source": [
    "# Time series\n",
    "T_Oxford_yearly.plot.line(\n",
    "    color = \"red\", linestyle = \"--\", linewidth = 2, #Change line properties\n",
    "    marker = \"o\", # Add markers at data points\n",
    "    ylim = (7,12), # Change y-axis range\n",
    "    figsize = [10,4] # Change figure size\n",
    ")\n",
    "plt.title(\"Yearly temperature in Oxford\") # Change the default title\n",
    "plt.xlabel(\"\") # Remove x label\n",
    "plt.ylabel(\"10m-temperature (°C)\")"
   ]
  },
  {
   "cell_type": "code",
   "execution_count": null,
   "id": "7fcb4807-8911-49cf-9c90-9d6a9b6508a0",
   "metadata": {},
   "outputs": [],
   "source": [
    "# Maps\n",
    "## pcolormesh vs. contourf\n",
    "plt.figure()\n",
    "precip_Ireland_climatology.plot.pcolormesh() # default plot\n",
    "plt.figure()\n",
    "precip_Ireland_climatology.plot.contourf()"
   ]
  },
  {
   "cell_type": "code",
   "execution_count": null,
   "id": "fe7683a4-7c18-40cf-af1c-581d0966e433",
   "metadata": {},
   "outputs": [],
   "source": [
    "## Customization (works for pcolormesh or contourf\n",
    "plt.figure()\n",
    "precip_Ireland_climatology.plot.contourf(\n",
    "    vmin = 0, vmax = 5, # Set value range for colors\n",
    "    cmap = \"YlGnBu\", # change colormap\n",
    "    levels = 11, # Split the colormap in 11 colors\n",
    "    cbar_kwargs = dict(label = \"Precipitation (mm)\"), # Label the colorbar\n",
    ")\n",
    "plt.title(\"Ireland precipitation climatology over 1950-2023\")\n",
    "plt.xlabel(\"Longitude (°W)\")\n",
    "plt.ylabel(\"Latitude (°N)\")"
   ]
  },
  {
   "cell_type": "markdown",
   "id": "0c582ed3-30e1-4cfc-8ae6-8e4562673424",
   "metadata": {},
   "source": [
    "For more on maps, check out the maps notebook!"
   ]
  }
 ],
 "metadata": {
  "kernelspec": {
   "display_name": "Python 3 (ipykernel)",
   "language": "python",
   "name": "python3"
  },
  "language_info": {
   "codemirror_mode": {
    "name": "ipython",
    "version": 3
   },
   "file_extension": ".py",
   "mimetype": "text/x-python",
   "name": "python",
   "nbconvert_exporter": "python",
   "pygments_lexer": "ipython3",
   "version": "3.10.15"
  }
 },
 "nbformat": 4,
 "nbformat_minor": 5
}
